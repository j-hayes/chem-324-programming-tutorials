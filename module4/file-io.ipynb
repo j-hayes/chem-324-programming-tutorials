{
 "cells": [
  {
   "cell_type": "markdown",
   "metadata": {},
   "source": [
    "# Input Output (IO) \n",
    "Often one wants to store the results of their program runs. This is done by saving the data to a file or database. We will focus on storing to files. \n",
    "\n",
    "To acheive this we will use the input output (here after abreviated IO) capabilites of Julia. \n",
    "\n",
    "You have actually been using a type of output through out the previous modules. Printing to the console is a form of io, e.g. ```println(\"hello world\")```\n",
    "\n",
    "There is a corresponding way to read user input from the console however it doesn't work in these Jupyter notebook so you need to run it in a regular julia file. Copy and paste the following lines of code into a julia file and run it locally. (Or run [module-4-hello-input.jl](./module-4-hello-input.jl))\n",
    "\n",
    "``` julia\n",
    "print(\"Please Tell Me Your Name and Press Enter: \")\n",
    "a = readline() #This line reads the text from the user in the console after they click the enter key. \n",
    "println(\"hello $(a)\")\n",
    "```\n"
   ]
  },
  {
   "cell_type": "markdown",
   "metadata": {},
   "source": [
    "## File IO\n",
    "\n",
    "One of the most common type of IO is reading and writing to a file. There are many formats that we can store data on a file. Some common human readable formats: \n",
    "\n",
    "- Plain Text (.txt extension)\n",
    "- Comma Separated Values (.csv extension)\n",
    "- Javascript Object Notation (.json extension) \n",
    "\n",
    "We will show examples of reading and writing to all of these. \n",
    "\n",
    "### Writing to Plain Text\n",
    "\n",
    "The first step is to create an object called an IOStream that points to the file we want to write to. Julia provides us the function open() to do this. The function takes two arguments: \n",
    "- The path of the file\n",
    "- a character code signifying what we are going to do with the file\n",
    "  - r\t\n",
    "    - read\n",
    "  - w\t\n",
    "    - write and overwrite exiting data in the file (truncate)\n",
    "  - a\t\n",
    "    - write and append to the end\n",
    "  - r+\n",
    "    - read, write\t\n",
    "  - w+\t\n",
    "    - read, write, create (a file that doesn't exist yet), truncate\ttruncate\n",
    "  - a+\t\n",
    "    - read, write, create, append\n",
    "\n",
    "Next to write to the file we use the function write(). The first argument passed to write is our IOStream, the second is the text we want to write. \n",
    "\n",
    "Finally you must close the IOStream (Otherwise other processes on the computer won't be able to use it, i.e. you won't be able to open it). "
   ]
  },
  {
   "cell_type": "code",
   "execution_count": 27,
   "metadata": {},
   "outputs": [],
   "source": [
    "io = open(\"hello_output.txt\", \"w+\"); \n",
    "write(io, \"Hello File Output\")\n",
    "close(io)\n"
   ]
  },
  {
   "cell_type": "markdown",
   "metadata": {},
   "source": [
    "After running the above code you should be able to open the file [hello_output.txt](./hello_output.txt) and see its contents.\n",
    "\n",
    "Now lets write other text to it using write and see that the data clears and puts in the new text. "
   ]
  },
  {
   "cell_type": "code",
   "execution_count": 28,
   "metadata": {},
   "outputs": [],
   "source": [
    "io = open(\"hello_output.txt\", \"w+\"); \n",
    "write(io, \"Different Text \\n\") #the \\n means create a new line after this text\n",
    "close(io)"
   ]
  },
  {
   "cell_type": "markdown",
   "metadata": {},
   "source": [
    "Now lets append instead:"
   ]
  },
  {
   "cell_type": "code",
   "execution_count": 29,
   "metadata": {},
   "outputs": [],
   "source": [
    "io = open(\"hello_output.txt\", \"a\"); \n",
    "write(io, \"A second line of text \\n\")\n",
    "close(io)"
   ]
  },
  {
   "cell_type": "markdown",
   "metadata": {},
   "source": [
    "To make that \\n more clear lets do one more append without it and see the result. (You can run this code over and over and it will keep writing on the same line.) "
   ]
  },
  {
   "cell_type": "code",
   "execution_count": 33,
   "metadata": {},
   "outputs": [],
   "source": [
    "io = open(\"hello_output.txt\", \"a\"); \n",
    "write(io, \"A third line \")\n",
    "write(io, \"of text. \")\n",
    "close(io)"
   ]
  },
  {
   "cell_type": "markdown",
   "metadata": {},
   "source": [
    "### Reading from Plain Text\n",
    "\n",
    "Now we will read from a text file: [hello_file_input.txt](./hello_file_input.txt). The process is basically the same, but we will use the function readline() instead of write. \n"
   ]
  },
  {
   "cell_type": "code",
   "execution_count": 34,
   "metadata": {},
   "outputs": [
    {
     "name": "stdout",
     "output_type": "stream",
     "text": [
      "line 1\n"
     ]
    }
   ],
   "source": [
    "io = open(\"./hello_file_input.txt\", \"r\"); \n",
    "our_input = readline(io) #reads one line from the file\n",
    "close(io)\n",
    "\n",
    "println(our_input)"
   ]
  },
  {
   "cell_type": "markdown",
   "metadata": {},
   "source": [
    "Text files usually have more than one line, so we want a way to read all of the text. There are two ways of doing this. There are reasons for doing one or the other.\n",
    "\n",
    "- Use the readlines() function which returns all of the lines in an array of strings.\n",
    "  - You know you want all the lines, the file is small enough that it doesn't matter to get them all at once\n",
    "- Loop using the readline() funtion until the read method gives you an end of file message using the eof() function.\n",
    "  - You are searching for specific text so you don't need the whole file and can stop once you've found what you want, the file is too large to put into memory all at once, i.e. the file has more data than your computer has RAM ~16 GB.\n",
    "\n",
    "#### Loop Read"
   ]
  },
  {
   "cell_type": "code",
   "execution_count": 35,
   "metadata": {},
   "outputs": [
    {
     "name": "stdout",
     "output_type": "stream",
     "text": [
      "line 1\n",
      "line 2\n",
      "line 3\n",
      "line 4\n"
     ]
    }
   ],
   "source": [
    "io = open(\"./hello_file_input_multiline.txt\", \"r\"); \n",
    "while !eof(io) # while the iostream has not reached the end of the file\n",
    "    our_input = readline(io) #reads one line at a timee\n",
    "    println(our_input)\n",
    "    if our_input == \"line 4\"\n",
    "        break # stop at line 4\n",
    "    end\n",
    "end\n",
    "close(io)"
   ]
  },
  {
   "cell_type": "markdown",
   "metadata": {},
   "source": [
    "#### readlines()"
   ]
  },
  {
   "cell_type": "code",
   "execution_count": 36,
   "metadata": {},
   "outputs": [
    {
     "name": "stdout",
     "output_type": "stream",
     "text": [
      "line 1\n",
      "line 2\n",
      "line 3\n",
      "line 4\n",
      "line 5\n"
     ]
    }
   ],
   "source": [
    "io = open(\"./hello_file_input_multiline.txt\", \"r\"); \n",
    "our_input = readlines(io) #reads one line at a timee\n",
    "for input in our_input\n",
    "    println(input)\n",
    "end \n",
    "\n",
    "close(io)"
   ]
  },
  {
   "cell_type": "markdown",
   "metadata": {},
   "source": [
    "### Comma Separated Lists\n",
    "\n",
    "Comma separated lists are a convenient way to store tabular data (e.g. tables, matrices, spreadsheets). The following table\n",
    "\n",
    "|-------|-------|------|-------|----|\n",
    "|-------|-------|------|-------|----|\n",
    "| hello | table | text | here  | is |\n",
    "| some  | stuff | 1    | 4     | 3  |\n",
    "| 8     | 8     | 8    | 8     | 8  |\n",
    "\n",
    "would be represented as:\n",
    "\n",
    "hello,table,text,here,is\n",
    "\n",
    "some,stuff,1,4,3 \n",
    "\n",
    "8,8,8,8,8 \n",
    "\n",
    "You can see an example file here: [example.csv](./example.csv) \n",
    "\n",
    "You can also open this file in Excel. You can also export excel files to csv.\n",
    "Export data to a text file by saving it\n",
    "\n",
    "You can convert an Excel worksheet to a text file by using the Save As command: [Detailed Instructions ](https://support.microsoft.com/en-us/office/import-or-export-text-txt-or-csv-files-5250ac4c-663c-47ce-937b-339e391393ba)\n",
    "\n",
    "- Go to File > Save As.\n",
    "\n",
    "- Click Browse.\n",
    "\n",
    "- In the Save As dialog box, under Save as type box, choose the text file format for the worksheet; for example, click Text (Tab delimited) or CSV (Comma delimited).\n",
    "\n",
    "There is also a vs-code extension to modify CSV files. \n",
    "Name: Edit csv\n",
    "VS Marketplace Link: https://marketplace.visualstudio.com/items?itemName=janisdd.vscode-edit-csv\n",
    "\n",
    "\n"
   ]
  },
  {
   "cell_type": "markdown",
   "metadata": {},
   "source": [
    "### Reading from CSV\n",
    "\n",
    "Csv files are actually just text files, you don't have to name them csv for this to work, you could have a text file with comma separated data, so we will read from them and write to them in the same way. "
   ]
  },
  {
   "cell_type": "code",
   "execution_count": 37,
   "metadata": {},
   "outputs": [
    {
     "name": "stdout",
     "output_type": "stream",
     "text": [
      "row1,row2,row3,row4,row5\n",
      "39.765,61.974,49.116,98.257,39.836\n",
      "17.807,63.734,77.89,42.989,34.118\n",
      "60.773,78.374,30.569,81.741,25.595\n",
      "93.595,80.359,8.917,13.898,63.927\n",
      "32.753,51.49,21.208,71.139,86.566\n",
      "40.095,33.315,35.285,64.109,63.314\n",
      "22.353,56.237,53.043,26.098,66.377\n",
      "3.748,86.25,43.815,13.613,95.699\n",
      "86.384,70.958,36.108,34.371,67.863\n",
      "21.923,96.298,7.348,52.789,53.525\n",
      "94.17,41.767,84.59,8.32,27.025\n",
      "56.678,98.974,47.716,8.437,99.16\n",
      "82.14,38.983,10.205,90.33,11.064\n",
      "70.442,76.169,43.986,96.74,92.048\n",
      "51.474,96.682,73.766,61.426,43.427\n"
     ]
    }
   ],
   "source": [
    "io = open(\"./example.csv\", \"r\"); \n",
    "our_input = readlines(io) #reads one line at a time\n",
    "for input in our_input\n",
    "    println(input)\n",
    "end \n",
    "\n",
    "close(io)"
   ]
  },
  {
   "cell_type": "markdown",
   "metadata": {},
   "source": [
    "What if we want to get the values from the csv and use them individually, for example putting them in a matrix and printing the matrix in a nice fasion using the display() function.  \n",
    "\n",
    "readline() and readlines() return a string or an array of strings representing the rows respectively. So we need to take two steps, take each row and split it into individual items and then put them in the correct place in the matrix. For this first example we will assume we know the size of the matrix up front.\n"
   ]
  },
  {
   "cell_type": "code",
   "execution_count": 38,
   "metadata": {},
   "outputs": [
    {
     "data": {
      "text/plain": [
       "15×5 Matrix{Float64}:\n",
       " 39.765  61.974  49.116  98.257  39.836\n",
       " 17.807  63.734  77.89   42.989  34.118\n",
       " 60.773  78.374  30.569  81.741  25.595\n",
       " 93.595  80.359   8.917  13.898  63.927\n",
       " 32.753  51.49   21.208  71.139  86.566\n",
       " 40.095  33.315  35.285  64.109  63.314\n",
       " 22.353  56.237  53.043  26.098  66.377\n",
       "  3.748  86.25   43.815  13.613  95.699\n",
       " 86.384  70.958  36.108  34.371  67.863\n",
       " 21.923  96.298   7.348  52.789  53.525\n",
       " 94.17   41.767  84.59    8.32   27.025\n",
       " 56.678  98.974  47.716   8.437  99.16\n",
       " 82.14   38.983  10.205  90.33   11.064\n",
       " 70.442  76.169  43.986  96.74   92.048\n",
       " 51.474  96.682  73.766  61.426  43.427"
      ]
     },
     "metadata": {},
     "output_type": "display_data"
    }
   ],
   "source": [
    "io = open(\"./example.csv\", \"r\"); \n",
    "our_input = readlines(io) #reads one line at a time\n",
    "csv_values = zeros(15,5)\n",
    "row = 1\n",
    "for input in our_input[2:end] # for each skipping the first row (header) row\n",
    "    row_values = split(input, \",\")\n",
    "    column = 1\n",
    "    for value in row_values\n",
    "        numerical_value = parse(Float64, value) # convert the string to a Float64\n",
    "        csv_values[row,column] = numerical_value # put it in the matrix\n",
    "        column += 1 # increment our column position in the row \n",
    "    end\n",
    "    row += 1 #now that we have done all of the columns for the row, increment to the next row\n",
    "end \n",
    "close(io)\n",
    "\n",
    "display(csv_values)\n"
   ]
  },
  {
   "cell_type": "markdown",
   "metadata": {},
   "source": [
    "I have also attached an example that does not assume it knows the amount of data in the csv. [csv_print.jl](./csv_print.jl) In it I use the package CSV.jl and DataFrames.jl packages which handles all the CSV parsing for us. "
   ]
  },
  {
   "cell_type": "markdown",
   "metadata": {},
   "source": [
    "### Writing CSV\n",
    "Here is a not very efficient but illustrative way of how to create a csv file"
   ]
  },
  {
   "cell_type": "code",
   "execution_count": 39,
   "metadata": {},
   "outputs": [],
   "source": [
    "\n",
    "io = open(\"./write_to_csv.csv\", \"w+\"); \n",
    "data = [1 2 3; 4 5 6; 7 8 9]\n",
    "for i in 1:3\n",
    "    for j in 1:3\n",
    "        csv_text = \"$(data[i,j])\"\n",
    "        if j != 3 #don't use comma if there\n",
    "            csv_text =  csv_text * \",\" #concatenates the strings \n",
    "        end\n",
    "        write(io, csv_text)\n",
    "    end\n",
    "    write(io, \"\\n\") # add new line\n",
    "end\n",
    "close(io)\n"
   ]
  },
  {
   "cell_type": "markdown",
   "metadata": {},
   "source": [
    "Again the better way to do this is using CSV.jl "
   ]
  },
  {
   "cell_type": "code",
   "execution_count": 40,
   "metadata": {},
   "outputs": [],
   "source": [
    "using Tables, CSV\n",
    "io = open(\"./write_to_csv_with_package.csv\", \"w+\"); \n",
    "data = [1 2 3; 4 5 6; 7 8 9]\n",
    "table  = Tables.table(data)\n",
    "CSV.write(io, table)\n",
    "close(io)"
   ]
  },
  {
   "cell_type": "markdown",
   "metadata": {},
   "source": [
    "## JSON (Javascript Object Notation)\n",
    "\n",
    "JSON is a way of storing \"object\" data in a file that is human readable. Each property is denoted by a \"NAME_OF_PROPERTY\" then a : then the value for that property. Properties can be lists. The items which are comma separated and surrounded by []. \n",
    "You can read and write to JSON files using the JSON.jl package.\n",
    "\n",
    "A simple example of a javascript object for a simple struct: \n",
    "\n",
    "``` Julia\n",
    "mutable struct Bike \n",
    "    weight :: Float64\n",
    "    make :: String\n",
    "    x_position :: Int\n",
    "    y_position :: Int\n",
    "\n",
    "end\n",
    "```\n",
    "\n",
    "``` JSON\n",
    "{\n",
    "    \"weight\" : 10.39,\n",
    "    \"make\"  : \"Trek\",\n",
    "    \"x_position\" : 10,\n",
    "    \"y_position\" : -2\n",
    "}\n",
    "\n",
    "```\n",
    "\n",
    "Here is a more complex example that is an export of the bike simulation, with arrays of data.\n",
    "\n",
    "``` JSON\n",
    "{\n",
    "  \"bikes\": [\n",
    "    {\n",
    "      \"bike_attributes\": {\n",
    "        \"make\": \"Make1\",\n",
    "        \"model\": \"Model1\",\n",
    "        \"weight\": 15.04,\n",
    "        \"drag_coefficient\": 0.746\n",
    "      },\n",
    "      \"x_position\": 0,\n",
    "      \"y_position\": 3\n",
    "    },\n",
    "    {\n",
    "      \"bike_attributes\": {\n",
    "        \"make\": \"Make1\",\n",
    "        \"model\": \"Model1\",\n",
    "        \"weight\": 19.4,\n",
    "        \"drag_coefficient\": 0.597\n",
    "      },\n",
    "      \"x_position\": 2,\n",
    "      \"y_position\": 99\n",
    "    }\n",
    "  ],\n",
    "  \"current_time\": 5,\n",
    "  \"timed_bike_positions\": [\n",
    "    [\n",
    "      [1, 1, 1, 0],\n",
    "      [1, 1, 2, 3]\n",
    "    ],\n",
    "    [\n",
    "      [1, 2, 1, 2],\n",
    "      [100, 99, 99, 99]\n",
    "    ]\n",
    "  ],\n",
    "  \"simulation_run_time\": 4\n",
    "}\n",
    "\n",
    "```\n",
    "Note: The above JSON has been \"pretty printed\" so it is easier to read. The white spacing and multiple lines are not strictly necessary. \n",
    "\n",
    "JSON parse method will return what is called a Dictionary. It is an object that has the ability to look up items in it by name using the following syntax: \n"
   ]
  },
  {
   "cell_type": "code",
   "execution_count": 41,
   "metadata": {},
   "outputs": [
    {
     "name": "stdout",
     "output_type": "stream",
     "text": [
      "hello\n",
      "1.23\n"
     ]
    }
   ],
   "source": [
    "my_dict = Dict()\n",
    "my_dict[\"hello_key\"] = \"hello\"\n",
    "my_dict[\"some_other_property\"] = 1.23\n",
    "\n",
    "println(my_dict[\"hello_key\"])\n",
    "println(my_dict[\"some_other_property\"])"
   ]
  },
  {
   "cell_type": "markdown",
   "metadata": {},
   "source": [
    "#### JSON Example Code"
   ]
  },
  {
   "cell_type": "code",
   "execution_count": 42,
   "metadata": {},
   "outputs": [
    {
     "data": {
      "text/plain": [
       "\"all bikes\""
      ]
     },
     "metadata": {},
     "output_type": "display_data"
    },
    {
     "data": {
      "text/plain": [
       "2-element Vector{Any}:\n",
       " Dict{String, Any}(\"y_position\" => 3, \"bike_attributes\" => Dict{String, Any}(\"make\" => \"Make1\", \"weight\" => 15.04, \"model\" => \"Model1\", \"drag_coefficient\" => 0.746), \"x_position\" => 0)\n",
       " Dict{String, Any}(\"y_position\" => 99, \"bike_attributes\" => Dict{String, Any}(\"make\" => \"Make1\", \"weight\" => 19.4, \"model\" => \"Model1\", \"drag_coefficient\" => 0.597), \"x_position\" => 2)"
      ]
     },
     "metadata": {},
     "output_type": "display_data"
    },
    {
     "data": {
      "text/plain": [
       "\"bike 1 x position\""
      ]
     },
     "metadata": {},
     "output_type": "display_data"
    },
    {
     "data": {
      "text/plain": [
       "0"
      ]
     },
     "metadata": {},
     "output_type": "display_data"
    }
   ],
   "source": [
    "using JSON \n",
    "\n",
    "mutable struct Bike \n",
    "    weight :: Float64\n",
    "    make :: String\n",
    "    x_position :: Int\n",
    "    y_position :: Int\n",
    "\n",
    "end\n",
    "\n",
    "bike = Bike(10, \"TREK\", 3, -3)\n",
    "io = open(\"example_json_output.json\", \"w+\")\n",
    "JSON.print(io, bike)\n",
    "close(io)\n",
    "\n",
    "\n",
    "our_json_object = JSON.parsefile(\"simulation_example.json\") \n",
    "display(\"all bikes\")\n",
    "display(our_json_object[\"bikes\"])\n",
    "display(\"bike 1 x position\")\n",
    "display(our_json_object[\"bikes\"][1][\"x_position\"])\n",
    "\n"
   ]
  },
  {
   "cell_type": "markdown",
   "metadata": {},
   "source": [
    "## Exercises\n",
    "\n",
    "\n",
    "### Main Exercise\n",
    "\n",
    "Create your own program. You can do anything you want as long as it fulfils of the following criteria.\n",
    "\n",
    "Required: \n",
    "- A written problem description of what the code does and how it fulfils the requirements (1-2 paragraphs)\n",
    "- Can take in multiple inputs and give correct different outputs\n",
    "- Do some sort of math\n",
    "- Multiple Functions (use guidance in previous modules on separation of concerns)\n",
    "  - Unit test(s) proving that it does what is supposed to (doesn't have to unit test the whole thing but tests your function)\n",
    "\n",
    "2/3 of your choice\n",
    "- Reads from a file/writes to a file\n",
    "- Matrix algebra \n",
    "- Models some data using object oriented concepts \n",
    "\n",
    "Some suggestions for inspiration: \n",
    "- Find a text book problem and create something that can solve any problem of the same type with any input\n",
    "- Create a Tick-Tac-Toe / Rock Paper Scissors game to play against the computer and keep track of scores over time\n",
    "\n",
    "Use your imagination, it can be as creative (or as trivial) as you like. I just want you to get some experience starting from just an idea and turning it into code. This exercise is likely to be the most challenging one of the whole course and may take more time than the others. If you need help, please reach out! \n",
    "\n",
    "### Preparation for Final Module \n",
    "\n",
    "Watch the Video for the final project and make sure you can run it in Google Collab. \n"
   ]
  }
 ],
 "metadata": {
  "kernelspec": {
   "display_name": "Julia 1.6.3",
   "language": "julia",
   "name": "julia-1.6"
  },
  "language_info": {
   "file_extension": ".jl",
   "mimetype": "application/julia",
   "name": "julia",
   "version": "1.6.3"
  },
  "orig_nbformat": 4
 },
 "nbformat": 4,
 "nbformat_minor": 2
}
