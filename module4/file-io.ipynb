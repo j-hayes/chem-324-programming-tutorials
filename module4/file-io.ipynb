{
 "cells": [
  {
   "cell_type": "markdown",
   "metadata": {},
   "source": [
    "# Input Output (IO) \n",
    "Often one wants to store the results of their program runs. This is done by saving the data to a file or database. We will focus on storing to files. \n",
    "\n",
    "To acheive this we will use the input output (here after abreviated IO) capabilites of Julia. \n",
    "\n",
    "You have actually been using a type of output through out the previous modules. Printing to the console is a form of io, e.g. ```println(\"hello world\")````\n",
    "\n",
    "There is a corresponding way to read user input from the console however it doesn't work in these Jupyter notebook so you need to run it in a regular julia file. Copy and paste the following lines of code into a julia file and run it locally. (Or run [module-4-hello-input.jl](./module-4-hello-input.jl))\n",
    "\n"
   ]
  },
  {
   "cell_type": "code",
   "execution_count": 1,
   "metadata": {},
   "outputs": [
    {
     "ename": "UndefVarError",
     "evalue": "UndefVarError: execute_msg not defined",
     "output_type": "error",
     "traceback": [
      "UndefVarError: execute_msg not defined\n",
      "\n",
      "Stacktrace:\n",
      "  [1] readprompt(prompt::String; password::Bool)\n",
      "    @ VSCodeServer.IJuliaCore ~/.vscode/extensions/julialang.language-julia-1.6.17/scripts/packages/IJuliaCore/src/stdio.jl:190\n",
      "  [2] readprompt\n",
      "    @ ~/.vscode/extensions/julialang.language-julia-1.6.17/scripts/packages/IJuliaCore/src/stdio.jl:190 [inlined]\n",
      "  [3] readline(io::VSCodeServer.IJuliaCore.IJuliaStdio{Base.PipeEndpoint, typeof(VSCodeServer.io_send_callback)})\n",
      "    @ VSCodeServer.IJuliaCore ~/.vscode/extensions/julialang.language-julia-1.6.17/scripts/packages/IJuliaCore/src/stdio.jl:232\n",
      "  [4] readline()\n",
      "    @ Base ./io.jl:507\n",
      "  [5] top-level scope\n",
      "    @ ~/source/chem-324-programming-tutorials/module4/file-io.ipynb:2\n",
      "  [6] eval\n",
      "    @ ./boot.jl:360 [inlined]\n",
      "  [7] include_string(mapexpr::typeof(REPL.softscope), mod::Module, code::String, filename::String)\n",
      "    @ Base ./loading.jl:1116\n",
      "  [8] #invokelatest#2\n",
      "    @ ./essentials.jl:708 [inlined]\n",
      "  [9] invokelatest\n",
      "    @ ./essentials.jl:706 [inlined]\n",
      " [10] (::VSCodeServer.var\"#160#161\"{VSCodeServer.NotebookRunCellArguments, String})()\n",
      "    @ VSCodeServer ~/.vscode/extensions/julialang.language-julia-1.6.17/scripts/packages/VSCodeServer/src/serve_notebook.jl:19\n",
      " [11] withpath(f::VSCodeServer.var\"#160#161\"{VSCodeServer.NotebookRunCellArguments, String}, path::String)\n",
      "    @ VSCodeServer ~/.vscode/extensions/julialang.language-julia-1.6.17/scripts/packages/VSCodeServer/src/repl.jl:184\n",
      " [12] notebook_runcell_request(conn::VSCodeServer.JSONRPC.JSONRPCEndpoint{Base.PipeEndpoint, Base.PipeEndpoint}, params::VSCodeServer.NotebookRunCellArguments)\n",
      "    @ VSCodeServer ~/.vscode/extensions/julialang.language-julia-1.6.17/scripts/packages/VSCodeServer/src/serve_notebook.jl:13\n",
      " [13] dispatch_msg(x::VSCodeServer.JSONRPC.JSONRPCEndpoint{Base.PipeEndpoint, Base.PipeEndpoint}, dispatcher::VSCodeServer.JSONRPC.MsgDispatcher, msg::Dict{String, Any})\n",
      "    @ VSCodeServer.JSONRPC ~/.vscode/extensions/julialang.language-julia-1.6.17/scripts/packages/JSONRPC/src/typed.jl:67\n",
      " [14] serve_notebook(pipename::String, outputchannel_logger::Base.CoreLogging.SimpleLogger; crashreporting_pipename::String)\n",
      "    @ VSCodeServer ~/.vscode/extensions/julialang.language-julia-1.6.17/scripts/packages/VSCodeServer/src/serve_notebook.jl:136\n",
      " [15] top-level scope\n",
      "    @ ~/.vscode/extensions/julialang.language-julia-1.6.17/scripts/notebook/notebook.jl:32\n",
      " [16] include(mod::Module, _path::String)\n",
      "    @ Base ./Base.jl:386\n",
      " [17] exec_options(opts::Base.JLOptions)\n",
      "    @ Base ./client.jl:285\n",
      " [18] _start()\n",
      "    @ Base ./client.jl:485"
     ]
    }
   ],
   "source": [
    "print(\"Please Tell Me Your Name and Press Enter: \")\n",
    "a = readline() #This line reads the text from the user in the console after they click the enter key. \n",
    "println(\"hello $(a)\")"
   ]
  },
  {
   "cell_type": "markdown",
   "metadata": {},
   "source": [
    "## File IO\n",
    "\n",
    "One of the most common type of IO is reading and writing to a file. There are many formats that we can store data on a file. Some common human readable formats: \n",
    "\n",
    "- Plain Txt (.txt extension)\n",
    "- Comma Separated Values (.csv extension)\n",
    "- Javascript Object Notation (.json extension) \n",
    "\n",
    "We will show examples of reading and writing to all of these. \n",
    "\n",
    "### Writing to Plain Text\n",
    "\n",
    "The first step is to create an object called an IOStream that points to the file we want to write to. Julia provides us the function open() to do this. The function takes two arguments: \n",
    "- The path of the file\n",
    "- a character code signifying what we are going to do with the file\n",
    "  - r\t\n",
    "    - read\n",
    "  - w\t\n",
    "    - write and overwrite exiting data in the file (truncate)\n",
    "  - a\t\n",
    "    - write and append to the end\n",
    "  - r+\n",
    "    - read, write\t\n",
    "  - w+\t\n",
    "    - read, write, create (a file that doesn't exist yet), truncate\ttruncate\n",
    "  - a+\t\n",
    "    - read, write, create, append\n",
    "\n",
    "Next to write to the file we use the function write(). The first argument passed to write is our IOStream, the second is the text we want to write. \n",
    "\n",
    "Finally you must close the IOStream (Otherwise other processes on the computer won't be able to use it, i.e. you won't be able to open it). "
   ]
  },
  {
   "cell_type": "code",
   "execution_count": 2,
   "metadata": {},
   "outputs": [
    {
     "name": "stdout",
     "output_type": "stream",
     "text": [
      "Please Tell Me Your Name and Press Enter: "
     ]
    }
   ],
   "source": [
    "io = open(\"hello_output.txt\", \"w+\"); \n",
    "write(io, \"Hello File Output\")\n",
    "close(io)\n"
   ]
  },
  {
   "cell_type": "markdown",
   "metadata": {},
   "source": []
  },
  {
   "cell_type": "markdown",
   "metadata": {},
   "source": [
    "After running the above code you should be able to open the file [hello_output.txt](./hello_output.txt) and see its contents.\n",
    "\n",
    "Now lets write other text to it using write and see that the data clears and puts in the new text. "
   ]
  },
  {
   "cell_type": "code",
   "execution_count": 3,
   "metadata": {},
   "outputs": [],
   "source": [
    "io = open(\"hello_output.txt\", \"w+\"); \n",
    "write(io, \"Different Text \\n\") #the \\n means create a new line after this text\n",
    "close(io)"
   ]
  },
  {
   "cell_type": "markdown",
   "metadata": {},
   "source": [
    "Now lets append instead:"
   ]
  },
  {
   "cell_type": "code",
   "execution_count": 4,
   "metadata": {},
   "outputs": [],
   "source": [
    "io = open(\"hello_output.txt\", \"a\"); \n",
    "write(io, \"A second line of text \\n\")\n",
    "close(io)"
   ]
  },
  {
   "cell_type": "markdown",
   "metadata": {},
   "source": [
    "To make that \\n more clear lets do one more append without it and see the result. (You can run this code over and over and it will keep writing on the same line.) "
   ]
  },
  {
   "cell_type": "code",
   "execution_count": 5,
   "metadata": {},
   "outputs": [],
   "source": [
    "io = open(\"hello_output.txt\", \"a\"); \n",
    "write(io, \"A third line \")\n",
    "write(io, \"of text. \")\n",
    "close(io)"
   ]
  },
  {
   "cell_type": "markdown",
   "metadata": {},
   "source": [
    "### Reading from Plain Text\n",
    "\n",
    "Now we will read from a text file: [hello_file_input.txt](./hello_file_input.txt). The process is basically the same, but we will use the function readline() instead of write. \n"
   ]
  },
  {
   "cell_type": "code",
   "execution_count": 6,
   "metadata": {},
   "outputs": [
    {
     "name": "stdout",
     "output_type": "stream",
     "text": [
      "line 1\n"
     ]
    }
   ],
   "source": [
    "io = open(\"./hello_file_input.txt\", \"r\"); \n",
    "our_input = readline(io) #reads one line from the file\n",
    "close(io)\n",
    "\n",
    "println(our_input)"
   ]
  },
  {
   "cell_type": "markdown",
   "metadata": {},
   "source": [
    "Text files usually have more than one line, so we want a way to read all of the text. There are two ways of doing this. There are reasons for doing one or the other.\n",
    "\n",
    "- Use the readlines() function which returns all of the lines in an array of strings.\n",
    "  - You know you want all the lines, the file is small enough that it doesn't matter to get them all at once\n",
    "- Loop using the readline() funtion until the read method gives you an end of file message using the eof() function.\n",
    "  - You are searching for specific text so you don't need the whole file and can stop once you've found what you want, the file is too large to put into memory all at once, i.e. the file has more data than your computer has RAM ~16 GB.\n",
    "\n",
    "#### Loop Read"
   ]
  },
  {
   "cell_type": "code",
   "execution_count": 7,
   "metadata": {},
   "outputs": [
    {
     "name": "stdout",
     "output_type": "stream",
     "text": [
      "line 1\n",
      "line 2\n",
      "line 3\n",
      "line 4\n"
     ]
    }
   ],
   "source": [
    "io = open(\"./hello_file_input_multiline.txt\", \"r\"); \n",
    "while !eof(io) # while the iostream has not reached the end of the file\n",
    "    our_input = readline(io) #reads one line at a timee\n",
    "    println(our_input)\n",
    "    if our_input == \"line 4\"\n",
    "        break # stop at line 4\n",
    "    end\n",
    "end\n",
    "close(io)"
   ]
  },
  {
   "cell_type": "markdown",
   "metadata": {},
   "source": [
    "#### readlines()"
   ]
  },
  {
   "cell_type": "code",
   "execution_count": 8,
   "metadata": {},
   "outputs": [
    {
     "name": "stdout",
     "output_type": "stream",
     "text": [
      "line 1\n",
      "line 2\n",
      "line 3\n",
      "line 4\n",
      "line 5\n"
     ]
    }
   ],
   "source": [
    "io = open(\"./hello_file_input_multiline.txt\", \"r\"); \n",
    "our_input = readlines(io) #reads one line at a timee\n",
    "for input in our_input\n",
    "    println(input)\n",
    "end \n",
    "\n",
    "close(io)"
   ]
  },
  {
   "cell_type": "markdown",
   "metadata": {},
   "source": [
    "### Comma Separated Lists\n",
    "\n",
    "Comma separated lists are a convenient way to store tabular data (e.g. tables, matrices, spreadsheets). The following table\n",
    "\n",
    "|-------|-------|------|-------|----|\n",
    "|-------|-------|------|-------|----|\n",
    "| hello | table | text | here  | is |\n",
    "| some  | stuff | 1    | 4     | 3  |\n",
    "| 8     | 8     | 8    | 8     | 8  |\n",
    "\n",
    "would be represented as:\n",
    "\n",
    "hello,table,text,here,is\n",
    "\n",
    "some,stuff,1,4,3 \n",
    "\n",
    "8,8,8,8,8 \n",
    "\n",
    "You can see an example file here: [example.csv](./example.csv) \n",
    "\n",
    "You can also open this file in Excel. You can also export excel files to csv.\n",
    "Export data to a text file by saving it\n",
    "\n",
    "You can convert an Excel worksheet to a text file by using the Save As command: [Detailed Instructions ](https://support.microsoft.com/en-us/office/import-or-export-text-txt-or-csv-files-5250ac4c-663c-47ce-937b-339e391393ba)\n",
    "\n",
    "- Go to File > Save As.\n",
    "\n",
    "- Click Browse.\n",
    "\n",
    "- In the Save As dialog box, under Save as type box, choose the text file format for the worksheet; for example, click Text (Tab delimited) or CSV (Comma delimited).\n",
    "\n",
    "There is also a vs-code extension to modify CSV files. \n",
    "Name: Edit csv\n",
    "VS Marketplace Link: https://marketplace.visualstudio.com/items?itemName=janisdd.vscode-edit-csv\n",
    "\n",
    "\n"
   ]
  },
  {
   "cell_type": "markdown",
   "metadata": {},
   "source": [
    "### Reading from CSV\n",
    "\n",
    "Csv files are actually just text files, you don't have to name them csv for this to work, you could have a text file with comma separated data, so we will read from them and write to them in the same way. "
   ]
  },
  {
   "cell_type": "code",
   "execution_count": 9,
   "metadata": {},
   "outputs": [
    {
     "name": "stdout",
     "output_type": "stream",
     "text": [
      "row1,row2,row3,row4,row5\n",
      "39.765,61.974,49.116,98.257,39.836\n",
      "17.807,63.734,77.89,42.989,34.118\n",
      "60.773,78.374,30.569,81.741,25.595\n",
      "93.595,80.359,8.917,13.898,63.927\n",
      "32.753,51.49,21.208,71.139,86.566\n",
      "40.095,33.315,35.285,64.109,63.314\n",
      "22.353,56.237,53.043,26.098,66.377\n",
      "3.748,86.25,43.815,13.613,95.699\n",
      "86.384,70.958,36.108,34.371,67.863\n",
      "21.923,96.298,7.348,52.789,53.525\n",
      "94.17,41.767,84.59,8.32,27.025\n",
      "56.678,98.974,47.716,8.437,99.16\n",
      "82.14,38.983,10.205,90.33,11.064\n",
      "70.442,76.169,43.986,96.74,92.048\n",
      "51.474,96.682,73.766,61.426,43.427\n"
     ]
    }
   ],
   "source": [
    "io = open(\"./example.csv\", \"r\"); \n",
    "our_input = readlines(io) #reads one line at a time\n",
    "for input in our_input\n",
    "    println(input)\n",
    "end \n",
    "\n",
    "close(io)"
   ]
  },
  {
   "cell_type": "markdown",
   "metadata": {},
   "source": [
    "What if we want to get the values from the csv and use them individually, for example putting them in a matrix and printing the matrix in a nice fasion using the display() function.  \n",
    "\n",
    "readline() and readlines() return a string or an array of strings representing the rows respectively. So we need to take two steps, take each row and split it into individual items and then put them in the correct place in the matrix. For this first example we will assume we know the size of the matrix up front.\n"
   ]
  },
  {
   "cell_type": "code",
   "execution_count": 10,
   "metadata": {},
   "outputs": [
    {
     "data": {
      "text/plain": [
       "15×5 Matrix{Float64}:\n",
       " 39.765  61.974  49.116  98.257  39.836\n",
       " 17.807  63.734  77.89   42.989  34.118\n",
       " 60.773  78.374  30.569  81.741  25.595\n",
       " 93.595  80.359   8.917  13.898  63.927\n",
       " 32.753  51.49   21.208  71.139  86.566\n",
       " 40.095  33.315  35.285  64.109  63.314\n",
       " 22.353  56.237  53.043  26.098  66.377\n",
       "  3.748  86.25   43.815  13.613  95.699\n",
       " 86.384  70.958  36.108  34.371  67.863\n",
       " 21.923  96.298   7.348  52.789  53.525\n",
       " 94.17   41.767  84.59    8.32   27.025\n",
       " 56.678  98.974  47.716   8.437  99.16\n",
       " 82.14   38.983  10.205  90.33   11.064\n",
       " 70.442  76.169  43.986  96.74   92.048\n",
       " 51.474  96.682  73.766  61.426  43.427"
      ]
     },
     "metadata": {},
     "output_type": "display_data"
    }
   ],
   "source": [
    "io = open(\"./example.csv\", \"r\"); \n",
    "our_input = readlines(io) #reads one line at a time\n",
    "csv_values = zeros(15,5)\n",
    "row = 1\n",
    "for input in our_input[2:end] # for each skipping the first row (header) row\n",
    "    row_values = split(input, \",\")\n",
    "    column = 1\n",
    "    for value in row_values\n",
    "        numerical_value = parse(Float64, value) # convert the string to a Float64\n",
    "        csv_values[row,column] = numerical_value # put it in the matrix\n",
    "        column += 1 # increment our column position in the row \n",
    "    end\n",
    "    row += 1 #now that we have done all of the columns for the row, increment to the next row\n",
    "end \n",
    "close(io)\n",
    "\n",
    "display(csv_values)\n"
   ]
  },
  {
   "cell_type": "markdown",
   "metadata": {},
   "source": [
    "I have also attached an example that does not assume it knows the amount of data in the csv. [csv_print.jl](./csv_print.jl) In it I use the package CSV.jl and DataFrames.jl packages which handles all the CSV parsing for us. "
   ]
  },
  {
   "cell_type": "markdown",
   "metadata": {},
   "source": [
    "### Writing CSV\n",
    "Here is a not very efficient but illustrative way of how to create a csv file"
   ]
  },
  {
   "cell_type": "code",
   "execution_count": 11,
   "metadata": {},
   "outputs": [],
   "source": [
    "\n",
    "io = open(\"./write_to_csv.csv\", \"w+\"); \n",
    "data = [1 2 3; 4 5 6; 7 8 9]\n",
    "for i in 1:3\n",
    "    for j in 1:3\n",
    "        csv_text = \"$(data[i,j])\"\n",
    "        if j != 3 #don't use comma if there\n",
    "            csv_text =  csv_text * \",\" #concatenates the strings \n",
    "        end\n",
    "        write(io, csv_text)\n",
    "    end\n",
    "    write(io, \"\\n\") # add new line\n",
    "end\n",
    "close(io)\n"
   ]
  },
  {
   "cell_type": "markdown",
   "metadata": {},
   "source": [
    "Again the better way to do this is using CSV.jl "
   ]
  },
  {
   "cell_type": "code",
   "execution_count": 13,
   "metadata": {},
   "outputs": [],
   "source": [
    "using Tables, CSV\n",
    "io = open(\"./write_to_csv_with_package.csv\", \"w+\"); \n",
    "data = [1 2 3; 4 5 6; 7 8 9]\n",
    "table  = Tables.table(data)\n",
    "CSV.write(io, table)\n",
    "close(io)"
   ]
  },
  {
   "cell_type": "markdown",
   "metadata": {},
   "source": [
    "# JSON "
   ]
  },
  {
   "cell_type": "code",
   "execution_count": null,
   "metadata": {},
   "outputs": [],
   "source": []
  }
 ],
 "metadata": {
  "kernelspec": {
   "display_name": "Julia 1.6.3",
   "language": "julia",
   "name": "julia-1.6"
  },
  "language_info": {
   "file_extension": ".jl",
   "mimetype": "application/julia",
   "name": "julia",
   "version": "1.6.3"
  },
  "orig_nbformat": 4
 },
 "nbformat": 4,
 "nbformat_minor": 2
}
