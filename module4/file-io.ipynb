{
 "cells": [
  {
   "cell_type": "markdown",
   "metadata": {},
   "source": [
    "# Input Output (IO) \n",
    "Often one wants to store the results of their program runs. This is done by saving the data to a file or database. We will focus on storing to files. \n",
    "\n",
    "To acheive this we will use the input output (here after abreviated IO) capabilites of Julia. \n",
    "\n",
    "You have actually been using a type of output through out the previous modules. Printing to the console is a form of io, e.g. ```println(\"hello world\")````\n",
    "\n",
    "There is a corresponding way to read user input from the console\n",
    "\n"
   ]
  },
  {
   "cell_type": "markdown",
   "metadata": {},
   "source": []
  },
  {
   "cell_type": "code",
   "execution_count": 3,
   "metadata": {},
   "outputs": [
    {
     "ename": "UndefVarError",
     "evalue": "UndefVarError: execute_msg not defined",
     "output_type": "error",
     "traceback": [
      "UndefVarError: execute_msg not defined\n",
      "\n",
      "Stacktrace:\n",
      "  [1] readprompt(prompt::String; password::Bool)\n",
      "    @ VSCodeServer.IJuliaCore c:\\Users\\jacks\\.vscode\\extensions\\julialang.language-julia-1.6.17\\scripts\\packages\\IJuliaCore\\src\\stdio.jl:190\n",
      "  [2] readprompt\n",
      "    @ c:\\Users\\jacks\\.vscode\\extensions\\julialang.language-julia-1.6.17\\scripts\\packages\\IJuliaCore\\src\\stdio.jl:190 [inlined]\n",
      "  [3] readline(io::VSCodeServer.IJuliaCore.IJuliaStdio{Base.PipeEndpoint, typeof(VSCodeServer.io_send_callback)})\n",
      "    @ VSCodeServer.IJuliaCore c:\\Users\\jacks\\.vscode\\extensions\\julialang.language-julia-1.6.17\\scripts\\packages\\IJuliaCore\\src\\stdio.jl:232\n",
      "  [4] readline()\n",
      "    @ Base .\\io.jl:507\n",
      "  [5] top-level scope\n",
      "    @ c:\\Source\\chem-324-programming-tutorials\\module4\\file-io.ipynb:1\n",
      "  [6] eval\n",
      "    @ .\\boot.jl:360 [inlined]\n",
      "  [7] include_string(mapexpr::typeof(REPL.softscope), mod::Module, code::String, filename::String)\n",
      "    @ Base .\\loading.jl:1094\n",
      "  [8] #invokelatest#2\n",
      "    @ .\\essentials.jl:708 [inlined]\n",
      "  [9] invokelatest\n",
      "    @ .\\essentials.jl:706 [inlined]\n",
      " [10] (::VSCodeServer.var\"#160#161\"{VSCodeServer.NotebookRunCellArguments, String})()\n",
      "    @ VSCodeServer c:\\Users\\jacks\\.vscode\\extensions\\julialang.language-julia-1.6.17\\scripts\\packages\\VSCodeServer\\src\\serve_notebook.jl:19\n",
      " [11] withpath(f::VSCodeServer.var\"#160#161\"{VSCodeServer.NotebookRunCellArguments, String}, path::String)\n",
      "    @ VSCodeServer c:\\Users\\jacks\\.vscode\\extensions\\julialang.language-julia-1.6.17\\scripts\\packages\\VSCodeServer\\src\\repl.jl:184\n",
      " [12] notebook_runcell_request(conn::VSCodeServer.JSONRPC.JSONRPCEndpoint{Base.PipeEndpoint, Base.PipeEndpoint}, params::VSCodeServer.NotebookRunCellArguments)\n",
      "    @ VSCodeServer c:\\Users\\jacks\\.vscode\\extensions\\julialang.language-julia-1.6.17\\scripts\\packages\\VSCodeServer\\src\\serve_notebook.jl:13\n",
      " [13] dispatch_msg(x::VSCodeServer.JSONRPC.JSONRPCEndpoint{Base.PipeEndpoint, Base.PipeEndpoint}, dispatcher::VSCodeServer.JSONRPC.MsgDispatcher, msg::Dict{String, Any})\n",
      "    @ VSCodeServer.JSONRPC c:\\Users\\jacks\\.vscode\\extensions\\julialang.language-julia-1.6.17\\scripts\\packages\\JSONRPC\\src\\typed.jl:67\n",
      " [14] serve_notebook(pipename::String, outputchannel_logger::Base.CoreLogging.SimpleLogger; crashreporting_pipename::String)\n",
      "    @ VSCodeServer c:\\Users\\jacks\\.vscode\\extensions\\julialang.language-julia-1.6.17\\scripts\\packages\\VSCodeServer\\src\\serve_notebook.jl:136\n",
      " [15] top-level scope\n",
      "    @ c:\\Users\\jacks\\.vscode\\extensions\\julialang.language-julia-1.6.17\\scripts\\notebook\\notebook.jl:32\n",
      " [16] include(mod::Module, _path::String)\n",
      "    @ Base .\\Base.jl:386\n",
      " [17] exec_options(opts::Base.JLOptions)\n",
      "    @ Base .\\client.jl:285\n",
      " [18] _start()\n",
      "    @ Base .\\client.jl:485"
     ]
    }
   ],
   "source": []
  },
  {
   "cell_type": "code",
   "execution_count": null,
   "metadata": {},
   "outputs": [],
   "source": []
  }
 ],
 "metadata": {
  "kernelspec": {
   "display_name": "Julia 1.6.1",
   "language": "julia",
   "name": "julia-1.6"
  },
  "language_info": {
   "file_extension": ".jl",
   "mimetype": "application/julia",
   "name": "julia",
   "version": "1.6.1"
  },
  "orig_nbformat": 4
 },
 "nbformat": 4,
 "nbformat_minor": 2
}
