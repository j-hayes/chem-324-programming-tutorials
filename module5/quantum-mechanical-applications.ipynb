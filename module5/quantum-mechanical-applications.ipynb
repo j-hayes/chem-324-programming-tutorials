{
 "cells": [
  {
   "cell_type": "markdown",
   "metadata": {},
   "source": [
    "# Applications in Quantum Mechanics\n",
    "\n",
    "In this module we will be using a Hartree-Fock implementation in Julia (Written by a Iowa State graduate student David Poole). We will use it to explore the energy differences between of the $H_2$ atom at with varying internuclear distances. \n",
    "\n",
    "## Plotting \n",
    "One last thing we need to learn how to do in Julia for this project is how to make plots. \n",
    "\n",
    "Plotting functionality is provided by the Plots.jl extension. \n",
    "\n",
    "Example: \n"
   ]
  },
  {
   "cell_type": "code",
   "execution_count": null,
   "metadata": {},
   "outputs": [],
   "source": [
    "using Plots\n",
    "random_plot = plot(rand(10,1), title = \"Random Data Plot\", label = \"Our Random Line\")\n",
    "xlabel!(\"X LABEL\")\n",
    "ylabel!(\"Y LABEL\")"
   ]
  },
  {
   "cell_type": "markdown",
   "metadata": {},
   "source": [
    "Let's break down what we did above and make it a bit easier to see what is going on with predictable data. Lets imagine we are ploting part of the function f(x) = 2x. We will create two arrays and plot them, one being integers 1 to 10 representing our X data and another array [2, 4, 6 ... 20]\n",
    "\n",
    "\n",
    "\n"
   ]
  },
  {
   "cell_type": "code",
   "execution_count": null,
   "metadata": {},
   "outputs": [],
   "source": [
    "using Plots\n",
    "X = [0,1,2,3,4,5,6,7,8,9,10]\n",
    "Y = [0,2,4,6,8,10,12,14,16,18,20]\n",
    "random_plot = plot(X,Y, title = \"F(x) = 2x\", label = \"Our Data\")\n",
    "xlabel!(\"X\")\n",
    "ylabel!(\"Y\")"
   ]
  },
  {
   "cell_type": "markdown",
   "metadata": {},
   "source": [
    "We can also just plot a function with an input. \n",
    "- The first parameter is the function to plot. \n",
    "- The second 2 parameters are the range to plot."
   ]
  },
  {
   "cell_type": "code",
   "execution_count": null,
   "metadata": {},
   "outputs": [],
   "source": [
    "using Plots\n",
    "f(x) = exp(-x)\n",
    "random_plot = plot(f, 0,10, title = \"F(x) = e^-x\", label = \"e^-x\") \n",
    "xlabel!(\"X\")\n",
    "ylabel!(\"Y\")"
   ]
  },
  {
   "cell_type": "markdown",
   "metadata": {},
   "source": [
    "Multiple plots on the same image:"
   ]
  },
  {
   "cell_type": "code",
   "execution_count": null,
   "metadata": {},
   "outputs": [],
   "source": [
    "using Plots\n",
    "f(x) = exp(-x)\n",
    "f2(x) = exp(-2x)\n",
    "random_plot = plot(f, 0,10, label = \"e^-x\") \n",
    "random_plot = plot!(f2, 0,10, label = \"e^-2x\") \n",
    "\n",
    "xlabel!(\"X\")\n",
    "ylabel!(\"Y\")"
   ]
  },
  {
   "cell_type": "markdown",
   "metadata": {},
   "source": [
    "Here is an example where we can save the plot to a file:"
   ]
  },
  {
   "cell_type": "code",
   "execution_count": null,
   "metadata": {},
   "outputs": [],
   "source": [
    "using Plots\n",
    "random_plot = plot(rand(10,1), title = \"Random Data Plot\", label = \"Our Random Line\")\n",
    "xlabel!(\"X LABEL\")\n",
    "ylabel!(\"Y LABEL\")\n",
    "savefig(random_plot, \"randomplot\")      # it will save it as a png file"
   ]
  },
  {
   "cell_type": "markdown",
   "metadata": {},
   "source": [
    "## How to use JuliaChem \n",
    "\n",
    "At a high level, like most electronic structure theory codes, JuliaChem takes in an input file and then returns information about that system depending on what the input file tells it to do. \n",
    "\n",
    "Any use of JuliaChem starts with a call to JuliaChem.Initialize() and ends with a call to JuliaChem.Finalize()\n",
    "\n",
    "``` Julia\n",
    "\n",
    "JuliaChem.Initialize() \n",
    "# do your calls calculations\n",
    "JuliaChem.Finalize()\n",
    "```\n",
    "### Input Files\n",
    "\n",
    "The input files are JSON files using the [Molssi Quantum Chemistry Schema](https://molssi-qc-schema.readthedocs.io/en/latest/index.html#). The main things to worry about as someone just learning quantum chemistry are:\n",
    "- the molecule information, \n",
    "  - atoms denoted by their atomic symbol \"H\", \"O\", \"Li\", etc.  \n",
    "  - their positioning in XYZ coordinates. \n",
    "- the basis set you want to use. \n",
    "  - We will be using a minimal basis set: [STO-3G](https://en.wikipedia.org/wiki/STO-nG_basis_sets)\n",
    "\n",
    "### Output \n",
    "\n",
    "The JuliaChem program returns a dictionary of values from the Hartree-Fock calculation. The value we are interested in is the Energy. We will plot the energy vs the internuclear distance to find the equilibrium distance (the one with the lowest energy).\n",
    "\n",
    "### H2-Hartree-Fock Runner\n",
    "\n",
    "I have built a small set of functions you can call that will abstract away all of the JuliaChem stuff. All you need to do is pass in a distance in atomic units and it will build the input file, run the calculation through JuliaChem and return the resulting energy. \n",
    "\n",
    "You can see an example of this in the final project [repository](https://github.com/j-hayes/chem-324-programming-tutorials-final-project) in the file main.jl\n",
    "\n",
    "## Final Project \n",
    "\n",
    "Create a Julia Script that: \n",
    "- Uses JuliaChem to calculate the energies of the $H_2$ molecule at various internuclear distances\n",
    "- Plots those energies\n",
    "- Prints the minimum energy and internuclear distance (the equilibrium distance)\n",
    "\n",
    "Note:\n",
    "The energy will not be the exact value, it depends on the basis set, but it should be close to values you can find in textbooks/literature articles. So test out a few values or ranges of values and you can start to find where the minimum is. Then you can build your range for your plot. \n",
    "\n",
    "Advice:\n",
    "- Don't start to close to 0, it will make your plot look weird because as $distance \\rArr 0; E \\rArr \\infin $ \n",
    "- Don't go too far past the equilibrium value, it will just be a flat line. \n",
    "- Look at the textbook / literature plots out there, they will give you some guidance on good ranges to use. "
   ]
  },
  {
   "cell_type": "code",
   "execution_count": null,
   "metadata": {},
   "outputs": [],
   "source": [
    "using JuliaChem\n",
    "using Plots\n",
    "include(\"hartree_fock_runner.jl\")\n",
    "\n",
    "function run_calculation(distance)\n",
    "    start_calculations()\n",
    "    \n",
    "    energy = run_h2_hartree_fock(distance)     \n",
    "    println(energy)\n",
    "    energy2 = run_h2_hartree_fock(distance*2)      \n",
    "    println(energy2)\n",
    "    \n",
    "    end_calculations()  \n",
    "    \n",
    "end\n",
    "run_calculation(.9)\n",
    "\n",
    "\n",
    "random_plot = plot(rand(10,1), title = \"H2 Hartree Fock Discociation Curve\", label = \"Hartree Fock\")\n",
    "xlabel!(\"Internuclear Radius (a.u.)\")\n",
    "ylabel!(\"Energy (hartree)\")\n",
    "savefig(random_plot, \"randomplot\")      "
   ]
  }
 ],
 "metadata": {
  "kernelspec": {
   "display_name": "Julia 1.6.3",
   "language": "julia",
   "name": "julia-1.6"
  },
  "language_info": {
   "file_extension": ".jl",
   "mimetype": "application/julia",
   "name": "julia",
   "version": "1.6.3"
  },
  "orig_nbformat": 4
 },
 "nbformat": 4,
 "nbformat_minor": 2
}
