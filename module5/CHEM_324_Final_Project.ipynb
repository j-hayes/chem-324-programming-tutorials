{
  "cells": [
    {
      "cell_type": "markdown",
      "metadata": {
        "id": "tQ1r1bbb0yBv"
      },
      "source": [
        "# CHEM 324 Final Project\n",
        "\n",
        "Open This Notebook in [Google Collab](https://colab.research.google.com/)\n",
        "\n",
        "Run the below shell script. THIS WILL TAKE SEVERAL MINUTES\n",
        "\n",
        "Then Refresh the page"
      ]
    },
    {
      "cell_type": "code",
      "execution_count": null,
      "metadata": {
        "colab": {
          "base_uri": "https://localhost:8080/",
          "height": 87
        },
        "id": "GIeFXS0F0zww",
        "outputId": "4282f1d9-a7ff-40bf-b3d2-37b107ce18eb"
      },
      "outputs": [],
      "source": [
        "%%shell\n",
        "set -e\n",
        "\n",
        "#---------------------------------------------------#\n",
        "JULIA_VERSION=\"1.7.1\" # any version ≥ 0.7.0\n",
        "JULIA_PACKAGES=\"IJulia BenchmarkTools Plots JSON\"\n",
        "JULIA_PACKAGES_IF_GPU=\"CUDA\" # or CuArrays for older Julia versions\n",
        "JULIA_NUM_THREADS=2\n",
        "#---------------------------------------------------#\n",
        "\n",
        "if [ -n \"$COLAB_GPU\" ] && [ -z `which julia` ]; then\n",
        "  # Install Julia\n",
        "  JULIA_VER=`cut -d '.' -f -2 <<< \"$JULIA_VERSION\"`\n",
        "  echo \"Installing Julia $JULIA_VERSION on the current Colab Runtime...\"\n",
        "  BASE_URL=\"https://julialang-s3.julialang.org/bin/linux/x64\"\n",
        "  URL=\"$BASE_URL/$JULIA_VER/julia-$JULIA_VERSION-linux-x86_64.tar.gz\"\n",
        "  wget -nv $URL -O /tmp/julia.tar.gz # -nv means \"not verbose\"\n",
        "  tar -x -f /tmp/julia.tar.gz -C /usr/local --strip-components 1\n",
        "  rm /tmp/julia.tar.gz\n",
        "\n",
        "  # Install Packages\n",
        "  if [ \"$COLAB_GPU\" = \"1\" ]; then\n",
        "      JULIA_PACKAGES=\"$JULIA_PACKAGES $JULIA_PACKAGES_IF_GPU\"\n",
        "  fi\n",
        "  for PKG in `echo $JULIA_PACKAGES`; do\n",
        "    echo \"Installing Julia package $PKG...\"\n",
        "    julia -e 'using Pkg; pkg\"add '$PKG'; precompile;\"' &> /dev/null\n",
        "  done\n",
        "\n",
        "  julia -e 'using Pkg; Pkg.add(PackageSpec(url=\"https://github.com/j-hayes/JuliaChem.jl.git\")); precompile;' &> /dev/null\n",
        "\n",
        "\n",
        "  # Install kernel and rename it to \"julia\"\n",
        "  echo \"Installing IJulia kernel...\"\n",
        "  julia -e 'using IJulia; IJulia.installkernel(\"julia\", env=Dict(\n",
        "      \"JULIA_NUM_THREADS\"=>\"'\"$JULIA_NUM_THREADS\"'\"))'\n",
        "  KERNEL_DIR=`julia -e \"using IJulia; print(IJulia.kerneldir())\"`\n",
        "  KERNEL_NAME=`ls -d \"$KERNEL_DIR\"/julia*`\n",
        "  mv -f $KERNEL_NAME \"$KERNEL_DIR\"/julia  \n",
        "\n",
        "  echo ''\n",
        "  echo \"Successfully installed `julia -v`!\"\n",
        "  echo \"Please reload this page (press Ctrl+R, ⌘+R, or the F5 key) then\"\n",
        "  echo \"jump to the 'Checking the Installation' section.\"\n",
        "fi"
      ]
    },
    {
      "cell_type": "markdown",
      "metadata": {
        "id": "-OS3Ac017T1i"
      },
      "source": [
        "## Checking the Installation\n",
        "The `versioninfo()` function should print your Julia version and some other info about the system:"
      ]
    },
    {
      "cell_type": "code",
      "execution_count": null,
      "metadata": {
        "colab": {
          "base_uri": "https://localhost:8080/"
        },
        "id": "EEzvvzCl1i0F",
        "outputId": "bd51d0fc-0a32-4ead-c1ca-a273f7f6b7d5"
      },
      "outputs": [],
      "source": [
        "versioninfo() ## makes sure julia is working"
      ]
    },
    {
      "cell_type": "markdown",
      "metadata": {
        "id": "kAdoM0qTeG-B"
      },
      "source": [
        "## Load the Helper Scripts"
      ]
    },
    {
      "cell_type": "code",
      "execution_count": null,
      "metadata": {
        "colab": {
          "base_uri": "https://localhost:8080/"
        },
        "id": "3qD45ydDX9Vl",
        "outputId": "80a65f38-f700-4e89-9227-c447032f4460"
      },
      "outputs": [],
      "source": [
        "#=============================#\n",
        "#== put needed modules here ==#\n",
        "#=============================#\n",
        "import JuliaChem\n",
        "using JuliaChem.JCModules\n",
        "\n",
        "#================================#\n",
        "#== JuliaChem execution script ==#\n",
        "#================================#\n",
        "function full_rhf(input_file)\n",
        "  println(\"--------------------------------------------------------------------------------\")\n",
        "  println(\"                       ========================================                 \")\n",
        "  println(\"                               WELCOME TO JULIACHEM.JL!                         \")\n",
        "  println(\"                       ========================================                 \")\n",
        "  println(\"                                                                                \")\n",
        "  println(\"              JuliaChem.jl is an electronic structure theory package            \")\n",
        "  println(\"         developed by the Gordon group at Iowa State University. It is          \")\n",
        "  println(\"        designed to apply the strengths of the Julia programming language       \")\n",
        "  println(\"          (high-level semantics and low-level performance) to a quantum         \")\n",
        "  println(\"                                chemistry package.                              \")\n",
        "  println(\"                                                                                \")\n",
        "  println(\"         For more information, refer to the following paper: Poole, D.          \")\n",
        "  println(\"        Galvaz Vallejo, J. L.; Gordon, M. S. \\\"A New Kid on the Block:          \")\n",
        "  println(\"         Application of Julia to Hartree-Fock Calculations.\\\" J. Chem.          \") \n",
        "  println(\"                     Theory Compute. 2020, 16, 8, 5006-5013.                    \")\n",
        "  println(\"                                                                                \")\n",
        "  println(\"       For questions on usage, email David Poole at davpoole@iastate.edu.       \")\n",
        "  println(\"                             Jackson                                            \")\n",
        "  println(\"--------------------------------------------------------------------------------\")\n",
        " \n",
        "  try\n",
        "    #== read in input file ==#\n",
        "    molecule, driver, model, keywords = JuliaChem.JCInput.run(input_file;       \n",
        "      output=2)       \n",
        "    \n",
        "    #== generate basis set ==#\n",
        "    mol, basis = JuliaChem.JCBasis.run(molecule, model; \n",
        "      output=2) \n",
        "   \n",
        "    #== molecule info ==#\n",
        "    JuliaChem.JCMolecule.run(mol)\n",
        "\n",
        "    #== calculation driver ==# \n",
        "    if driver == \"energy\"\n",
        "        #== perform scf calculation ==#\n",
        "        if haskey(keywords, \"scf\")\n",
        "          method = \"RHF\"\n",
        "          if !(method == \"RHF\" || method == \"DFRHF\")\n",
        "            throw(\"Exception: Methods other than RHF and DFRFH are not supported yet!\")\n",
        "          end\n",
        "          rhf_energy = JuliaChem.JCRHF.Energy.run(mol, basis, keywords[\"scf\"]; \n",
        "            output=2,) \n",
        "        else\n",
        "          rhf_energy = JuliaChem.JCRHF.Energy.run(mol, basis; \n",
        "            output=2) \n",
        "        end    \n",
        "        #== compute molecular properties such as dipole moment ==#\n",
        "        properties = JuliaChem.JCRHF.Properties.run(mol, basis, rhf_energy, \n",
        "          keywords[\"prop\"]; output=2)\n",
        "          return rhf_energy, properties\n",
        "        \n",
        "    else\n",
        "      throw(\"Exception: Only energy calculations are currently supported!\")\n",
        "    end\n",
        "  catch e                                                                       \n",
        "    bt = catch_backtrace()                                                      \n",
        "    msg = sprint(showerror, e, bt)                                              \n",
        "    println(msg)          \n",
        "    exit()                                                                                                                            \n",
        "  end \n",
        "\n",
        "  println(\"--------------------------------------------------------------------------------\")\n",
        "  println(\"                      Your calculation has run to completion!                   \")\n",
        "  println(\"                                                                                \")\n",
        "  println(\"                       ========================================                 \")\n",
        "  println(\"                                   HAVE A NICE DAY!                             \")\n",
        "  println(\"                       ========================================                 \")\n",
        "  println(\"--------------------------------------------------------------------------------\")\n",
        "end\n"
      ]
    },
    {
      "cell_type": "code",
      "execution_count": null,
      "metadata": {
        "colab": {
          "base_uri": "https://localhost:8080/"
        },
        "id": "8Y7YyfNsaYHO",
        "outputId": "9e2e144f-8ea5-4629-d7dd-534091ada05a"
      },
      "outputs": [],
      "source": [
        "using JuliaChem\n",
        "using JSON\n",
        "\n",
        "function start_calculations()\n",
        "    JuliaChem.initialize() \n",
        "end\n",
        "\n",
        "\"\"\"\n",
        "run a hartree fock calculation using JuliaChem \n",
        "JuliaChem must be initialized before this method is called \n",
        "\n",
        "Parameters: hydrogen_radius :: AbstractFloat  - The radius between the two hydrogens in Atomic Units\n",
        "for the hartree fock run. \n",
        "\n",
        "Returns \n",
        "energy of the system in hartrees (Atomic Units)\n",
        "\"\"\"\n",
        "function run_h2_hartree_fock(hydrogen_radius:: AbstractFloat) :: AbstractFloat\n",
        "    file_path = create_input_file(hydrogen_radius/2)\n",
        "    rhf_result = full_rhf(file_path)\n",
        "    return rhf_result[1][\"Energy\"]\n",
        "end\n",
        "\n",
        "function create_input_file(hydrogen_radius) :: String\n",
        "    input_file_JSON = JSON.parsefile(joinpath(@__DIR__, \"hydrogen_template.json\"))\n",
        "    input_file_JSON[\"molecule\"][\"geometry\"][6] = hydrogen_radius\n",
        "    file_path = joinpath(@__DIR__, \".//H2-radius$(hydrogen_radius).json\")\n",
        "    io = open(file_path, \"w+\")\n",
        "    JSON.print(io, input_file_JSON)\n",
        "    close(io)\n",
        "    return file_path\n",
        "end\n",
        "\n",
        "function end_calculations()\n",
        "    JuliaChem.finalize()   \n",
        "end\n",
        "\n"
      ]
    },
    {
      "cell_type": "markdown",
      "metadata": {
        "id": "lAJEBQRCd_R7"
      },
      "source": [
        "## Modify This Code To complete the project\n"
      ]
    },
    {
      "cell_type": "code",
      "execution_count": null,
      "metadata": {
        "colab": {
          "base_uri": "https://localhost:8080/",
          "height": 1000
        },
        "id": "l1TtlcO9a7VV",
        "outputId": "9a1494e1-b407-4ee4-e513-20390bef2d2a"
      },
      "outputs": [],
      "source": [
        "using JuliaChem\n",
        "using Plots\n",
        "\n",
        "function run_calculation(distance)\n",
        "    start_calculations()\n",
        "    \n",
        "    energy = run_h2_hartree_fock(distance)     \n",
        "    energy2 = run_h2_hartree_fock(distance*2) \n",
        " \n",
        "    println(energy)\n",
        "    println(energy2)\n",
        "    \n",
        "    end_calculations()  \n",
        "    \n",
        "end\n",
        "run_calculation(.9)\n",
        "\n",
        "x = [1,2,3,4,5]\n",
        "y = [10,20,30,40,50]\n",
        "random_plot = plot(x,y, title = \"H2 Hartree Fock Discociation Curve\", label = \"Hartree Fock\")\n",
        "xlabel!(\"Internuclear Radius (a.u.)\")\n",
        "ylabel!(\"Energy (hartree)\")\n"
      ]
    }
  ],
  "metadata": {
    "colab": {
      "collapsed_sections": [],
      "name": "CHEM-324-Final-Project.ipynb",
      "provenance": []
    },
    "kernelspec": {
      "display_name": "Julia",
      "language": "julia",
      "name": "julia"
    },
    "language_info": {
      "file_extension": ".jl",
      "mimetype": "application/julia",
      "name": "julia"
    }
  },
  "nbformat": 4,
  "nbformat_minor": 0
}
