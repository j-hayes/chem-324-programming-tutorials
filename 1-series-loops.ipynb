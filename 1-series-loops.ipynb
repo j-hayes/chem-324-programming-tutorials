{
 "cells": [
  {
   "cell_type": "markdown",
   "metadata": {},
   "source": [
    "# Loops, Arrays (Vectors), and Series"
   ]
  },
  {
   "cell_type": "markdown",
   "metadata": {},
   "source": [
    "## Loops\n",
    "\n",
    "A loop is a programming construct that allows the programmer to run the block of code multiple times without having to write the code multiple times. \n",
    "\n",
    "### For loop\n",
    "Example: "
   ]
  },
  {
   "cell_type": "code",
   "execution_count": null,
   "metadata": {},
   "outputs": [],
   "source": [
    "println(\"The copy paste way: (bad)\")\n",
    "\n",
    "println(\"hello world\")\n",
    "println(\"hello world\")\n",
    "println(\"hello world\")\n",
    "println(\"hello world\")\n",
    "println(\"hello world\")\n",
    "\n",
    "println(\"-----------\")\n",
    "println(\"The loop way:\")\n",
    "\n",
    "for i in 1:5\n",
    "    println(\"hello world\")\n",
    "end\n"
   ]
  },
  {
   "cell_type": "markdown",
   "metadata": {},
   "source": [
    "The syntax of a loop:\n",
    "``` julia\n",
    "for ## begins the loop\n",
    "    # block of code that will be run multiple times \n",
    "end # ends the loop\n",
    "```\n",
    "i : the \"index\" of the loop\n",
    "1:5 : a range of numbers from 1-5 inclusive (i.e 1,2,3,4,5) \n",
    "in : says to do the loop for each value in the following. The loop will assign the values 1,2,3,4,5 in order. \n",
    "\n",
    "Here is an example corresponding to the following summation. It will print the value at each iteration\n",
    "\n",
    "$\\sum_{i=1}^{10} i$\n",
    "\n",
    "(note) the operator += adds the value on the right side of the operator to the existing value in the value to the left; \n",
    "``` julia \n",
    "number = 1 \n",
    "number += 1 # now number equals 2\n",
    "\n",
    "```"
   ]
  },
  {
   "cell_type": "code",
   "execution_count": null,
   "metadata": {},
   "outputs": [],
   "source": [
    "summation_value = 0\n",
    "for i in 1:10\n",
    "    summation_value += i \n",
    "    println(\"value at i=$(i): $(summation_value)\")\n",
    "end\n",
    "println(\"final value: $(summation_value)\")\n"
   ]
  },
  {
   "cell_type": "markdown",
   "metadata": {},
   "source": [
    "### While loop\n",
    "You can accomplish the same concepts with a while loop. A while loop continues to run until the condition after the word while is false.\n",
    "\n"
   ]
  },
  {
   "cell_type": "code",
   "execution_count": null,
   "metadata": {},
   "outputs": [],
   "source": [
    "i = 0\n",
    "summation_value = 0\n",
    "\n",
    "while i <= 10\n",
    "    summation_value += i\n",
    "    i += 1 # make sure to do the incrementing of i as the last line of code in the loop or you will get the wrong result \n",
    "end\n",
    "println(\"final value: $(summation_value)\")\n"
   ]
  },
  {
   "cell_type": "markdown",
   "metadata": {},
   "source": [
    "### Print out even numbers \n",
    "Let's print out the first 5 even numbers \n",
    "#### A simple way of doing it if statement"
   ]
  },
  {
   "cell_type": "code",
   "execution_count": null,
   "metadata": {},
   "outputs": [],
   "source": [
    "for i in 1:10\n",
    "    if i % 2 == 0 # does i divided by 2 have a remainder not equal to zero\n",
    "        println(\"$(i)\")\n",
    "    end    \n",
    "end"
   ]
  },
  {
   "cell_type": "markdown",
   "metadata": {},
   "source": [
    "### Print out even numbers in a smarter way (2*i)"
   ]
  },
  {
   "cell_type": "code",
   "execution_count": null,
   "metadata": {},
   "outputs": [],
   "source": [
    "for i in 1:5   \n",
    "    println(\"$(2*i)\")   \n",
    "end"
   ]
  },
  {
   "cell_type": "markdown",
   "metadata": {},
   "source": [
    "### Calling a function in a loop"
   ]
  },
  {
   "cell_type": "code",
   "execution_count": null,
   "metadata": {},
   "outputs": [],
   "source": [
    "function print_iteration_message(index, summation_value)\n",
    "    println(\"value at i=$(index): $(summation_value)\")\n",
    "end\n",
    "\n",
    "summation_value = 0\n",
    "for i in 1:10\n",
    "    summation_value += i \n",
    "    print_iteration_message(i, summation_value)\n",
    "end\n",
    "println(\"final value: $(summation_value)\")\n"
   ]
  },
  {
   "cell_type": "code",
   "execution_count": null,
   "metadata": {},
   "outputs": [],
   "source": []
  },
  {
   "cell_type": "markdown",
   "metadata": {},
   "source": [
    "## Arrays \n",
    "An array is similar to the mathematical construct of a vector (julia actually calls them vectors, other languages call them arrays and is more common, As such I am going to refer to them as arrays.). It is a list of values. A common use of vectors is to define a point in space (x,y,z). You can use the normal vector algebra you would expect. "
   ]
  },
  {
   "cell_type": "code",
   "execution_count": null,
   "metadata": {},
   "outputs": [],
   "source": [
    "point_int_space_origin = [0,0,0]\n",
    "display(point_int_space_origin) # display is a fancy print function with more information about the object you pass in\n",
    "\n",
    "second_point = point_int_space_origin + [1,1,2]\n",
    "display(second_point)"
   ]
  },
  {
   "cell_type": "markdown",
   "metadata": {},
   "source": [
    "You can do \"element-wise\" operations using .{operator here} (for multiplication this is called a Hadamard Product)\n",
    "\n"
   ]
  },
  {
   "cell_type": "code",
   "execution_count": null,
   "metadata": {},
   "outputs": [],
   "source": [
    "multiplied_point = [1,2,3] .* [2,2,2] \n",
    "display(multiplied_point)\n",
    "#which is the same as\n",
    "\n",
    "multiplied_point = 2*[1,2,3] \n",
    "display(multiplied_point)\n",
    "\n",
    "#but could be used to do \n",
    "multiplied_point = [1,2,3] .* [3,5,10] \n",
    "display(multiplied_point)"
   ]
  },
  {
   "cell_type": "markdown",
   "metadata": {},
   "source": [
    "Of course, we don't have to limit ourselves to loops with length 3. Julia provides some operations functions for getting attributes of the array. \n",
    "\n",
    "### Getting a value at a specific index \n",
    "To get a specific value use the [] operator after the name of the array variable\n"
   ]
  },
  {
   "cell_type": "code",
   "execution_count": null,
   "metadata": {},
   "outputs": [],
   "source": [
    "values = [10,20,30]\n",
    "### print the first value in the array of values\n",
    "println(values[1])\n",
    "\n",
    "longer_vector = [12.23,1,3,.12,5,6,7,-8.32]\n",
    "sum_of_first_two_terms = longer_vector[1] + longer_vector[2]\n",
    "println(sum_of_first_two_terms)\n"
   ]
  },
  {
   "cell_type": "markdown",
   "metadata": {},
   "source": [
    "#### Julia one based indexing vs zero based indexing\n",
    "**Note most other programming languages use zero based indexing**\n",
    "\n",
    "i.e. to get the first value in an array you use values[0]. It is intended to be less confusing, but if you are looking at algorithms online/in literature for how to implement something assume zero based indexing."
   ]
  },
  {
   "cell_type": "markdown",
   "metadata": {},
   "source": [
    "### Iterate over an array using a loop\n",
    "One powerful thing we can do with a loop is iterate over an array and perform an operation. As an example lets do the dot product of two vectors. "
   ]
  },
  {
   "cell_type": "code",
   "execution_count": 80,
   "metadata": {},
   "outputs": [
    {
     "name": "stdout",
     "output_type": "stream",
     "text": [
      "32\n"
     ]
    }
   ],
   "source": [
    "function dot_product(vector1, vector2)\n",
    "    @assert length(vector1) == length(vector2) # makes sure the vectors are the same size, if not throws an error\n",
    "    \n",
    "    dot_product_value = 0\n",
    "    for i in 1:length(vector1)\n",
    "        dot_product_value += vector1[i] * vector2[i]\n",
    "    end\n",
    "    return dot_product_value\n",
    "end\n",
    "\n",
    "vector_a = [1,2,3]\n",
    "vector_b = [4,5,6]\n",
    "\n",
    "value = dot_product(vector_a, vector_b)\n",
    "println(value)\n",
    "## we can compare this with the built in julia function for dot product \n"
   ]
  },
  {
   "cell_type": "code",
   "execution_count": 81,
   "metadata": {},
   "outputs": [
    {
     "name": "stdout",
     "output_type": "stream",
     "text": [
      "32\n"
     ]
    }
   ],
   "source": [
    "using LinearAlgebra # built in julia library providing linear algebra functions such as dot(): which computes the dot product\n",
    "\n",
    "vector_a = [1,2,3]\n",
    "vector_b = [4,5,6]\n",
    "julia_computed_value = dot(vector_a,vector_b)\n",
    "println(julia_computed_value)\n"
   ]
  },
  {
   "cell_type": "markdown",
   "metadata": {},
   "source": [
    "Just for fun lets do the dot product of a huge vector, i.e. something you'd never want to have to do by hand. A convenient way to make an \"empty\" array is to use the ```zeros(n)``` function, which gives you an array with the length you provide."
   ]
  },
  {
   "cell_type": "code",
   "execution_count": 91,
   "metadata": {},
   "outputs": [
    {
     "name": "stdout",
     "output_type": "stream",
     "text": [
      "1.131830893060919e28"
     ]
    }
   ],
   "source": [
    "using LinearAlgebra\n",
    "powers_of_2 = zeros(100) #array with length 100, all values = 0 \n",
    "powers_of_4 = zeros(100)\n",
    "\n",
    "for i in 1:100\n",
    "    powers_of_2[i] = 2^i\n",
    "    powers_of_4[i] = 4^i\n",
    "end\n",
    "\n",
    "dot_product_value = dot(powers_of_2, powers_of_4)\n",
    "print(dot_product_value) # ya that is a big number"
   ]
  },
  {
   "cell_type": "markdown",
   "metadata": {},
   "source": [
    "#### Note on what we just did above\n",
    "Most of the examples above were just that, examples. We were \"re-inventing the wheel\" because it was useful for us to learn looping and how it relates to math. You would not want to implement your own dot product function, or summation function. This type of functionality is provided for you by the Julia language. Here are a few examples. You can find more information at the [Linear Algebra Documentation Page.](https://docs.julialang.org/en/v1/stdlib/LinearAlgebra/#man-linalg), the [Math Documentation Page](https://docs.julialang.org/en/v1/base/math/), and [Statistics Documentation Page](https://docs.julialang.org/en/v1/stdlib/Statistics/)."
   ]
  },
  {
   "cell_type": "code",
   "execution_count": 102,
   "metadata": {},
   "outputs": [
    {
     "name": "stdout",
     "output_type": "stream",
     "text": [
      "100\n",
      "8.333333333333334\n",
      "6.5\n"
     ]
    }
   ],
   "source": [
    "using LinearAlgebra \n",
    "using Statistics # statistical functions\n",
    "our_vector = [1,2,3,4,5,6,7,8,9,10,15, 30]\n",
    "our_sum = sum(our_vector)\n",
    "our_average = mean(our_vector)\n",
    "our_median = median(our_vector)\n",
    "\n",
    "\n",
    "println(our_sum)\n",
    "println(our_average)\n",
    "println(our_median)\n"
   ]
  },
  {
   "cell_type": "markdown",
   "metadata": {},
   "source": [
    "## Convergence And Divergence of Series\n",
    "### how many terms until we reach sufficient convergence for the series expansions of certain functions \n",
    "#### $ e^x $\n",
    "\n",
    "$ e^x = \\sum_{n=0}^{\\infty} \\frac{x^n}{n!} = 1 + x + \\frac{x^2}{2!} +... $\n",
    "\n"
   ]
  },
  {
   "cell_type": "code",
   "execution_count": 140,
   "metadata": {},
   "outputs": [
    {
     "name": "stdout",
     "output_type": "stream",
     "text": [
      "2980.9579870417283\n",
      "10000\n",
      "2980.49734415140971737186138042863665753064094163583558648493871012594768070529\n"
     ]
    }
   ],
   "source": [
    "x = 8\n",
    "exp_exact = exp(x)\n",
    "println(exp_exact)\n",
    "\n",
    "our_exp = 0 \n",
    "i = 0 #iteration index \n",
    "while abs(exp_exact - our_exp) > 10^-7 && i < 10000\n",
    "    new_value = (x^i)/factorial(big(i))\n",
    "    our_exp += new_value\n",
    "    i+= 1\n",
    "end\n",
    "\n",
    "println(i)\n",
    "println(our_exp)\n",
    "\n",
    "\n",
    "\n",
    "\n"
   ]
  },
  {
   "cell_type": "markdown",
   "metadata": {},
   "source": [
    "\n",
    "#### sin(x) and cos(x)\n",
    "\n",
    "## What is an array\n",
    "### Array indexing \n",
    "### Iterate over an array \n",
    "### fill an array"
   ]
  },
  {
   "cell_type": "markdown",
   "metadata": {},
   "source": [
    "\n",
    "## Exercise\n",
    "**REMINDER**\n",
    "When working in Binder/Jupyter book, your files and changes are not persisted unless you are consistently using it. (If it goes idle you may lose your work!) **Save your files locally early and often!!!** \n",
    "\n",
    "Going forward all of the end of module exercises will be done in separate julia files(extension .jl). You can use the jupyter notebook to run them (this will be set up for you in the notebook). There will be two files of interest for the exercises: \n",
    "\n",
    "### Exercise File\n",
    "There will be a file called n-exercise.jl (where n is the module number). This file will have a scaffolding of functions that you will need to complete. \n",
    "\n",
    "Here is an example of how to use a julia file in jupyter notebook:"
   ]
  },
  {
   "cell_type": "code",
   "execution_count": null,
   "metadata": {},
   "outputs": [],
   "source": [
    "include(\"hello.jl\")\n",
    "hello_text = hello()\n",
    "println(hello_text)"
   ]
  },
  {
   "cell_type": "markdown",
   "metadata": {},
   "source": [
    "### Test Runner \n",
    "There will be a file called n-exercise-test-runner.jl for each module. This file runs test that will call the functions in your exercise file. **DO NOT MODIFY THIS FILE.** These test files will let you know if you have done the exercise correctly. \n",
    "\n",
    "Inside this file are tests called \"Unit Tests.\" These types of tests are very common in software engineering. In a good codebase, unit tests should be written to account for every scenario your code is expected to fulfil. \n",
    "\n",
    "An example of a unit test in julia: "
   ]
  },
  {
   "cell_type": "code",
   "execution_count": null,
   "metadata": {},
   "outputs": [],
   "source": [
    "using Test\n",
    "expected_value = 5\n",
    "our_value = sqrt(25)\n",
    "@test expected_value == our_value"
   ]
  },
  {
   "cell_type": "code",
   "execution_count": null,
   "metadata": {},
   "outputs": [],
   "source": [
    "using Test\n",
    "expected_value = 5\n",
    "wrong_value = 25 / 3\n",
    "@test our_value == wrong_value # a test that will fail"
   ]
  },
  {
   "cell_type": "markdown",
   "metadata": {},
   "source": [
    "### Example Test Runner\n",
    "\n",
    "Here is how to use one, the tests will be grouped and named to help you figure out which pass and which fail: "
   ]
  },
  {
   "cell_type": "code",
   "execution_count": null,
   "metadata": {},
   "outputs": [],
   "source": [
    "include(\"hello-test-runner.jl\")\n",
    "run_tests_module_hello()"
   ]
  },
  {
   "cell_type": "markdown",
   "metadata": {},
   "source": [
    "### Problem 1 - Build an Array\n",
    "Write a function that takes in a number number_of_values as a parameter and returns the first n odd numbers. "
   ]
  },
  {
   "cell_type": "markdown",
   "metadata": {},
   "source": [
    "### Problem 2 - convergence of e^x series expansion \n"
   ]
  },
  {
   "cell_type": "markdown",
   "metadata": {},
   "source": [
    "### Problem 3 - "
   ]
  },
  {
   "cell_type": "code",
   "execution_count": null,
   "metadata": {},
   "outputs": [],
   "source": []
  },
  {
   "cell_type": "code",
   "execution_count": null,
   "metadata": {},
   "outputs": [],
   "source": []
  },
  {
   "cell_type": "markdown",
   "metadata": {},
   "source": [
    "## Complex Numbers in Julia\n",
    "By the way, I forgot to mention this in the last module, but Julia natively can handle complex numbers; \n",
    "\n",
    "See [Documentation](https://docs.julialang.org/en/v1/manual/complex-and-rational-numbers/#Complex-Numbers) for more information and operations availible with complex numbers"
   ]
  },
  {
   "cell_type": "code",
   "execution_count": null,
   "metadata": {},
   "outputs": [],
   "source": [
    "complex_1 = (1 + 2im)\n",
    "print(\"A complex number: \")\n",
    "println(complex_1)\n",
    "\n",
    "print(\"A complex number addition operation: \")\n",
    "complex_3 = complex_1 + (1 + 2im)\n",
    "println(complex_3 )\n",
    "\n",
    "print(\"real part of complex 1: \")\n",
    "println(real(complex_1))"
   ]
  },
  {
   "cell_type": "markdown",
   "metadata": {},
   "source": [
    "\n",
    "## VSCode IDE\n",
    "### virtues of using an ide\n",
    "### download links and installation instructions "
   ]
  }
 ],
 "metadata": {
  "kernelspec": {
   "display_name": "Julia 1.6.3",
   "language": "julia",
   "name": "julia-1.6"
  },
  "language_info": {
   "file_extension": ".jl",
   "mimetype": "application/julia",
   "name": "julia",
   "version": "1.6.3"
  },
  "orig_nbformat": 4
 },
 "nbformat": 4,
 "nbformat_minor": 2
}
