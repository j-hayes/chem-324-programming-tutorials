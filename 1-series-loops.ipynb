{
 "cells": [
  {
   "cell_type": "markdown",
   "metadata": {},
   "source": [
    "# Series, Loops, and Arrays"
   ]
  },
  {
   "cell_type": "markdown",
   "metadata": {},
   "source": [
    "## VSCode IDE\n",
    "### virtues of using an ide\n",
    "### download links and installation instructions \n",
    "\n",
    "## What is a loop\n",
    "### Hello World Loop\n",
    "\n",
    "### Print out even numbers (if statement)\n",
    "### Print out even numbers in a smart way (2*i)\n",
    "\n",
    "## Implement a easy series as a loop\n",
    "\n",
    "## Iterate over an array \n",
    "## Convergence And Divergence \n",
    "### how many terms until we reach sufficient convergence \n",
    "#### e^x, sin(x), cos(X)\n",
    "\n",
    "## What is an array\n",
    "### Array indexing \n",
    "### Iterate over an array \n",
    "### fill an array"
   ]
  },
  {
   "cell_type": "markdown",
   "metadata": {},
   "source": [
    "## Excercises \n",
    "### How to edit the n-excercise.jl files\n",
    "\n",
    "### Using the test runner n-excercise-test-runner.jl\n"
   ]
  },
  {
   "cell_type": "code",
   "execution_count": null,
   "metadata": {},
   "outputs": [],
   "source": [
    "include(\"hello.jl\")\n",
    "hello()"
   ]
  },
  {
   "cell_type": "code",
   "execution_count": null,
   "metadata": {},
   "outputs": [],
   "source": [
    "include(\"hello-test-runner.jl\")\n",
    "include(\"hello.jl\")\n",
    "hello()"
   ]
  },
  {
   "cell_type": "markdown",
   "metadata": {},
   "source": []
  }
 ],
 "metadata": {
  "kernelspec": {
   "display_name": "Julia 1.6.3",
   "language": "julia",
   "name": "julia-1.6"
  },
  "language_info": {
   "file_extension": ".jl",
   "mimetype": "application/julia",
   "name": "julia",
   "version": "1.6.3"
  },
  "orig_nbformat": 4
 },
 "nbformat": 4,
 "nbformat_minor": 2
}
