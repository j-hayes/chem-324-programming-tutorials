{
 "cells": [
  {
   "cell_type": "markdown",
   "metadata": {},
   "source": [
    "# Series, Loops, and Arrays"
   ]
  },
  {
   "cell_type": "markdown",
   "metadata": {},
   "source": [
    "## Loops\n",
    "\n",
    "A loop is a programming construct that allows the programmer to run the block of code multiple times without having to write the code multiple times. \n",
    "\n",
    "### For loop\n",
    "Example: "
   ]
  },
  {
   "cell_type": "code",
   "execution_count": 42,
   "metadata": {},
   "outputs": [
    {
     "name": "stdout",
     "output_type": "stream",
     "text": [
      "The copy paste way: (bad)\n",
      "hello world\n",
      "hello world\n",
      "hello world\n",
      "hello world\n",
      "hello world\n",
      "-----------\n",
      "A loop way:\n",
      "hello world\n",
      "hello world\n",
      "hello world\n",
      "hello world\n",
      "hello world\n"
     ]
    }
   ],
   "source": [
    "println(\"The copy paste way: (bad)\")\n",
    "\n",
    "println(\"hello world\")\n",
    "println(\"hello world\")\n",
    "println(\"hello world\")\n",
    "println(\"hello world\")\n",
    "println(\"hello world\")\n",
    "\n",
    "println(\"-----------\")\n",
    "println(\"The loop way:\")\n",
    "\n",
    "for i in 1:5\n",
    "    println(\"hello world\")\n",
    "end\n"
   ]
  },
  {
   "cell_type": "markdown",
   "metadata": {},
   "source": [
    "The syntax of a loop:\n",
    "``` julia\n",
    "for ## begins the loop\n",
    "    # block of code that will be run multiple times \n",
    "end # ends the loop\n",
    "```\n",
    "i : the \"index\" of the loop\n",
    "1:5 : a range of numbers from 1-5 inclusive (i.e 1,2,3,4,5) \n",
    "in : says to do the loop for each value in the following. The loop will assign the values 1,2,3,4,5 in order. \n",
    "\n",
    "Here is an example corresponding to the following summation. It will print the value at each iteration\n",
    "\n",
    "$\\sum_{i=1}^{10} i$\n",
    "\n",
    "(note) the operator += adds the value on the right side of the operator to the existing value in the value to the left; \n",
    "``` julia \n",
    "number = 1 \n",
    "number += 1 # now number equals 2\n",
    "\n",
    "```"
   ]
  },
  {
   "cell_type": "code",
   "execution_count": 44,
   "metadata": {},
   "outputs": [
    {
     "name": "stdout",
     "output_type": "stream",
     "text": [
      "value at i=1: 1\n",
      "value at i=2: 3\n",
      "value at i=3: 6\n",
      "value at i=4: 10\n",
      "value at i=5: 15\n",
      "value at i=6: 21\n",
      "value at i=7: 28\n",
      "value at i=8: 36\n",
      "value at i=9: 45\n",
      "value at i=10: 55\n",
      "final value: 55\n"
     ]
    }
   ],
   "source": [
    "summation_value = 0\n",
    "for i in 1:10\n",
    "    summation_value += i \n",
    "    println(\"value at i=$(i): $(summation_value)\")\n",
    "end\n",
    "println(\"final value: $(summation_value)\")\n"
   ]
  },
  {
   "cell_type": "markdown",
   "metadata": {},
   "source": [
    "### While loop\n",
    "You can accomplish the same concepts with a while loop. A while loop continues to run until the condition after the word while is false.\n",
    "\n"
   ]
  },
  {
   "cell_type": "code",
   "execution_count": 46,
   "metadata": {},
   "outputs": [
    {
     "name": "stdout",
     "output_type": "stream",
     "text": [
      "final value: 55\n"
     ]
    }
   ],
   "source": [
    "i = 0\n",
    "summation_value = 0\n",
    "\n",
    "while i <= 10\n",
    "    summation_value += i\n",
    "    i += 1 # make sure to do the incrementing of i as the last line of code in the loop or you will get the wrong result \n",
    "end\n",
    "println(\"final value: $(summation_value)\")\n"
   ]
  },
  {
   "cell_type": "markdown",
   "metadata": {},
   "source": [
    "### Print out even numbers \n",
    "Let's print out the first 5 even numbers \n",
    "#### A simple way of doing it if statement"
   ]
  },
  {
   "cell_type": "code",
   "execution_count": 48,
   "metadata": {},
   "outputs": [
    {
     "name": "stdout",
     "output_type": "stream",
     "text": [
      "2\n",
      "4\n",
      "6\n",
      "8\n",
      "10\n"
     ]
    }
   ],
   "source": [
    "for i in 1:10\n",
    "    if i % 2 == 0 # does i divided by 2 have a remainder not equal to zero\n",
    "        println(\"$(i)\")\n",
    "    end    \n",
    "end"
   ]
  },
  {
   "cell_type": "markdown",
   "metadata": {},
   "source": [
    "### Print out even numbers in a smarter way (2*i)"
   ]
  },
  {
   "cell_type": "code",
   "execution_count": 50,
   "metadata": {},
   "outputs": [
    {
     "name": "stdout",
     "output_type": "stream",
     "text": [
      "2\n",
      "4\n",
      "6\n",
      "8\n",
      "10\n"
     ]
    }
   ],
   "source": [
    "for i in 1:5   \n",
    "    println(\"$(2*i)\")   \n",
    "end"
   ]
  },
  {
   "cell_type": "markdown",
   "metadata": {},
   "source": [
    "### Calling a function in a loop"
   ]
  },
  {
   "cell_type": "code",
   "execution_count": 52,
   "metadata": {},
   "outputs": [
    {
     "name": "stdout",
     "output_type": "stream",
     "text": [
      "value at i=1: 1\n",
      "value at i=2: 3\n",
      "value at i=3: 6\n",
      "value at i=4: 10\n",
      "value at i=5: 15\n",
      "value at i=6: 21\n",
      "value at i=7: 28\n",
      "value at i=8: 36\n",
      "value at i=9: 45\n",
      "value at i=10: 55\n",
      "final value: 55\n"
     ]
    }
   ],
   "source": [
    "function print_iteration_message(index, summation_value)\n",
    "    println(\"value at i=$(index): $(summation_value)\")\n",
    "end\n",
    "\n",
    "summation_value = 0\n",
    "for i in 1:10\n",
    "    summation_value += i \n",
    "    print_iteration_message(i, summation_value)\n",
    "end\n",
    "println(\"final value: $(summation_value)\")\n"
   ]
  },
  {
   "cell_type": "code",
   "execution_count": null,
   "metadata": {},
   "outputs": [],
   "source": []
  },
  {
   "cell_type": "markdown",
   "metadata": {},
   "source": [
    "## Arrays \n",
    "An array is similar to the mathematical construct of a vector (julia actually calls them vectors, other languages call them arrays and is more common). It is a list of values. A common use of vectors is to define a point in space (x,y,z). You can use the normal vector algebra you would expect. \n",
    "\n",
    "\n"
   ]
  },
  {
   "cell_type": "code",
   "execution_count": 57,
   "metadata": {},
   "outputs": [
    {
     "data": {
      "text/plain": [
       "3-element Vector{Int64}:\n",
       " 0\n",
       " 0\n",
       " 0"
      ]
     },
     "metadata": {},
     "output_type": "display_data"
    },
    {
     "data": {
      "text/plain": [
       "3-element Vector{Int64}:\n",
       " 1\n",
       " 1\n",
       " 2"
      ]
     },
     "metadata": {},
     "output_type": "display_data"
    },
    {
     "data": {
      "text/plain": [
       "3-element Vector{Int64}:\n",
       " 1\n",
       " 2\n",
       " 6"
      ]
     },
     "execution_count": 57,
     "metadata": {},
     "output_type": "execute_result"
    }
   ],
   "source": [
    "point_int_space_origin = [0,0,0]\n",
    "display(point_int_space_origin) # display is a fancy print function with more information about the object you pass in\n",
    "\n",
    "second_point = point_int_space_origin + [1,1,2]\n",
    "display(second_point)"
   ]
  },
  {
   "cell_type": "markdown",
   "metadata": {},
   "source": [
    "You can do \"element-wise\" operations using .{operator here} (for multiplication this is called a Hadamard Product)\n",
    "\n"
   ]
  },
  {
   "cell_type": "code",
   "execution_count": 62,
   "metadata": {},
   "outputs": [
    {
     "data": {
      "text/plain": [
       "3-element Vector{Int64}:\n",
       " 2\n",
       " 4\n",
       " 6"
      ]
     },
     "metadata": {},
     "output_type": "display_data"
    },
    {
     "data": {
      "text/plain": [
       "3-element Vector{Int64}:\n",
       " 2\n",
       " 4\n",
       " 6"
      ]
     },
     "metadata": {},
     "output_type": "display_data"
    },
    {
     "data": {
      "text/plain": [
       "3-element Vector{Int64}:\n",
       "  3\n",
       " 10\n",
       " 30"
      ]
     },
     "metadata": {},
     "output_type": "display_data"
    }
   ],
   "source": [
    "multiplied_point = [1,2,3] .* [2,2,2] \n",
    "display(multiplied_point)\n",
    "#which is the same as\n",
    "\n",
    "multiplied_point = 2*[1,2,3] \n",
    "display(multiplied_point)\n",
    "\n",
    "#but could be used to do \n",
    "multiplied_point = [1,2,3] .* [3,5,10] \n",
    "display(multiplied_point)\n",
    "\n"
   ]
  },
  {
   "cell_type": "markdown",
   "metadata": {},
   "source": [
    "\n",
    "\n",
    "### Iterate over an array using a loop"
   ]
  },
  {
   "cell_type": "markdown",
   "metadata": {},
   "source": [
    "## Convergence And Divergence \n",
    "### how many terms until we reach sufficient convergence \n",
    "#### e^x, sin(x), cos(X)\n",
    "\n",
    "## What is an array\n",
    "### Array indexing \n",
    "### Iterate over an array \n",
    "### fill an array"
   ]
  },
  {
   "cell_type": "markdown",
   "metadata": {},
   "source": [
    "**REMINDER**\n",
    "When working in Binder/Jupyter book, your files and changes are not persisted unless you are consistently using it. (If it goes idle you may lose your work!) **Save your files locally early and often!!!** \n",
    "\n",
    "## Exercise\n",
    "\n",
    "Going forward all of the end of module exercises will be done in separate julia files(extension .jl). You can use the jupyter notebook to run them (this will be set up for you in the notebook). There will be two files of interest for the exercises: \n",
    "\n",
    "### Exercise File\n",
    "There will be a file called n-exercise.jl (where n is the module number). This file will have a scaffolding of functions that you will need to complete. \n",
    "\n",
    "Here is an example of how to use a julia file in jupyter notebook:"
   ]
  },
  {
   "cell_type": "code",
   "execution_count": 7,
   "metadata": {},
   "outputs": [
    {
     "name": "stdout",
     "output_type": "stream",
     "text": [
      "hello world\n"
     ]
    }
   ],
   "source": [
    "include(\"hello.jl\")\n",
    "hello_text = hello()\n",
    "println(hello_text)"
   ]
  },
  {
   "cell_type": "markdown",
   "metadata": {},
   "source": [
    "### Test Runner \n",
    "There will be a file called n-exercise-test-runner.jl for each module. This file runs test that will call the functions in your exercise file. **DO NOT MODIFY THIS FILE.** These test files will let you know if you have done the exercise correctly. \n",
    "\n",
    "Inside this file are tests called \"Unit Tests.\" These types of tests are very common in software engineering. In a good codebase, unit tests should be written to account for every scenario your code is expected to fulfil. \n",
    "\n",
    "An example of a unit test in julia: "
   ]
  },
  {
   "cell_type": "code",
   "execution_count": 11,
   "metadata": {},
   "outputs": [
    {
     "data": {
      "text/plain": [
       "\u001b[32m\u001b[1mTest Passed\u001b[22m\u001b[39m"
      ]
     },
     "execution_count": 11,
     "metadata": {},
     "output_type": "execute_result"
    }
   ],
   "source": [
    "using Test\n",
    "expected_value = 5\n",
    "our_value = sqrt(25)\n",
    "@test expected_value == our_value"
   ]
  },
  {
   "cell_type": "code",
   "execution_count": 12,
   "metadata": {},
   "outputs": [
    {
     "name": "stdout",
     "output_type": "stream",
     "text": [
      "\u001b[91m\u001b[1mTest Failed\u001b[22m\u001b[39m at \u001b[39m\u001b[1mIn[12]:4\u001b[22m\n",
      "  Expression: our_value == wrong_value\n",
      "   Evaluated: 5.0 == 8.333333333333334\n"
     ]
    },
    {
     "ename": "LoadError",
     "evalue": "\u001b[91mThere was an error during testing\u001b[39m",
     "output_type": "error",
     "traceback": [
      "\u001b[91mThere was an error during testing\u001b[39m",
      "",
      "Stacktrace:",
      " [1] record(ts::Test.FallbackTestSet, t::Union{Test.Error, Test.Fail})",
      "   @ Test /buildworker/worker/package_linux64/build/usr/share/julia/stdlib/v1.6/Test/src/Test.jl:772",
      " [2] do_test(result::Test.ExecutionResult, orig_expr::Any)",
      "   @ Test /buildworker/worker/package_linux64/build/usr/share/julia/stdlib/v1.6/Test/src/Test.jl:555",
      " [3] top-level scope",
      "   @ In[12]:4",
      " [4] eval",
      "   @ ./boot.jl:360 [inlined]",
      " [5] include_string(mapexpr::typeof(REPL.softscope), mod::Module, code::String, filename::String)",
      "   @ Base ./loading.jl:1116"
     ]
    }
   ],
   "source": [
    "using Test\n",
    "expected_value = 5\n",
    "wrong_value = 25 / 3\n",
    "@test our_value == wrong_value # a test that will fail"
   ]
  },
  {
   "cell_type": "markdown",
   "metadata": {},
   "source": [
    "### Example Test Runner\n",
    "\n",
    "Here is how to use one, the tests will be grouped and named to help you figure out which pass and which fail: "
   ]
  },
  {
   "cell_type": "code",
   "execution_count": 14,
   "metadata": {},
   "outputs": [
    {
     "name": "stdout",
     "output_type": "stream",
     "text": [
      "\u001b[37m\u001b[1mTest Summary: | \u001b[22m\u001b[39m\u001b[32m\u001b[1mPass  \u001b[22m\u001b[39m\u001b[36m\u001b[1mTotal\u001b[22m\u001b[39m\n",
      "hello tests   | \u001b[32m   1  \u001b[39m\u001b[36m    1\u001b[39m\n",
      "\u001b[37m\u001b[1mTest Summary:    | \u001b[22m\u001b[39m\u001b[32m\u001b[1mPass  \u001b[22m\u001b[39m\u001b[36m\u001b[1mTotal\u001b[22m\u001b[39m\n",
      "hello name tests | \u001b[32m   1  \u001b[39m\u001b[36m    1\u001b[39m\n"
     ]
    },
    {
     "data": {
      "text/plain": [
       "Test.DefaultTestSet(\"hello name tests\", Any[], 1, false, false)"
      ]
     },
     "execution_count": 14,
     "metadata": {},
     "output_type": "execute_result"
    }
   ],
   "source": [
    "include(\"hello-test-runner.jl\")\n",
    "run_tests_module_hello()"
   ]
  },
  {
   "cell_type": "markdown",
   "metadata": {},
   "source": [
    "### Problem 1 - Build an Array\n",
    "Write a function that takes in a number number_of_values as a parameter and returns the first n odd numbers. "
   ]
  },
  {
   "cell_type": "markdown",
   "metadata": {},
   "source": [
    "### Problem 2 - convergence of e^x series expansion \n"
   ]
  },
  {
   "cell_type": "markdown",
   "metadata": {},
   "source": [
    "### Problem 3 - "
   ]
  },
  {
   "cell_type": "code",
   "execution_count": null,
   "metadata": {},
   "outputs": [],
   "source": []
  },
  {
   "cell_type": "code",
   "execution_count": null,
   "metadata": {},
   "outputs": [],
   "source": []
  },
  {
   "cell_type": "markdown",
   "metadata": {},
   "source": [
    "## Complex Numbers in Julia\n",
    "By the way, I forgot to mention this in the last module, but Julia natively can handle complex numbers; \n",
    "\n",
    "See [Documentation](https://docs.julialang.org/en/v1/manual/complex-and-rational-numbers/#Complex-Numbers) for more information and operations availible with complex numbers"
   ]
  },
  {
   "cell_type": "code",
   "execution_count": 38,
   "metadata": {},
   "outputs": [
    {
     "name": "stdout",
     "output_type": "stream",
     "text": [
      "A complex number: 1 + 2im\n",
      "A complex number addition operation: 2 + 4im\n",
      "real part of complex 1: 1\n"
     ]
    }
   ],
   "source": [
    "complex_1 = (1 + 2im)\n",
    "print(\"A complex number: \")\n",
    "println(complex_1)\n",
    "\n",
    "print(\"A complex number addition operation: \")\n",
    "complex_3 = complex_1 + (1 + 2im)\n",
    "println(complex_3 )\n",
    "\n",
    "print(\"real part of complex 1: \")\n",
    "println(real(complex_1))"
   ]
  },
  {
   "cell_type": "markdown",
   "metadata": {},
   "source": [
    "\n",
    "## VSCode IDE\n",
    "### virtues of using an ide\n",
    "### download links and installation instructions "
   ]
  }
 ],
 "metadata": {
  "kernelspec": {
   "display_name": "Julia 1.6.3",
   "language": "julia",
   "name": "julia-1.6"
  },
  "language_info": {
   "file_extension": ".jl",
   "mimetype": "application/julia",
   "name": "julia",
   "version": "1.6.3"
  },
  "orig_nbformat": 4
 },
 "nbformat": 4,
 "nbformat_minor": 2
}
