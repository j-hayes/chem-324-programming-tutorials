{
 "cells": [
  {
   "cell_type": "markdown",
   "metadata": {},
   "source": [
    "# Tooling, Documentation, and Community"
   ]
  },
  {
   "cell_type": "markdown",
   "metadata": {},
   "source": [
    "## Tooling\n",
    "\n",
    "The two most commons tools for coding in Julia are:\n",
    "\n",
    "1. The Julia REPL (the terminal)\n",
    "2. Juno, the IDE in Atom\n",
    "3. Jupyter notebooks\n",
    "\n",
    "Other solutions exist (SublimeText, Emacs, etc.). The general mantra is:\n",
    "\n",
    "> Jupyter notebooks are for code, Juno is for data. (Mike Innes, developer of Juno)\n",
    "\n",
    "Jupyter notebooks do not easily show code from multiple files, do not have a debugging GUI, and it doesn't have as easy access to a console, making it less friendly for developing large projects (like packages). However, Jupyter notebooks store their outputs in a convenient form, which is good for saving and sharing results. I suggest that you learn both and use the right tool for the right job.\n",
    "\n",
    "### Jupyter Notebooks with no Install\n",
    "\n",
    "Go to www.juliabox.com and sign in to start using Julia on a cloud-based Jupyter notebook. (Note: you may need to use `Pkg.update()` to update your local package database (\"METADATA\") on first use).\n",
    "\n",
    "### Installing Julia\n",
    "\n",
    "Unless you're a serious hacker, I recommend installing Julia by downloading one of the binaries from http://julialang.org/downloads/. There are ready-to-use binaries for most operating systems. Just download, run the installer, and use Julia.\n",
    "\n",
    "If you want to build from the source, the repository along with the build instructions are at https://github.com/JuliaLang/julia.  \n",
    "\n",
    "### Installing Jupyter Notebooks\n",
    "\n",
    "To install Jupyter notebooks (IJulia), use the following commands in the REPL:"
   ]
  },
  {
   "cell_type": "code",
   "execution_count": null,
   "metadata": {
    "collapsed": true
   },
   "outputs": [],
   "source": [
    "Pkg.add(\"IJulia\") # This will install the package\n",
    "### Next commands you run each time you open the REPL\n",
    "using IJulia\n",
    "notebook()"
   ]
  },
  {
   "cell_type": "markdown",
   "metadata": {},
   "source": [
    "### Installing Juno\n",
    "\n",
    "To install Juno, use the installation instructions from here: https://github.com/JunoLab/uber-juno/blob/master/setup.md"
   ]
  },
  {
   "cell_type": "markdown",
   "metadata": {},
   "source": [
    "## Documentation\n",
    "\n",
    "The Julia documentation can be found at http://docs.julialang.org/en/latest/manual/\n",
    "\n",
    "Documentation can be found from the REPL by using `?` in front of a command.\n",
    "\n",
    "###Good Pages to Read\n",
    "\n",
    "The following documentation pages are good pages to read in full:\n",
    "\n",
    "- [Noteworthy Differences from Other Languages](http://docs.julialang.org/en/release-0.5/manual/noteworthy-differences/)\n",
    "- [Performance Tips](http://docs.julialang.org/en/release-0.5/manual/performance-tips/)"
   ]
  },
  {
   "cell_type": "markdown",
   "metadata": {},
   "source": [
    "## Community\n",
    "\n",
    "Julia is changing fast: there are updates every few months which bring in loads of new features, packages are updating all of the time, and the documentation, while good, is not entirely complete. The best fix for these problems is to be engaged in the Julia community.\n",
    "\n",
    "#### I would highly recommend finding a good online community while learning Julia\n",
    "\n",
    "The main Julia community resources are:\n",
    "\n",
    "- [The JuliaLang Gitter](https://gitter.im/JuliaLang/julia) - A chatroom for Julia users\n",
    "- [julia-users Google group](https://groups.google.com/forum/#!forum/julia-users) - A mailing list for Julia users. Frequented by core developers.\n",
    "- [The JuliaLang Github Repository](https://github.com/JuliaLang/julia) - The issues/PRs document everything changing in Julia\n",
    "- [JuliaBloggers](http://www.juliabloggers.com/) - A blog aggregator for Julia\n",
    "- [r/Julia](https://www.reddit.com/r/Julia/) - A subreddit for Julia\n",
    "- [StackOverflow tag:julia-lang](http://stackoverflow.com/questions/tagged/julia-lang) - Q&A site for Julia"
   ]
  }
 ],
 "metadata": {
  "kernelspec": {
   "display_name": "Julia 0.5.0-rc3",
   "language": "julia",
   "name": "julia-0.5"
  },
  "language_info": {
   "file_extension": ".jl",
   "mimetype": "application/julia",
   "name": "julia",
   "version": "0.5.0"
  }
 },
 "nbformat": 4,
 "nbformat_minor": 0
}
