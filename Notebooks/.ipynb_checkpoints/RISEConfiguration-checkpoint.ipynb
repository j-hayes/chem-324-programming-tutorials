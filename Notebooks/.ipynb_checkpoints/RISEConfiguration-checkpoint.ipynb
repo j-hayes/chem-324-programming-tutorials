{
 "cells": [
  {
   "cell_type": "code",
   "execution_count": 10,
   "metadata": {
    "collapsed": false
   },
   "outputs": [
    {
     "data": {
      "text/plain": [
       "{u'height': 900,\n",
       " u'scroll': True,\n",
       " u'start_slideshow_at': 'selected',\n",
       " u'theme': 'sky',\n",
       " u'transition': 'zoom',\n",
       " u'width': 1600}"
      ]
     },
     "execution_count": 10,
     "metadata": {},
     "output_type": "execute_result"
    }
   ],
   "source": [
    "from traitlets.config.manager import BaseJSONConfigManager\n",
    "path = \"/home/crackauc/.jupyter/nbconfig\"\n",
    "cm = BaseJSONConfigManager(config_dir=path)\n",
    "cm.update('livereveal', {\n",
    "              'theme': 'sky',\n",
    "              'transition': 'zoom',\n",
    "              'start_slideshow_at': 'selected',\n",
    "                'width' : 1600,\n",
    "                'height': 900,\n",
    "                'scroll': True,\n",
    "})\n",
    "\n",
    "#\n",
    "#from notebook.services.config import ConfigManager\n",
    "#cm = ConfigManager()\n",
    "#cm.update('livereveal', {\n",
    "#        'width': 1600,\n",
    "#        'height': 800,\n",
    "#        'scroll': True,\n",
    "#})\n",
    "\n",
    "\n",
    "\n",
    "\n",
    "#\n",
    "#from notebook.services.config import ConfigManager\n",
    "#cm = ConfigManager()\n",
    "#cm.update('livereveal', {\n",
    "#        'width': 1600,\n",
    "#        'height': 800,\n",
    "#        'scroll': True,\n",
    "#})\n",
    "\n",
    "#\n",
    "#from notebook.services.config import ConfigManager\n",
    "#cm = ConfigManager()\n",
    "#cm.update('livereveal', {\n",
    "#        'width': 1600,\n",
    "#        'height': 800,\n",
    "#        'scroll': True,\n",
    "#})\n"
   ]
  }
 ],
 "metadata": {
  "kernelspec": {
   "display_name": "Python 2",
   "language": "python",
   "name": "python2"
  },
  "language_info": {
   "codemirror_mode": {
    "name": "ipython",
    "version": 2
   },
   "file_extension": ".py",
   "mimetype": "text/x-python",
   "name": "python",
   "nbconvert_exporter": "python",
   "pygments_lexer": "ipython2",
   "version": "2.7.5"
  }
 },
 "nbformat": 4,
 "nbformat_minor": 1
}
