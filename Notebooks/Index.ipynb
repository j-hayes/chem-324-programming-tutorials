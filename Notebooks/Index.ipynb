{
 "cells": [
  {
   "cell_type": "markdown",
   "metadata": {
    "slideshow": {
     "slide_type": "slide"
    }
   },
   "source": [
    "# Jupyter Site"
   ]
  },
  {
   "cell_type": "markdown",
   "metadata": {
    "slideshow": {
     "slide_type": "fragment"
    }
   },
   "source": [
    "JupyterSite allows you to easily build a suite of rendered documents from Jupyter\n",
    "notebooks. Jupyter notebooks go in, html/markdown pages, PDFs, slideshows, and tex\n",
    "comes out. If you use this in a Github repository, it will even build a Github pages\n",
    "site. This also shows how to make the notebooks easily accessible in Julia.\n",
    "\n",
    "It just takes one button, simplifying the entire process. The `publish.sh` file\n",
    "does all the heavy lifting, showing you how to do all of this (any of the conversions\n",
    "can be disabled by commenting out the appropriate lines)."
   ]
  },
  {
   "cell_type": "markdown",
   "metadata": {
    "slideshow": {
     "slide_type": "slide"
    }
   },
   "source": [
    "## Example Site\n",
    "\n",
    "An example of the product this package generates can be found at: https://github.com/UCIDataScienceInitiative/IntroToJulia . \n",
    "\n",
    "The site that this generates is: http://UCIDataScienceInitiative.github.io/IntroToJulia/"
   ]
  },
  {
   "cell_type": "markdown",
   "metadata": {
    "slideshow": {
     "slide_type": "slide"
    }
   },
   "source": [
    "## Installation\n",
    "\n",
    "To use this, first install Jupyter (note: Python must be installed)\n",
    "\n",
    "```bash\n",
    "pip install jupyter\n",
    "```\n",
    "\n",
    "For the PDF output to work, a distribution of LaTeX must be installed. Also, we\n",
    "will need pandoc:\n",
    "\n",
    "```bash\n",
    "pip install pandoc\n",
    "```"
   ]
  },
  {
   "cell_type": "markdown",
   "metadata": {
    "slideshow": {
     "slide_type": "slide"
    }
   },
   "source": [
    "## Using the Package\n",
    "\n",
    "### Downloading the Template\n",
    "\n",
    "The easiest way to get started is to clone the package repository using Git:\n",
    "\n",
    "```bash\n",
    "git clone https://github.com/ChrisRackauckas/JupyterSite\n",
    "```"
   ]
  },
  {
   "cell_type": "markdown",
   "metadata": {
    "slideshow": {
     "slide_type": "slide"
    }
   },
   "source": [
    "### The Notebooks\n",
    "\n",
    "The files which the site is built from are the notebooks that are included in\n",
    "the Notebooks folder. The `Index.ipynb` file build the site index (the first\n",
    "page shown in the webpage) and additional `.ipynb` files are rendered in the various\n",
    "forms. Thus to add your own content, simply add the `.ipynb` files to this directory.\n",
    "\n",
    "Note that notebooks have to be setup for slides in order for the slideshow to work.\n",
    "Inside the notebook, use view > CellToolbar > Slideshow and set the appropriate blocks\n",
    "to slides."
   ]
  },
  {
   "cell_type": "markdown",
   "metadata": {
    "slideshow": {
     "slide_type": "slide"
    }
   },
   "source": [
    "### Building The Site\n",
    "\n",
    "To build the site files, use the `publish.sh` file. To do so, go to the top directory\n",
    "of the repository and use the command:\n",
    "\n",
    "```bash\n",
    "sh publish.sh\n",
    "```\n",
    "\n",
    "If your Git is correctly setup, this will render the files and upload the files to\n",
    "Github. Upon success, your `index.html` will be available at:\n",
    "\n",
    "```\n",
    "http://<github-username>.github.io/<repository-name>/\n",
    "```\n",
    "\n",
    "For example, my user name is ChrisRackauckas and this repository is named JupyterSite.\n",
    "Therefore the site for that this makes is at\n",
    "\n",
    "```\n",
    "http://ChrisRackauckas.github.io/JupyterSite/\n",
    "```\n",
    "\n",
    "For organizations, the user name is replaced with the organization name."
   ]
  },
  {
   "cell_type": "markdown",
   "metadata": {
    "slideshow": {
     "slide_type": "subslide"
    }
   },
   "source": [
    "#### Caveat\n",
    "\n",
    "Note that PDF output is not compatible with the usage of Markdown images (though\n",
    "code with images will allow the PDFs to build, but the images will not appear)."
   ]
  },
  {
   "cell_type": "markdown",
   "metadata": {
    "slideshow": {
     "slide_type": "slide"
    }
   },
   "source": [
    "## Easy Usage from Julia\n",
    "\n",
    "This repository is also setup as a Julia package repository. To have users easily\n",
    "open up the Jupyter notebooks, they can use the commands from within Julia:"
   ]
  },
  {
   "cell_type": "code",
   "execution_count": null,
   "metadata": {
    "collapsed": true,
    "slideshow": {
     "slide_type": "fragment"
    }
   },
   "outputs": [],
   "source": [
    "Pkg.add(\"IJulia\") # use once to install IJulia\n",
    "Pkg.clone(\"https://github.com/ChrisRackauckas/JupyterSite\") # Change this to your Github repo\n",
    "using IJulia\n",
    "notebook(dir=Pkg.dir(\"JupyterSite\")*\"/Notebooks\")"
   ]
  },
  {
   "cell_type": "markdown",
   "metadata": {
    "slideshow": {
     "slide_type": "fragment"
    }
   },
   "source": [
    "This will open up the Jupyter notebook at the location of your notebooks"
   ]
  },
  {
   "cell_type": "markdown",
   "metadata": {
    "slideshow": {
     "slide_type": "slide"
    }
   },
   "source": [
    "### Additional Feature: Continuous Integration Testing\n",
    "\n",
    "One can use Julia's continuous integration testing framework to test your notebooks.\n",
    "To do so, check out [this blog post](http://www.stochasticlifestyle.com/finalizing-julia-package-documentation-testing-coverage-publishing/)\n",
    "for how to setup Julia CI and [NBinclude.jl](https://github.com/stevengj/NBInclude.jl) for how\n",
    "to include notebook files into Julia. Use this to add tests to the test/runtests.jl\n",
    "file. To run the tests locally, use the commands"
   ]
  },
  {
   "cell_type": "code",
   "execution_count": null,
   "metadata": {
    "collapsed": true,
    "slideshow": {
     "slide_type": "fragment"
    }
   },
   "outputs": [],
   "source": [
    "Pkg.test(\"JupyterSite\")"
   ]
  },
  {
   "cell_type": "markdown",
   "metadata": {
    "slideshow": {
     "slide_type": "slide"
    }
   },
   "source": [
    "# Example Output\n",
    "\n",
    "The example notebooks can be found at:\n",
    "\n",
    "https://github.com/ChrisRackauckas/JupyterSite/blob/master/Notebooks\n",
    "\n",
    "## HTML\n",
    "\n",
    "https://chrisrackauckas.github.io/JupyterSite/\n",
    "\n",
    "https://chrisrackauckas.github.io/JupyterSite/Html/GithubIntroduction.html\n",
    "\n",
    "## Slides\n",
    "\n",
    "https://chrisrackauckas.github.io/JupyterSite/Slides/Index.html\n",
    "\n",
    "https://chrisrackauckas.github.io/JupyterSite/Slides/GithubIntroduction.html\n",
    "\n",
    "## Markdown\n",
    "\n",
    "https://github.com/ChrisRackauckas/JupyterSite/tree/master/Markdown\n",
    "\n",
    "## LaTeX\n",
    "\n",
    "https://github.com/ChrisRackauckas/JupyterSite/tree/master/Tex\n",
    "\n",
    "## PDF\n",
    "\n",
    "https://github.com/ChrisRackauckas/JupyterSite/tree/master/Pdfs"
   ]
  }
 ],
 "metadata": {
  "celltoolbar": "Slideshow",
  "kernelspec": {
   "display_name": "Julia 0.5.0-rc3",
   "language": "julia",
   "name": "julia-0.5"
  },
  "language_info": {
   "file_extension": ".jl",
   "mimetype": "application/julia",
   "name": "julia",
   "version": "0.5.0"
  }
 },
 "nbformat": 4,
 "nbformat_minor": 1
}
