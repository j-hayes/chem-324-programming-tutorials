{
 "cells": [
  {
   "cell_type": "markdown",
   "metadata": {},
   "source": [
    "# Loops, Arrays (Vectors), and Series"
   ]
  },
  {
   "cell_type": "markdown",
   "metadata": {},
   "source": [
    "## Loops\n",
    "\n",
    "A loop is a programming construct that allows the programmer to run the block of code multiple times without having to write the code multiple times. \n",
    "\n",
    "### For loop\n",
    "Example: "
   ]
  },
  {
   "cell_type": "code",
   "execution_count": null,
   "metadata": {},
   "outputs": [],
   "source": [
    "println(\"The copy paste way: (bad)\")\n",
    "\n",
    "println(\"hello world\")\n",
    "println(\"hello world\")\n",
    "println(\"hello world\")\n",
    "println(\"hello world\")\n",
    "println(\"hello world\")\n",
    "\n",
    "println(\"-----------\")\n",
    "println(\"The loop way:\")\n",
    "\n",
    "for i in 1:5\n",
    "    println(\"hello world\")\n",
    "end\n"
   ]
  },
  {
   "cell_type": "markdown",
   "metadata": {},
   "source": [
    "The syntax of a loop:\n",
    "``` julia\n",
    "for ## begins the loop\n",
    "    # block of code that will be run multiple times \n",
    "end # ends the loop\n",
    "```\n",
    "i : the \"index\" of the loop\n",
    "1:5 : a range of numbers from 1-5 inclusive (i.e 1,2,3,4,5) \n",
    "in : says to do the loop for each value in the following. The loop will assign the values 1,2,3,4,5 in order. \n",
    "\n",
    "**Try modifiying the above code to have it print out 10 times.** \n",
    "\n",
    "Here is an example corresponding to the following mathematical summation. It will print the value at each iteration\n",
    "\n",
    "$\\sum_{i=1}^{10} i$\n"
   ]
  },
  {
   "cell_type": "code",
   "execution_count": null,
   "metadata": {},
   "outputs": [],
   "source": [
    "summation_value = 0\n",
    "for i in 1:10\n",
    "    summation_value = summation_value + i \n",
    "    println(\"value at i=$(i): $(summation_value)\")\n",
    "end\n",
    "println(\"final value: $(summation_value)\")\n"
   ]
  },
  {
   "cell_type": "markdown",
   "metadata": {},
   "source": [
    "\n",
    "Another way to do this would be with the operator += which adds the value on the right side of the operator to the existing value in the value to the left; \n",
    "``` julia \n",
    "number = 1 \n",
    "number += 1 # now number equals 2\n",
    "\n",
    "```"
   ]
  },
  {
   "cell_type": "code",
   "execution_count": null,
   "metadata": {},
   "outputs": [],
   "source": [
    "summation_value = 0\n",
    "for i in 1:10\n",
    "    summation_value += i \n",
    "    println(\"value at i=$(i): $(summation_value)\")\n",
    "end\n",
    "println(\"final value: $(summation_value)\")"
   ]
  },
  {
   "cell_type": "markdown",
   "metadata": {},
   "source": [
    "### While loop\n",
    "You can accomplish the same concepts with a while loop. A while loop continues to run until the condition after the word while is false. I would read this outloud as \"while the index is less than or equal to 10, add the index to our value and then increment the index.\"\n",
    "\n"
   ]
  },
  {
   "cell_type": "code",
   "execution_count": null,
   "metadata": {},
   "outputs": [],
   "source": [
    "i = 0\n",
    "summation_value = 0\n",
    "\n",
    "while i <= 10\n",
    "    summation_value += i\n",
    "    i += 1 # make sure to do the incrementing of i as the last line of code in the loop or you will get the wrong result \n",
    "end\n",
    "println(\"final value: $(summation_value)\")\n"
   ]
  },
  {
   "cell_type": "markdown",
   "metadata": {},
   "source": [
    "Try changing this to add a differnt set of numbers? What if you wanted to do the following sum with a while loop and a for loop: \n",
    "$\\sum_{i=5}^{11} i$\n",
    "\n",
    "\n",
    "<details><summary>Click here to see solution:</summary>\n",
    "<p>\n",
    "\n",
    "```Julia\n",
    "i = 5\n",
    "summation_value = 0\n",
    "while i <= 11\n",
    "    summation_value += i\n",
    "    i += 1 # make sure to do the incrementing of i as the last line of code in the loop or you will get the wrong result \n",
    "end\n",
    "println(\"final value: $(summation_value)\")\n",
    "\n",
    "summation_value = 0\n",
    "for i in 5:11\n",
    "    summation_value += i \n",
    "end\n",
    "println(\"final value: $(summation_value)\")\n",
    "\n",
    "```\n",
    "\n",
    "</p>\n",
    "</details>\n",
    "\n",
    "\n",
    "\n"
   ]
  },
  {
   "cell_type": "code",
   "execution_count": null,
   "metadata": {},
   "outputs": [],
   "source": []
  },
  {
   "cell_type": "markdown",
   "metadata": {},
   "source": [
    "### Print out even numbers \n",
    "Let's print out the first 5 even numbers. Here is how we would think about it. The simplest way is to loop over 1 to two times the number of numbers we want to print out. We would check if the number is even and if it is we would print it out. That is what the below code does. The way to check if a number is even is by using the modulo operator %. It checks the division remainder. If the result of number % 2 is 0, it is an even number, if not it is odd. \n",
    "\n",
    "Some examples of that first: \n",
    "\n",
    "#### A simple way of doing it if statement"
   ]
  },
  {
   "cell_type": "code",
   "execution_count": null,
   "metadata": {},
   "outputs": [],
   "source": [
    "println(0 % 2)\n",
    "println(1 % 2)\n",
    "println(2 % 2)\n",
    "println(3 % 2)\n",
    "println(4 % 2)\n",
    "println(5 % 2)\n",
    "println(33 % 2)\n",
    "println(1047 % 2)"
   ]
  },
  {
   "cell_type": "code",
   "execution_count": null,
   "metadata": {},
   "outputs": [],
   "source": [
    "for i in 1:10\n",
    "    if i % 2 == 0 # does i divided by 2 have a remainder equal to zero\n",
    "        println(\"$(i)\")\n",
    "    end    \n",
    "end"
   ]
  },
  {
   "cell_type": "markdown",
   "metadata": {},
   "source": [
    "### Print out even numbers in a smarter way (2*i)\n",
    "\n",
    "There is however a smarter way of doing this. Instead of using the modulus operator we can just multiply the index by 2 and that will be the next even number. "
   ]
  },
  {
   "cell_type": "code",
   "execution_count": null,
   "metadata": {},
   "outputs": [],
   "source": [
    "for i in 1:5   \n",
    "    println(\"$(2*i)\")   \n",
    "end"
   ]
  },
  {
   "cell_type": "markdown",
   "metadata": {},
   "source": [
    "There is yet another way of doing this. We can use a while loop and count the number of times we found a even number. "
   ]
  },
  {
   "cell_type": "code",
   "execution_count": null,
   "metadata": {},
   "outputs": [],
   "source": [
    "number_of_even_printed = 0\n",
    "i = 1\n",
    "while number_of_even_printed < 5\n",
    "    if i % 2 == 0\n",
    "        number_of_even_printed += 1 \n",
    "        println(i)\n",
    "    end\n",
    "    i+=1\n",
    "end"
   ]
  },
  {
   "cell_type": "markdown",
   "metadata": {},
   "source": [
    "Although it may seem a bit annoying to see so many ways of doing the same thing, all of these techniques are distinct and have their uses. We will see below, there are instances where we may be iterating over a list of items that might not be order. That is where these various techniques may be needed. "
   ]
  },
  {
   "cell_type": "markdown",
   "metadata": {},
   "source": [
    "### Calling a function in a loop\n",
    "\n",
    "You don't have all of your code for the loop directly in the loop itself. It is best not to have a loop with tons and tons of code inside of it. To avoid this you can call a function inside of your loop. This example is a bit silly as the function only has one line in the function, but imagine if it needed 10 or 50 lines of code.  "
   ]
  },
  {
   "cell_type": "code",
   "execution_count": null,
   "metadata": {},
   "outputs": [],
   "source": [
    "function print_iteration_message(index, summation_value)\n",
    "    println(\"value at i=$(index): $(summation_value)\")\n",
    "end\n",
    "\n",
    "summation_value = 0\n",
    "for i in 1:10\n",
    "    summation_value += i \n",
    "    print_iteration_message(i, summation_value)\n",
    "end\n",
    "println(\"final value: $(summation_value)\")\n"
   ]
  },
  {
   "cell_type": "markdown",
   "metadata": {},
   "source": [
    "## Arrays \n",
    "An array is similar to the mathematical construct of a vector (julia actually calls them vectors, other languages call them arrays and is more common, As such I am going to refer to them as arrays.). It is a list of values. A common use of vectors is to define a point in space (x,y,z). You can use the normal vector algebra you would expect. "
   ]
  },
  {
   "cell_type": "code",
   "execution_count": null,
   "metadata": {},
   "outputs": [],
   "source": [
    "point_int_space_origin = [0,0,0]\n",
    "display(point_int_space_origin) # display is a fancy print function with more information about the object you pass in\n",
    "\n",
    "second_point = point_int_space_origin + [1,1,2]\n",
    "display(second_point)"
   ]
  },
  {
   "cell_type": "markdown",
   "metadata": {},
   "source": [
    "You can do \"element-wise\" operations using .{operator here} (for multiplication this is called a Hadamard Product)\n",
    "\n"
   ]
  },
  {
   "cell_type": "code",
   "execution_count": null,
   "metadata": {},
   "outputs": [],
   "source": [
    "multiplied_point = [1,2,3] .* [2,2,2] \n",
    "display(multiplied_point)\n",
    "#which is the same as\n",
    "\n",
    "multiplied_point = 2*[1,2,3] \n",
    "display(multiplied_point)\n",
    "\n",
    "#but could be used to do \n",
    "multiplied_point = [1,2,3] .* [3,5,10] \n",
    "display(multiplied_point)"
   ]
  },
  {
   "cell_type": "markdown",
   "metadata": {},
   "source": [
    "Of course, we don't have to limit ourselves to loops with length 3. Julia provides some operations functions for getting attributes of the array. \n",
    "\n",
    "### Getting a value at a specific index \n",
    "To get a specific value use the [] operator after the name of the array variable\n"
   ]
  },
  {
   "cell_type": "code",
   "execution_count": null,
   "metadata": {},
   "outputs": [],
   "source": [
    "values = [10,20,30]\n",
    "### print the first value in the array of values\n",
    "println(values[1])\n",
    "\n",
    "longer_vector = [12.23,1,3,.12,5,6,7,-8.32]\n",
    "sum_of_first_two_terms = longer_vector[1] + longer_vector[2]\n",
    "println(sum_of_first_two_terms)\n"
   ]
  },
  {
   "cell_type": "markdown",
   "metadata": {},
   "source": [
    "#### Julia one based indexing vs zero based indexing\n",
    "**Note most other programming languages use zero based indexing**\n",
    "\n",
    "i.e. to get the first value in an array you use values[0]. It is intended to be less confusing, but if you are looking at algorithms online/in literature for how to implement something assume zero based indexing."
   ]
  },
  {
   "cell_type": "markdown",
   "metadata": {},
   "source": [
    "### Iterate over an array using a loop\n",
    "One powerful thing we can do with a loop is iterate over an array and perform an operation. As an example lets do the dot product of two vectors. The dot product of a vector is the sum of elementwise multiplication. \n",
    "\n",
    "e.g. if our vectors are [1,2,3] and [-1,-2,-3] the dot product is 1*-1 + 2*-2 + 3*-3 = -14"
   ]
  },
  {
   "cell_type": "code",
   "execution_count": null,
   "metadata": {},
   "outputs": [],
   "source": [
    "function dot_product(vector1, vector2)\n",
    "\n",
    "    dot_product_value = 0\n",
    "    for i in 1:length(vector1)\n",
    "        v1_i = vector1[i]\n",
    "        v2_i = vector2[i]\n",
    "        new_term = v1_i * v2_i\n",
    "        dot_product_value += new_term\n",
    "    end\n",
    "    return dot_product_value\n",
    "end\n",
    "\n",
    "vector_a = [1,2,3]\n",
    "vector_b = [-1,-2,-3]\n",
    "\n",
    "value = dot_product(vector_a, vector_b)\n",
    "println(value)"
   ]
  },
  {
   "cell_type": "markdown",
   "metadata": {},
   "source": [
    "Try to change the vectors and get the value for that result. "
   ]
  },
  {
   "cell_type": "markdown",
   "metadata": {},
   "source": [
    "#### Assert Macro\n",
    "The vectors must have the same length for the dot product to have a valid meaning. \n",
    "\n",
    "We can check to see if this is the case by using the assert \"macro.\"\n",
    "\n",
    "A macro is something provided by the Julia language to do some basic functionality without having to write a special function for it. \n",
    "\n",
    "The assert macro checks a boolean result, if it is true the code proceeds forward. If it is false an error message is thrown. \n",
    "\n",
    "#### length() function\n",
    "\n",
    "There is a built in function provided by Julia length(array) that returns the number of items in the array as an integer. "
   ]
  },
  {
   "cell_type": "code",
   "execution_count": null,
   "metadata": {},
   "outputs": [],
   "source": [
    "vector_a = [1,2,3]\n",
    "vector_b = [-1,-2,-3, 4, 5]\n",
    "\n",
    "length_of_a = length(vector_a)\n",
    "length_of_b = length(vector_b)\n",
    "\n",
    "println(length_of_a)\n",
    "println(length_of_b)"
   ]
  },
  {
   "cell_type": "markdown",
   "metadata": {},
   "source": [
    "The following code will result in an error message. Fix the code so it will run again."
   ]
  },
  {
   "cell_type": "code",
   "execution_count": null,
   "metadata": {},
   "outputs": [],
   "source": [
    "function dot_product(vector1, vector2)\n",
    "    @assert length(vector1) == length(vector2) \n",
    "    dot_product_value = 0\n",
    "    for i in 1:length(vector1)\n",
    "        v1_i = vector1[i]\n",
    "        v2_i = vector2[i]\n",
    "        new_term = v1_i * v2_i\n",
    "        dot_product_value += new_term\n",
    "    end\n",
    "    return dot_product_value\n",
    "end\n",
    "\n",
    "\n",
    "vector_a = [1,2,3]\n",
    "vector_b = [-1,-2,-3] # the problem is here\n",
    "\n",
    "value = dot_product(vector_a, vector_b)"
   ]
  },
  {
   "cell_type": "markdown",
   "metadata": {},
   "source": [
    "### Using keyword \n",
    "\n",
    "We have talked about \"built in\" features of the Julia language, the most recent example was \"length()\" Everything we have used so far is part of the \"Base\" module of the \"standard library\" of features.\n",
    "\n",
    "There are other things provided by the language that are not included by default, you have to \"ask for them\" to be provided. The way to do this is by adding a \"using\" statement.  \"using\" statements need to be at the top of the file.\n",
    "\n",
    "Julia has many libraries providing often used functionality. The first one of these we will use Linear Algebra\n",
    "\n",
    "```julia \n",
    "using LinearAlgebra\n",
    "```\n",
    "\n",
    "This statement tells Julia to provide us the LinearAlgebra module from the standard library. \n",
    "\n",
    "We use the dot() function that provides the dot product functionality which will give the same result as the code we wrote. "
   ]
  },
  {
   "cell_type": "code",
   "execution_count": null,
   "metadata": {},
   "outputs": [],
   "source": [
    "using LinearAlgebra # built in julia library providing linear algebra functions such as dot(): which computes the dot product\n",
    "\n",
    "vector_a = [1,2,3]\n",
    "vector_b = [4,5,6]\n",
    "julia_computed_value = dot(vector_a,vector_b)\n",
    "println(julia_computed_value)\n"
   ]
  },
  {
   "cell_type": "markdown",
   "metadata": {},
   "source": [
    "There are other modules other than the standard library developed by the community that are availible for use in Julia. You can even build your own. They all will use the using keyword. We will cover this at a later date. "
   ]
  },
  {
   "cell_type": "markdown",
   "metadata": {},
   "source": [
    "Just for fun lets do the dot product of a huge vector, i.e. something you'd never want to have to do by hand. A convenient way to make an \"empty\" array is to use the ```zeros(n)``` function, which gives you an array with the length you provide."
   ]
  },
  {
   "cell_type": "code",
   "execution_count": null,
   "metadata": {},
   "outputs": [],
   "source": [
    "using LinearAlgebra\n",
    "powers_of_2 = zeros(100) #array with length 100, all values = 0 \n",
    "powers_of_4 = zeros(100)\n",
    "\n",
    "for i in 1:100 # a loop adding the values to our array. \n",
    "    powers_of_2[i] = 2^i\n",
    "    powers_of_4[i] = 4^i\n",
    "end\n",
    "\n",
    "dot_product_value = dot(powers_of_2, powers_of_4)\n",
    "println(dot_product_value) # ya that is a big number"
   ]
  },
  {
   "cell_type": "markdown",
   "metadata": {},
   "source": [
    "#### Note on what we just did above\n",
    "Most of the examples above were just that, examples. We were \"re-inventing the wheel\" because it was useful for us to learn looping and how it relates to math. You would not want to implement your own dot product function, or summation function. This type of functionality is provided for you by the Julia language. Here are a few examples. You can find more information at the [Linear Algebra Documentation Page.](https://docs.julialang.org/en/v1/stdlib/LinearAlgebra/#man-linalg), the [Math Documentation Page](https://docs.julialang.org/en/v1/base/math/), and [Statistics Documentation Page](https://docs.julialang.org/en/v1/stdlib/Statistics/).\n",
    "\n",
    "In general you want to use the language provided libraries as they are likely to be much faster, more robustly tested, etc. than what the average programmer working on their own is going to produce. Also it saves you time, because you don't have to do it yourself. "
   ]
  },
  {
   "cell_type": "code",
   "execution_count": null,
   "metadata": {},
   "outputs": [],
   "source": [
    "using LinearAlgebra \n",
    "using Statistics # statistical functions\n",
    "our_vector = [1,2,3,4,5,6,7,8,9,10,15, 30]\n",
    "our_sum = sum(our_vector)\n",
    "our_average = mean(our_vector)\n",
    "our_median = median(our_vector)\n",
    "dot_product_value = dot(our_vector, our_vector)\n",
    "\n",
    "println(our_sum)\n",
    "println(our_average)\n",
    "println(our_median)\n",
    "println(dot_product_value)"
   ]
  },
  {
   "cell_type": "markdown",
   "metadata": {},
   "source": [
    "## Convergence And Divergence of Series\n",
    "\n",
    "Now lets put our knowledge of loops to the test and do some mathematical applications. We will now evaluate the value you get using the series expansion of some important mathematical function.\n",
    "\n",
    "#### The series expansion of $ e^x $ is: \n",
    "\n",
    "\n",
    "\n",
    "$ e^x = \\sum_{n=0}^{\\infty} \\frac{x^n}{n!} = 1 + x + \\frac{x^2}{2!} +... $\n",
    "\n"
   ]
  },
  {
   "cell_type": "markdown",
   "metadata": {},
   "source": [
    "Let's break down how we can accomplish this step by step. First we can write a function that will return the value of an individual value for a given n. \n",
    "\n",
    "julia provides the function factorial(n) for computing $n!$"
   ]
  },
  {
   "cell_type": "code",
   "execution_count": null,
   "metadata": {},
   "outputs": [],
   "source": [
    "function calculate_exp_series_term(x,n)\n",
    "    return (x^n)/factorial(n) \n",
    "end\n",
    "\n",
    "println(calculate_exp_series_term(2,1)) # first term in the series for e^2\n",
    "println(calculate_exp_series_term(2,2)) # second term in the series e^2\n",
    "println(calculate_exp_series_term(2,3)) # third term in the series e^2"
   ]
  },
  {
   "cell_type": "markdown",
   "metadata": {},
   "source": [
    "Next we can build a function that loops to do the sum. We will use 20 terms to start."
   ]
  },
  {
   "cell_type": "code",
   "execution_count": null,
   "metadata": {},
   "outputs": [],
   "source": [
    "function calculate_exp_series_term(x, n)\n",
    "    return (x^n)/factorial(n) \n",
    "end\n",
    "\n",
    "function calculate_series_exponential(x)\n",
    "    series_expansion_value = 0 \n",
    "    n = 0 #iteration index \n",
    "    exp_exact = exp(x)\n",
    "    \n",
    "    while n < 20\n",
    "        series_term_n = calculate_exp_series_term(x, n)\n",
    "        series_expansion_value += series_term_n\n",
    "        n+= 1\n",
    "    end\n",
    "    println(\"number of iterations $(n)\")\n",
    "    return series_expansion_value\n",
    "end\n",
    "\n",
    "series_expansion_value = calculate_series_exponential(2) # calculate e^2\n"
   ]
  },
  {
   "cell_type": "markdown",
   "metadata": {},
   "source": [
    "Lastly since we know that after a large enough number of terms, the terms will go to zero. We will check if the new term is sufficiently small. When the new term is less than .01 we stop the loop. We also still exit the loop if we reach more than 20 terms."
   ]
  },
  {
   "cell_type": "code",
   "execution_count": null,
   "metadata": {},
   "outputs": [],
   "source": [
    "function calculate_exp_series_term(x, n)\n",
    "    return (x^n)/factorial(n) \n",
    "end\n",
    "\n",
    "function calculate_series_exponential(x)\n",
    "    series_expansion_value = 0 \n",
    "    n = 0 #iteration index \n",
    "    exp_exact = exp(x)\n",
    "    \n",
    "    series_term_n = 1 #use a starting value that will allow us to go into the loop\n",
    "\n",
    "    while series_term_n >= .01 && n < 20\n",
    "        series_term_n = calculate_exp_series_term(x,n)\n",
    "        series_expansion_value += series_term_n\n",
    "        n+= 1\n",
    "    end\n",
    "    println(\"number of iterations $(n)\")\n",
    "    return series_expansion_value\n",
    "end\n",
    "\n",
    "series_expansion_value = calculate_series_exponential(2) # calculate e^2\n"
   ]
  },
  {
   "cell_type": "markdown",
   "metadata": {},
   "source": [
    "Here is a final version. \n",
    "\n",
    "A couple of functions used here\n",
    "- exp(): gives us the exact value for e^x\n",
    "- big(): creates a number that can be very large, signals to julia to handle the factorial function differently (don't worry about this for now)\n",
    "- round(): rounds a floating point number to a specified number of digits. \n",
    "- Float64(): converts a number to a Float64, again don't worry too much about this. "
   ]
  },
  {
   "cell_type": "code",
   "execution_count": null,
   "metadata": {},
   "outputs": [],
   "source": [
    "\n",
    "function calculate_exp_series_term(x, n)\n",
    "    return (x^n)/factorial(big(n)) \n",
    "end\n",
    "\n",
    "function calculate_series_exponential(x)\n",
    "    series_expansion_value = 0 \n",
    "    n = 0 #iteration index \n",
    "    \n",
    "    # keeps track of the new term\n",
    "    series_term_n = 1 #use a starting value that will allow us to go into the loop\n",
    "     \n",
    "    while series_term_n > .01 && n < 1000\n",
    "        series_term_n = calculate_exp_series_term(x, n)\n",
    "        series_expansion_value += series_term_n\n",
    "        n+= 1\n",
    "    end\n",
    "    return series_expansion_value\n",
    "end\n",
    "\n",
    "## Some code to run and compare the exact value using the exp() function provided by Julia\n",
    "## and the one that we calculate with our function \n",
    "\n",
    "x = 2\n",
    "exp_exact = exp(x) #e^2\n",
    "exp_exact = round(exp_exact; digits=10) #don't worry too much about how this rounding works\n",
    "println(\"$(exp_exact) exp_exact\")\n",
    "series_expansion_value = calculate_series_exponential(x)\n",
    "#round off some extra values\n",
    "rounded_value = Float64(round(series_expansion_value; digits=10)) #don't worry too much about how this rounding works\n",
    "println(\"$(rounded_value) series_expansion_value\")\n"
   ]
  },
  {
   "cell_type": "markdown",
   "metadata": {},
   "source": [
    "#### cos(x) and sin(x)\n",
    "\n",
    "Now lets consider cos(x) and sin(x). \n",
    "\n",
    "The procedure is almost exactly the same. We have to change our function to correctly do the series and that is really it. \n",
    "\n",
    "The biggest change is that (-1)^n term, which will toggle each term, first positive -1^(0), negative (-1)^1, etc.... \n",
    "\n",
    "One other addition is that we use the abs() to get the absolute value of the term when checking it it is sufficiently small.\n",
    "\n",
    "$ cos(x) = \\sum_{n=0}^{\\infty} (-1)^{n}\\frac{x^{2n}}{(2n)!} = 1 - x + \\frac{x^2}{2!} -... $\n",
    "\n",
    "$ sin(x) = \\sum_{n=0}^{\\infty} (-1)^{n}\\frac{x^{2n+1}}{(2n+1)!} = x -\\frac{x^3}{3!} + \\frac{x^5}{5!} -... $\n",
    "\n",
    "\n",
    "\n"
   ]
  },
  {
   "cell_type": "code",
   "execution_count": null,
   "metadata": {},
   "outputs": [],
   "source": [
    "function calculate_cos_series_term(n, x)\n",
    "    return (-1)^n*(x^(2*n))/factorial(big(2*n)) \n",
    "end\n",
    "\n",
    "function calculate_series_cos(x)\n",
    "    series_expansion_value = 0 \n",
    "    n = 0 #iteration index \n",
    "\n",
    "    series_term_n = 1 #use a starting value that will allow us to go into the loop\n",
    "    while abs(series_term_n) > .01 && n < 10000\n",
    "        series_term_n = calculate_cos_series_term(n, x)\n",
    "        series_expansion_value += series_term_n\n",
    "        n += 1\n",
    "    end\n",
    "    println(\"number of iterations $(n)\")\n",
    "    return series_expansion_value\n",
    "end\n",
    "\n",
    "x = 2*3.14159 # 2*pi\n",
    "cos_exact = cos(x)\n",
    "cos_exact = round(cos_exact; digits=10) \n",
    "println(\"$(cos_exact) cos_exact\")\n",
    "series_expansion_value = calculate_series_cos(x)\n",
    "#round off some extra values\n",
    "rounded_value = Float64(round(series_expansion_value; digits=10))\n",
    "println(\"$(rounded_value) series_expansion_value\")\n"
   ]
  },
  {
   "cell_type": "markdown",
   "metadata": {},
   "source": [
    "You will do sin(x) as a exercise problem. The only thing you will need to change is the calculation function. "
   ]
  },
  {
   "cell_type": "markdown",
   "metadata": {},
   "source": [
    "\n",
    "## Exercise\n",
    "\n",
    "**REMINDER!!!**\n",
    "\n",
    "When working in Binder/Jupyter book, your files and changes are not persisted unless you are consistently using it. (If it goes idle you may lose your work!) **Save your files to your computer early and often!!!** \n",
    "\n",
    "### Going forward \n",
    "\n",
    "Going forward all of the end of module exercises will be done in separate julia files(extension .jl). You can use the jupyter notebook to run them (this will be set up for you in the notebook). There will be two files of interest for the exercises: \n",
    "\n",
    "### Submitting\n",
    "Please save your exercise julia files in a folder named **LastName_FirstName_Module_N_Exercise** and save it to a zip file. **Do not change the file names**  Upload the zip to canvas.\n",
    "\n",
    "### Exercise File\n",
    "There will be a file called m-module-e-exercise.jl (where m is the module number, e is the problem number). This file will have a scaffolding of functions that you will need to complete. \n",
    "\n",
    "The include function is how to include the code from a different file. It should be at the top of the file.\n",
    "\n",
    "Here is an example of how to use a julia file in jupyter notebook:"
   ]
  },
  {
   "cell_type": "code",
   "execution_count": null,
   "metadata": {},
   "outputs": [],
   "source": [
    "include(\"hello.jl\")\n",
    "hello_text = hello()\n",
    "println(hello_text)"
   ]
  },
  {
   "cell_type": "markdown",
   "metadata": {},
   "source": [
    "### Test Runner \n",
    "There will be a file called m-module-e-exercise-test-runner.jl for each module. This file runs test that will call the functions in your exercise file. **DO NOT MODIFY THIS FILE.** These test files will let you know if you have done the exercise correctly. \n",
    "\n",
    "Inside this file are tests called \"Unit Tests.\" These types of tests are very common in software engineering. In a good codebase, unit tests should be written to account for every scenario your code is expected to fulfil. \n",
    "\n",
    "**To receive credit for the module your code must pass all of the tests.**\n",
    "\n",
    "An example of a unit test in julia: "
   ]
  },
  {
   "cell_type": "code",
   "execution_count": null,
   "metadata": {},
   "outputs": [],
   "source": [
    "using Test\n",
    "expected_value = 5\n",
    "our_value = sqrt(25)\n",
    "@test expected_value == our_value"
   ]
  },
  {
   "cell_type": "code",
   "execution_count": null,
   "metadata": {},
   "outputs": [],
   "source": [
    "using Test\n",
    "expected_value = 5\n",
    "wrong_value = 25 / 3\n",
    "@testset \"hello tests\" begin\n",
    "    @test our_value == wrong_value # a test that will fail\n",
    "end"
   ]
  },
  {
   "cell_type": "markdown",
   "metadata": {},
   "source": [
    "### Example Test Runner\n",
    "\n",
    "Here is how to use one, the tests will be grouped and named to help you figure out which pass and which fail: "
   ]
  },
  {
   "cell_type": "code",
   "execution_count": null,
   "metadata": {},
   "outputs": [],
   "source": [
    "include(\"hello-test-runner.jl\") #including the file runs the tests"
   ]
  },
  {
   "cell_type": "markdown",
   "metadata": {},
   "source": [
    "**The code snippets below is commented out so it doesn't run until you are ready.** \n",
    "\n",
    "Remove the # when you are ready to use it. "
   ]
  },
  {
   "cell_type": "markdown",
   "metadata": {},
   "source": [
    "### Problem 1 - Build an Array\n",
    "a) Write a function that takes in a number n (named number_of_values) as a parameter and returns an array containing the first n odd numbers. (Hint: Starting from 1 going to n)\n",
    "\n",
    "b) Write a function that takes in a number n (number_of_values) as a parameter and returns an array containing the first n powers of 3. (Hint: starting from 0 to n-1, remember 1 based indexing!)\n",
    "\n",
    "Implement these in the provided file: [module-2-exercise-1.jl](./module-2-exercise-1.jl)"
   ]
  },
  {
   "cell_type": "code",
   "execution_count": null,
   "metadata": {},
   "outputs": [],
   "source": [
    "# include(\"module-2-exercise-1.jl\")\n",
    "# odd_numbers = get_odd_numbers(7)\n",
    "# display(odd_numbers)"
   ]
  },
  {
   "cell_type": "code",
   "execution_count": null,
   "metadata": {},
   "outputs": [],
   "source": [
    "# include(\"module-2-exercise-1.jl\")\n",
    "# powers_of_there = get_powers_of_three(4)\n",
    "# display(powers_of_there)"
   ]
  },
  {
   "cell_type": "markdown",
   "metadata": {},
   "source": [
    "You can run the code below to run the unit tests against your implementation of the exercises. It will give you error messages if something is wrong, and will print out the tests as successful if it succeeds."
   ]
  },
  {
   "cell_type": "code",
   "execution_count": null,
   "metadata": {},
   "outputs": [],
   "source": [
    "# include(\"module-2-exercise-1a-test-runner.jl\") #including the file runs the tests"
   ]
  },
  {
   "cell_type": "code",
   "execution_count": null,
   "metadata": {},
   "outputs": [],
   "source": [
    "# include(\"module-2-exercise-1b-test-runner.jl\") #including the file runs the tests"
   ]
  },
  {
   "cell_type": "markdown",
   "metadata": {},
   "source": [
    "### Problem 2 - Implement sin(x) as a series expansion \n",
    "Using similar functions to the cos(x) example above, implement a series expansion of sin(x). You do not need to do any of the checking for the size of terms. We will just use the first 100 terms. \n",
    "\n",
    "Complete this exercise in [module-2-exercise-2.jl](./module-2-exercise-2.jl)"
   ]
  },
  {
   "cell_type": "code",
   "execution_count": null,
   "metadata": {},
   "outputs": [],
   "source": [
    "# include(\"module-2-exercise-2-test-runner.jl\") #including the file runs the tests"
   ]
  },
  {
   "cell_type": "markdown",
   "metadata": {},
   "source": [
    "### Problem 3 - Count the even numbers in an array of numbers\n",
    "\n",
    "Using a loop, iterate over an array passed into your function and return an integer corresponding to the number of even numbers in the array. \n",
    "\n",
    "Complete this exercise in [module-2-exercise-3.jl](./module-2-exercise-3.jl)\n"
   ]
  },
  {
   "cell_type": "code",
   "execution_count": null,
   "metadata": {},
   "outputs": [],
   "source": [
    "# include(\"module-2-exercise-3-test-runner.jl\") #including the file runs the tests"
   ]
  },
  {
   "cell_type": "markdown",
   "metadata": {},
   "source": [
    "## Some other thoughts before you go:"
   ]
  },
  {
   "cell_type": "markdown",
   "metadata": {},
   "source": [
    "### Complex Numbers in Julia\n",
    "By the way, I forgot to mention this in the last module, but Julia natively can handle complex numbers; \n",
    "\n",
    "See [Documentation](https://docs.julialang.org/en/v1/manual/complex-and-rational-numbers/#Complex-Numbers) for more information and operations availible with complex numbers"
   ]
  },
  {
   "cell_type": "code",
   "execution_count": null,
   "metadata": {},
   "outputs": [],
   "source": [
    "complex_1 = (1 + 2im)\n",
    "print(\"A complex number: \")\n",
    "println(complex_1)\n",
    "\n",
    "print(\"A complex number addition operation: \")\n",
    "complex_3 = complex_1 + (1 + 2im)\n",
    "println(complex_3 )\n",
    "\n",
    "print(\"real part of complex 1: \")\n",
    "println(real(complex_1))"
   ]
  },
  {
   "cell_type": "markdown",
   "metadata": {},
   "source": [
    "## VSCode IDE\n",
    "\n",
    "I will be posting an optional video on installing and using VSCode soon. \n",
    "\n",
    "### virtues of using an ide\n",
    "- shortcuts\n",
    "- snippets \n",
    "  - short cuts that will scaffold out common blocks of code\n",
    "- visual debugger (this one is especially helpful for new programmers)\n",
    "- syntax highlighting\n",
    "- intellisense \n",
    "  - the text editor gives you suggestions based on what you type which can autocomplete. (e.g. function names, variable names, types)\n",
    "- and so much more!\n",
    "\n",
    "### Download links and installation instructions \n",
    "\n",
    "I will post a video of me showing how to do this later but here are two links if you want to try to figure it out yourself\n",
    "\n",
    "#### Installing Julia (The language we are using):\n",
    "https://julialang.org/downloads/\n",
    "\n",
    "#### Installing Visual Studio Code (IDE)\n",
    "https://code.visualstudio.com/download\n",
    "\n",
    "after installing VS code install the VS code extension: \n",
    "https://marketplace.visualstudio.com/items?itemName=julialang.language-julia \n",
    "\n",
    "Helpful tutorial:\n",
    "https://code.visualstudio.com/docs/languages/julia\n"
   ]
  },
  {
   "cell_type": "markdown",
   "metadata": {},
   "source": []
  }
 ],
 "metadata": {
  "kernelspec": {
   "display_name": "Julia 1.6.3",
   "language": "julia",
   "name": "julia-1.6"
  },
  "language_info": {
   "file_extension": ".jl",
   "mimetype": "application/julia",
   "name": "julia",
   "version": "1.6.3"
  },
  "orig_nbformat": 4
 },
 "nbformat": 4,
 "nbformat_minor": 2
}
