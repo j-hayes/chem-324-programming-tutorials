{
 "cells": [
  {
   "cell_type": "markdown",
   "metadata": {},
   "source": [
    "# Review / Clarifications "
   ]
  },
  {
   "cell_type": "markdown",
   "metadata": {},
   "source": [
    "## "
   ]
  },
  {
   "cell_type": "markdown",
   "metadata": {},
   "source": [
    "## Working With Julia Files / Binder / Jupyter / VSCode  \n",
    "\n",
    "### Anatomy of a Julia File \n",
    "\n",
    "As an example lets look at [anatomy_of_julia.jl](./anatomy_of_julia.jl)\n",
    "\n",
    "The first thing to know is that the computer reads the lines of code in the julia file from top to bottom and executes the code in that order. \n",
    "\n",
    "#### Top of file \n",
    "At the very top of the file puts two types of statements to allow the file to use code from other files, julia modules, or external packages. \n",
    "\n",
    "using statements: These bring in functionality from external sources to your code base (julia modules, external packages)\n",
    "include statements: These bring in functionality from other files in your code.  include(\"../module2/hello.jl\")\n",
    "\n",
    "### Middle of file\n",
    "This is where we define functions, shared variables etc. \n",
    "\n",
    "### Bottom of file \"Script\" portion (optional)\n",
    "At the bottom you can write lines of code that will be executed. This is only necessary if that file is going to be something you want to execute every time that file is used. This is where we \"use\" the functionality defined in the functions above or in the functionality we have included from other places. This code must be below any function it is using or importing. \n",
    "\n",
    "For files that are just defining functions or structs you would not have this script section. An example of this is [hello.jl](../module2/hello.jl) which just defines some functions that can be used elsewhere\n",
    "\n",
    "## Binder\n",
    "\n",
    "The easiest way to run a file from binder (jupyterhub) is to use an include statement\n",
    "\n",
    "``` include(\"path to file here\") ```\n",
    "\n",
    "This will load the functions and run any scripting lines. \n",
    "\n",
    "\n",
    "### How to run code + visual debugging in VSCode\n",
    "\n",
    "See this documentation for details:\n",
    "https://code.visualstudio.com/docs/languages/julia\n"
   ]
  },
  {
   "cell_type": "markdown",
   "metadata": {},
   "source": [
    "Basics of Julia Syntax \n",
    "\n",
    "Math\n",
    "Functions\n",
    "Printing\n",
    "Loops\n",
    "Vectors/Matrices"
   ]
  }
 ],
 "metadata": {
  "kernelspec": {
   "display_name": "Julia 1.6.3",
   "language": "julia",
   "name": "julia-1.6"
  },
  "language_info": {
   "file_extension": ".jl",
   "mimetype": "application/julia",
   "name": "julia",
   "version": "1.6.3"
  },
  "orig_nbformat": 4
 },
 "nbformat": 4,
 "nbformat_minor": 2
}
