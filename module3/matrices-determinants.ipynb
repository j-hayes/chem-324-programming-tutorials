{
 "cells": [
  {
   "cell_type": "markdown",
   "metadata": {},
   "source": [
    "# Matricies and Determinants"
   ]
  },
  {
   "cell_type": "markdown",
   "metadata": {},
   "source": [
    "## Matricies\n",
    "\n",
    "In the previous module we saw vectors (arrays). A vector is actually a special case of a more general type of object called a matrix. A has \"dimensions\" of 1 row and N columns (a row vector) or N rows with 1 column (a column vector). We will now work with the general N row by M column Matrix.  \n",
    "\n",
    "As before there are a range of operations that can be used on matricies. For a detailed discussion on matricies see MathChapter E in Mcquarrie. "
   ]
  },
  {
   "cell_type": "markdown",
   "metadata": {},
   "source": [
    "There are two ways to define a matrix.\n",
    "\n",
    "$$\\begin{bmatrix} 1 & 2 & 3 \\\\ 4 & 5 & 6 \\\\ 7 & 8 & 9 \\end{bmatrix}$$\n",
    "\n",
    "\n",
    "1) Lay it out as you would if you were write it on paper.\n",
    "\n",
    "``` Julia \n",
    "A = [ 1 2 3\n",
    "      4 5 6\n",
    "      7 8 9] \n",
    "```\n",
    "2) Use semi-colons to separate rows\n",
    "\n",
    "``` Julia \n",
    "A = [ 1 2 3; 4 5 6; 7 8 9] \n",
    "```"
   ]
  },
  {
   "cell_type": "markdown",
   "metadata": {},
   "source": [
    "### Operations on One Matrix "
   ]
  },
  {
   "cell_type": "code",
   "execution_count": null,
   "metadata": {},
   "outputs": [],
   "source": [
    "using LinearAlgebra\n",
    "\n",
    "A = [0 1 -3; -3 -4 4;-2 -2 1 ] \n",
    "\n",
    "trace_A = tr(A) # trace of matrix A \n",
    "display(\"Matrix trace_A: \")\n",
    "display(trace_A)\n",
    "\n",
    "determiant_A = det(A) # determinant of matrix A\n",
    "display(\"Matrix determiant_A: \")\n",
    "display(determiant_A)\n",
    "\n",
    "transpose_A = transpose(A) # transpose of A \n",
    "display(\"Matrix transpose_A: \")\n",
    "display(transpose_A)\n",
    "\n",
    "inverse_A = inv(A) # invese of A\n",
    "display(\"Matrix inverse_A: \")\n",
    "println(inverse_A)\n",
    "\n"
   ]
  },
  {
   "cell_type": "code",
   "execution_count": null,
   "metadata": {},
   "outputs": [],
   "source": [
    "using LinearAlgebra\n",
    "\n",
    "A = [1 2 3; 4 5 6; 7 8 9]\n",
    "row = 1\n",
    "column = 3\n",
    "value = A[row, column]\n",
    "display(\"Matrix 1,3: \")\n",
    "display(value)\n",
    "\n",
    "display(\"Matrix 3,1: \")\n",
    "display(A[3,1])\n"
   ]
  },
  {
   "cell_type": "markdown",
   "metadata": {},
   "source": [
    "Below is some code that prints out all of the indecies in a matrix."
   ]
  },
  {
   "cell_type": "code",
   "execution_count": null,
   "metadata": {},
   "outputs": [],
   "source": [
    "using LinearAlgebra\n",
    "\n",
    "a = [1 2 3; 4 5 6; 7 8 9]\n",
    "display(a)\n",
    "b = [\"1,1\" \"1,2\" \"1,3\"; \"2,1\" \"2,2\" \"2,3\"; \"3,1\" \"3,2\" \"3,3\" ]\n",
    "display(b)\n"
   ]
  },
  {
   "cell_type": "code",
   "execution_count": null,
   "metadata": {},
   "outputs": [],
   "source": [
    "using LinearAlgebra\n",
    "\n",
    "a = [1 2 3; 4 5 6; 7 8 9]\n",
    "display(a)\n",
    "display(a[:,1])\n",
    "display(a[2,:])"
   ]
  },
  {
   "cell_type": "markdown",
   "metadata": {},
   "source": [
    "### Operations with two matrices:"
   ]
  },
  {
   "cell_type": "code",
   "execution_count": null,
   "metadata": {},
   "outputs": [],
   "source": [
    "using LinearAlgebra\n",
    "\n",
    "Identity = [1 0 0; 0 1 0; 0 0 1]\n",
    "A = [0 1 -3; -3 -4 4;-2 -2 1 ] \n",
    "B = [0 1 2; 3 4 5;6 7 8] \n",
    "\n",
    "display(\"Matrix A: \")\n",
    "display(A)\n",
    "\n",
    "Same_A = A * Identity # Multiply by an identity \n",
    "Same_easier = A * I # I is a reserved built in matrix I, it will automatically scale to the correct size\n",
    "\n",
    "display(\"Matrix Same_A: \")\n",
    "display(Same_A)\n",
    "display(\"Matrix Same_easier: \")\n",
    "display(Same_easier)\n",
    "\n",
    "A_times_B = A * B # Matrix Multiplication\n",
    "A_Hadamard_B = A .* B # Element-wise (Hadamard product)\n",
    "\n",
    "display(\"Matrix A_times_B: \")\n",
    "display(A_times_B)\n",
    "display(\"Matrix A_Hadamard_B: \")\n",
    "display(A_Hadamard_B)\n",
    "\n",
    "A_left_divide_B = A \\ B # inverse(A) * B \"left-division operator\"\n",
    "display(\"Matrix A_left_divide_B: \")\n",
    "display(A_left_divide_B)\n"
   ]
  },
  {
   "cell_type": "markdown",
   "metadata": {},
   "source": [
    "### Eigen Values and Eigen Vectors\n",
    "\n",
    "Julia will calculate the eigenvalues and eigenvectors of a matrix: \n",
    "\n",
    "(The kth eigenvector can be obtained from the slice eigen(A).vectors[:, k].)\n"
   ]
  },
  {
   "cell_type": "code",
   "execution_count": null,
   "metadata": {},
   "outputs": [],
   "source": [
    "using LinearAlgebra\n",
    "\n",
    "B = [0 1 2; 3 4 5;6 7 8] \n",
    "\n",
    "eigen_of_B = eigen(B)\n",
    "\n",
    "display(\"eigen values\")\n",
    "display(eigen_of_B.values)\n",
    "display(\"eigen vectors\")\n",
    "display(eigen_of_B.vectors)\n",
    "display(\"eigen vector 1\")\n",
    "display(eigen_of_B.vectors[:,1])"
   ]
  },
  {
   "cell_type": "markdown",
   "metadata": {},
   "source": [
    "## Using Matricies to solve systems of equations\n",
    "\n",
    "Example: \n",
    "\n",
    "$$1x_1 + 2x_2 + 3x_3 = 2$$\n",
    "$$2x_1 + 3x_2 + 1x_3 = 1$$\n",
    "$$3x_1 + 2x_2 + 5x_3 = 13$$\n",
    "\n",
    "You can turn this into a matrix equation: \n",
    "\n",
    "A*X = b\n",
    "\n",
    "$$A = \\begin{bmatrix} 1 & 2 & 3 \\\\ 2 & 3 & 1 \\\\ 3 & 2 & 5 \\end{bmatrix}$$\n",
    "\n",
    "$$X = \\begin{bmatrix} x_1 \\\\ x_2 \\\\ x_3 \\end{bmatrix}$$\n",
    "\n",
    "\n",
    "$$b = \\begin{bmatrix} 2 \\\\ 1 \\\\ 13 \\end{bmatrix}$$\n",
    "\n",
    "\n"
   ]
  },
  {
   "cell_type": "code",
   "execution_count": null,
   "metadata": {},
   "outputs": [],
   "source": [
    "A = [1 2 3 ; 2 3 1 ; 2 1 13]\n",
    "b = [2; 1; 13]\n",
    "\n",
    "x = A\\b"
   ]
  },
  {
   "cell_type": "markdown",
   "metadata": {},
   "source": [
    "We can then test to see if our result was correct\n",
    "\n",
    "$$(1.727272727272727) + 2*(-1.0909090909090908) + 3*(0.8181818181818182) = 2$$\n"
   ]
  },
  {
   "cell_type": "code",
   "execution_count": null,
   "metadata": {},
   "outputs": [],
   "source": [
    "A = [1 2 3 ; 2 3 1 ; 2 1 13]\n",
    "b = [2; 1; 13]\n",
    "\n",
    "x = A\\b\n",
    "\n",
    "println(\"b[2]: $(b[1])\")\n",
    "computed_value =  A[1,1] * x[1] + A[1,2]*x[2]+ A[1,3]*x[3]\n",
    "println(\"computed value: $(computed_value)\")"
   ]
  },
  {
   "cell_type": "markdown",
   "metadata": {},
   "source": [
    "This type of operation was exactly what the [Atanasoff–Berry computer](https://en.wikipedia.org/wiki/Atanasoff%E2%80%93Berry_computer), built on the Iowa States Campus, was built to do in the 1940s. (Yes the 1940s, that very, very early days in digital computing.)\n"
   ]
  },
  {
   "cell_type": "markdown",
   "metadata": {},
   "source": [
    "## Exercises \n",
    "\n",
    "*TBD*"
   ]
  },
  {
   "cell_type": "markdown",
   "metadata": {},
   "source": []
  }
 ],
 "metadata": {
  "kernelspec": {
   "display_name": "Julia 1.6.3",
   "language": "julia",
   "name": "julia-1.6"
  },
  "language_info": {
   "file_extension": ".jl",
   "mimetype": "application/julia",
   "name": "julia",
   "version": "1.6.3"
  },
  "orig_nbformat": 4
 },
 "nbformat": 4,
 "nbformat_minor": 2
}
