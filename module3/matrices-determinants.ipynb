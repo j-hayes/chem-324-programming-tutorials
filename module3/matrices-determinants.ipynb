{
 "cells": [
  {
   "cell_type": "markdown",
   "metadata": {},
   "source": [
    "# Matricies and Determinants"
   ]
  },
  {
   "cell_type": "markdown",
   "metadata": {},
   "source": [
    "## Matricies\n",
    "\n",
    "In the previous module we saw vectors (arrays). A vector is actually a special case of a more general type of object called a matrix. A has \"dimensions\" of 1 row and N columns (a row vector) or N rows with 1 column (a column vector). We will now work with the general N row by M column Matrix.  \n",
    "\n",
    "As before there are a range of operations that can be used on matricies. For a detailed discussion on matricies see MathChapter E in Mcquarrie. "
   ]
  },
  {
   "cell_type": "markdown",
   "metadata": {},
   "source": [
    "There are two ways to define a matrix.\n",
    "\n",
    "$$\\begin{bmatrix} 1 & 2 & 3 \\\\ 4 & 5 & 6 \\\\ 7 & 8 & 9 \\end{bmatrix}$$\n",
    "\n",
    "\n",
    "1) Lay it out as you would if you were write it on paper.\n",
    "\n",
    "``` Julia \n",
    "A = [ 1 2 3\n",
    "      4 5 6\n",
    "      7 8 9] \n",
    "```\n",
    "2) Use semi-colons to separate rows\n",
    "\n",
    "``` Julia \n",
    "A = [ 1 2 3; 4 5 6; 7 8 9] \n",
    "```"
   ]
  },
  {
   "cell_type": "markdown",
   "metadata": {},
   "source": [
    "### Operations on One Matrix "
   ]
  },
  {
   "cell_type": "code",
   "execution_count": null,
   "metadata": {},
   "outputs": [],
   "source": [
    "using LinearAlgebra\n",
    "\n",
    "A = [0 1 -3; -3 -4 4;-2 -2 1 ] \n",
    "\n",
    "trace_A = tr(A) # trace of matrix A \n",
    "display(\"Matrix trace_A: \")\n",
    "display(trace_A)\n",
    "\n",
    "determiant_A = det(A) # determinant of matrix A\n",
    "display(\"Matrix determiant_A: \")\n",
    "display(determiant_A)\n",
    "\n",
    "transpose_A = transpose(A) # transpose of A \n",
    "display(\"Matrix transpose_A: \")\n",
    "display(transpose_A)\n",
    "\n",
    "inverse_A = inv(A) # invese of A\n",
    "display(\"Matrix inverse_A: \")\n",
    "println(inverse_A)\n",
    "\n"
   ]
  },
  {
   "cell_type": "code",
   "execution_count": null,
   "metadata": {},
   "outputs": [],
   "source": [
    "using LinearAlgebra\n",
    "\n",
    "A = [1 2 3; 4 5 6; 7 8 9]\n",
    "row = 1\n",
    "column = 3\n",
    "value = A[row, column]\n",
    "display(\"Matrix 1,3: \")\n",
    "display(value)\n",
    "\n",
    "display(\"Matrix 3,1: \")\n",
    "display(A[3,1])\n"
   ]
  },
  {
   "cell_type": "markdown",
   "metadata": {},
   "source": [
    "Below is some code that prints out all of the indecies in a matrix."
   ]
  },
  {
   "cell_type": "code",
   "execution_count": null,
   "metadata": {},
   "outputs": [],
   "source": [
    "using LinearAlgebra\n",
    "\n",
    "a = [1 2 3; 4 5 6; 7 8 9]\n",
    "display(a)\n",
    "b = [\"1,1\" \"1,2\" \"1,3\"; \"2,1\" \"2,2\" \"2,3\"; \"3,1\" \"3,2\" \"3,3\" ]\n",
    "display(b)\n"
   ]
  },
  {
   "cell_type": "code",
   "execution_count": null,
   "metadata": {},
   "outputs": [],
   "source": [
    "using LinearAlgebra\n",
    "\n",
    "a = [1 2 3; 4 5 6; 7 8 9]\n",
    "display(a)\n",
    "display(a[:,1])\n",
    "display(a[2,:])"
   ]
  },
  {
   "cell_type": "markdown",
   "metadata": {},
   "source": [
    "### Operations with two matrices:"
   ]
  },
  {
   "cell_type": "code",
   "execution_count": null,
   "metadata": {},
   "outputs": [],
   "source": [
    "using LinearAlgebra\n",
    "\n",
    "Identity = [1 0 0; 0 1 0; 0 0 1]\n",
    "A = [0 1 -3; -3 -4 4;-2 -2 1 ] \n",
    "B = [0 1 2; 3 4 5;6 7 8] \n",
    "\n",
    "display(\"Matrix A: \")\n",
    "display(A)\n",
    "\n",
    "Same_A = A * Identity # Multiply by an identity \n",
    "Same_easier = A * I # I is a reserved built in matrix I, it will automatically scale to the correct size\n",
    "\n",
    "display(\"Matrix Same_A: \")\n",
    "display(Same_A)\n",
    "display(\"Matrix Same_easier: \")\n",
    "display(Same_easier)\n",
    "\n",
    "A_times_B = A * B # Matrix Multiplication\n",
    "A_Hadamard_B = A .* B # Element-wise (Hadamard product)\n",
    "\n",
    "display(\"Matrix A_times_B: \")\n",
    "display(A_times_B)\n",
    "display(\"Matrix A_Hadamard_B: \")\n",
    "display(A_Hadamard_B)\n",
    "\n",
    "A_left_divide_B = A \\ B # inverse(A) * B \"left-division operator\"\n",
    "display(\"Matrix A_left_divide_B: \")\n",
    "display(A_left_divide_B)\n"
   ]
  },
  {
   "cell_type": "markdown",
   "metadata": {},
   "source": [
    "### Eigen Values and Eigen Vectors\n",
    "\n",
    "Julia will calculate the eigenvalues and eigenvectors of a matrix: \n",
    "\n",
    "(The kth eigenvector can be obtained from the slice eigen(A).vectors[:, k].)\n"
   ]
  },
  {
   "cell_type": "code",
   "execution_count": null,
   "metadata": {},
   "outputs": [],
   "source": [
    "using LinearAlgebra\n",
    "\n",
    "B = [0 1 2; 3 4 5;6 7 8] \n",
    "\n",
    "eigen_of_B = eigen(B)\n",
    "\n",
    "display(\"eigen values\")\n",
    "display(eigen_of_B.values)\n",
    "display(\"eigen vectors\")\n",
    "display(eigen_of_B.vectors)\n",
    "display(\"eigen vector 1\")\n",
    "display(eigen_of_B.vectors[:,1])"
   ]
  },
  {
   "cell_type": "markdown",
   "metadata": {},
   "source": [
    "## Using Matricies to solve systems of equations\n",
    "\n",
    "Example: \n",
    "\n",
    "$$1x_1 + 2x_2 + 3x_3 = 2$$\n",
    "$$2x_1 + 3x_2 + 1x_3 = 1$$\n",
    "$$3x_1 + 2x_2 + 5x_3 = 13$$\n",
    "\n",
    "You can turn this into a matrix equation: \n",
    "\n",
    "A*X = b\n",
    "\n",
    "$$A = \\begin{bmatrix} 1 & 2 & 3 \\\\ 2 & 3 & 1 \\\\ 3 & 2 & 5 \\end{bmatrix}$$\n",
    "\n",
    "$$X = \\begin{bmatrix} x_1 \\\\ x_2 \\\\ x_3 \\end{bmatrix}$$\n",
    "\n",
    "\n",
    "$$b = \\begin{bmatrix} 2 \\\\ 1 \\\\ 13 \\end{bmatrix}$$\n",
    "\n",
    "\n"
   ]
  },
  {
   "cell_type": "code",
   "execution_count": null,
   "metadata": {},
   "outputs": [],
   "source": [
    "A = [1 2 3 ; 2 3 1 ; 2 1 13]\n",
    "b = [2; 1; 13]\n",
    "\n",
    "x = A\\b"
   ]
  },
  {
   "cell_type": "markdown",
   "metadata": {},
   "source": [
    "We can then test to see if our result was correct\n",
    "\n",
    "$$(1.727272727272727) + 2*(-1.0909090909090908) + 3*(0.8181818181818182) = 2$$\n"
   ]
  },
  {
   "cell_type": "code",
   "execution_count": null,
   "metadata": {},
   "outputs": [],
   "source": [
    "A = [1 2 3 ; 2 3 1 ; 2 1 13]\n",
    "b = [2; 1; 13]\n",
    "\n",
    "x = A\\b\n",
    "\n",
    "println(\"b[2]: $(b[1])\")\n",
    "computed_value =  A[1,1] * x[1] + A[1,2]*x[2]+ A[1,3]*x[3]\n",
    "println(\"computed value: $(computed_value)\")"
   ]
  },
  {
   "cell_type": "markdown",
   "metadata": {},
   "source": [
    "This type of operation was exactly what the [Atanasoff–Berry computer](https://en.wikipedia.org/wiki/Atanasoff%E2%80%93Berry_computer), built on the Iowa States Campus, was built to do in the 1940s. (Yes the 1940s, that very, very early days in digital computing.)\n"
   ]
  },
  {
   "cell_type": "markdown",
   "metadata": {},
   "source": [
    "## Software Engineering \n",
    "\n",
    "Everything we have talked about so far has been very practical, we are learning the basics of syntax and how to write some basic programs. \n",
    "\n",
    "We are now going to take a step back and talk about some essentials in writing \"good\" code. \n",
    "\n",
    "### A Central Question to ask yourself before writing code \n",
    "\n",
    "I would categorize two main types of writing code: scripting and everything else (I say it this way because the other word used is usually programming, and scripting is a type of programming so, yeah there isn't a good word). I will call everything else code base development (development for short). These two concepts are not mutually exclusive, they are two sides of a coin or ends of a spectrum.\n",
    "\n",
    "- Scripting is writing (single use) code that uses other code to perform some specific task. \n",
    "- Development is building a larger set of functions that can be combined and used in many different ways to accomplish many related tasks. \n",
    "\n",
    "\n",
    "\n",
    "\n",
    "\n",
    "### [Object oriented programming](https://en.wikipedia.org/wiki/Object-oriented_programming) \n",
    "\n",
    "\"Object-oriented programming (OOP) is a programming paradigm based on the concept of \"objects\", which can contain data and code: data in the form of fields (often known as attributes or properties), and code, in the form of procedures (often known as methods).\"\n",
    "\n",
    "The construct to define the data and code are called classes. These constructs are how we model the real world concepts in code.\n",
    "\n",
    "A \"instantiation\" of a class (i.e. using the class definition and creating one) is called an object. E.g. if we have a person class, we can create multiple people objects representing the different people involved in our model.  \n",
    "\n",
    "#### A Quick Caveat \n",
    "\n",
    "Julia is not an \"object-oriented\" language, however the concepts of objected oriented programming can and should still be applied. The exercise of arranging the functionality you build into logically separated groups will pay dividends in how well organized and understandable your code will be. I will talk about most of this in general and provide some concrete examples for study. \n",
    "\n",
    "### Bicycle Class \n",
    "An easy example of a concept we want to class could be a bicycle. There is a multitude of attributes about a bicycle, so lets pick a context for the problem. Let's think about what we would need to know if we were writing a simulation with a bunch of bikes on a road.\n",
    "\n",
    "- attributes about the car that do not change\n",
    "  - make\n",
    "  - model\n",
    "  - year\n",
    "  - vin number\n",
    "  - weight\n",
    "  - coefficient of drag\n",
    "  - color\n",
    "  - gears\n",
    "  - wheel diameter \n",
    "- attributes that might change\n",
    "  - its speed moving on the road\n",
    "  - position on the road (gps, (x,y,z), etc)\n",
    "  - what gear the bike is currently in\n",
    "\n",
    "- functions that could be performed on a bicycle\n",
    "  - speed up (push the pedal)\n",
    "  - slow down (hit the breaks or )\n",
    "  - steer right or left\n",
    "  - change gear \n",
    "  - update position \n",
    "\n",
    "### Rider Class\n",
    "The next question to ask is who is going to be using the bicycle. Obviously the bike doesn't pedal itself, so it shouldn't be calling the speed up function on itself. We can define a special type of person and its relationship with the bike. In our model we can describe the relationship as the rider \"has a bike.\"  \n",
    "\n",
    "The rider can push the pedals, hit the breaks, look for other bikes or obstacles and decide to steer the bike. \n",
    "\n",
    "### World / Simulation class\n",
    "Then at the highest level we could define a class with functions that run the simulation. It keeps track of all the riders and their bikes, and prompts the riders to perform actions on the bikes.\n",
    "\n",
    "#### Design Question\n",
    "What class should keep track of positions and velocities of the bikes over time? \n",
    "\n",
    "How would any of this differ if we were modeling a sailboat instead of a bike. \n",
    "\n",
    "## Example\n",
    "\n",
    "I have made two \"simulations\" of bike riders moving around on a two dimensional area. One shows what code can look like if you do not follow any sort of patters, implementing all of the functionality in one big lump. The other shows how it might look if you follow some object oriented design. It should be evident which is easier to understand and to extend. "
   ]
  },
  {
   "cell_type": "markdown",
   "metadata": {},
   "source": [
    "### SOLID Principles\n",
    "\n",
    "SOLID is an acronym for several of the essential principles in writing understandable, high quality, maintainable software. This acronym was created by Robert Martin, a thought leader in the Software Engineering community. \n",
    "\n",
    "For now we will focus on three of the most important (and least esoteric).\n",
    "\n",
    "[Wikipedia Link for more information](https://en.wikipedia.org/wiki/SOLID)\n",
    "\n",
    "#### S - Single Responsibility Principle \n",
    "\n",
    "\"There should never be more than one reason for a class to change.\"\n",
    "\n",
    "This principle boils down to any object (function, module, etc.) should have one and only one purpose.\n",
    "\n",
    "While this sounds simple, it is the most widely violated principles. While it is sometimes subjective to say what constitutes \"one purpose,\" it is very easy to make a function that does more than one thing. In fact it is how one writes code when they are first getting their ideas out. \n",
    "\n",
    "#### O\n",
    "\n",
    "#### L \n",
    "\n",
    "#### I - Interface Segregation Principle\n",
    "\n",
    " \"Many client-specific interfaces are better than one general-purpose interface.\"\n",
    "\n",
    "#### D - Dependency Inversion Principle \n",
    "\n",
    "\"Depend upon abstractions, [not] concretions.\" \n",
    "\n",
    "What this means is that one part of code should only know what the other code is going to do, not how it will do it. One should think of a function definition as a contract between the user of the function and implementation of the function. I.e. you give me these parameters and I will give you back such and such object(s) or make such and such modifications to the parameters you passed to me. \n"
   ]
  },
  {
   "cell_type": "markdown",
   "metadata": {},
   "source": [
    "### Review of Looping OPTIONAL\n",
    "\n",
    "Numerical Integration\n",
    "\n",
    "Another application of series/loops are numerical techniques to calculate the area under a curve. One such technique using the midpoint rule divides the area under the curve between the integration limits a and b into n rectangles. The sum of the area of the rectangles is the approximation of the integral value. The larger n becomes, the closer to the exact integral. In the infinite limit, the values are the same. (This process is also called a [Riemann Sum](https://en.wikipedia.org/wiki/Riemann_sum))\n",
    "\n",
    "$$M_{n} = \\sum_{i=0}^{n} f(x_i) Δx $$\n",
    "\n",
    "$$ Δx = \\frac{b-a}{n} $$\n",
    "\n",
    "$$\\lim_{n \\to \\infty}  M_{n} = \\int_a^b f(x) \\: \\mathrm{d}x $$\n",
    "\n",
    "![Riemann Sum](https://upload.wikimedia.org/wikipedia/commons/thumb/2/2a/Riemann_sum_convergence.png/300px-Riemann_sum_convergence.png)\n",
    "\n",
    "(source: wikipedia.org)\n"
   ]
  },
  {
   "cell_type": "markdown",
   "metadata": {},
   "source": [
    "$$ \\int_0^1 \\exp^{-2x} dx = \\frac{1}{2} - \\frac{1}{2 e^{2}} ≈ 0.43233 $$\n"
   ]
  },
  {
   "cell_type": "code",
   "execution_count": null,
   "metadata": {},
   "outputs": [],
   "source": [
    "function function_to_be_integrated(x)\n",
    "    return exp(-2*x)\n",
    "end\n",
    "\n",
    "function numerical_integration(number_of_rectangles,\n",
    "     integration_start, \n",
    "     integration_end, \n",
    "     integration_function)\n",
    "\n",
    "    area_under_curve = 0\n",
    "    Δx = (integration_end-integration_start)/number_of_rectangles\n",
    "    for i in 0:number_of_rectangles\n",
    "        area_under_curve += integration_function(i*Δx)*Δx\n",
    "    end\n",
    "    return area_under_curve\n",
    "end\n",
    "\n",
    "n = 10000\n",
    "a = 0\n",
    "b = 1\n",
    "\n",
    "## you can pass a function as a parameter to be used in another function. \n",
    "area_under_curve = numerical_integration(n, a, b, function_to_be_integrated)\n",
    "\n",
    "analytical_area_under_curve = 0.43233 # calculated with wolfram alpha \n",
    "println(\"analytical: $(analytical_area_under_curve)\")\n",
    "println(\"numerical: $(area_under_curve)\")"
   ]
  },
  {
   "cell_type": "markdown",
   "metadata": {},
   "source": [
    "### Practice Exercise Numerical Integration \n",
    "\n",
    "Using similar steps as the numerical integration techniques above (Riemann Sum). Get the area under the curve for the normalized particle in a one-dimensional box wave function squared. Limits of integration are any a ≥ 0 to b ≤ L. L is the box length. Integrate with a given number of rectangles ( $n_{r}$ ). \n",
    "\n",
    "$$M_{n_{r}} = \\sum_{i=0}^{n_{r}} Ψ^{*}_n(x_i)Ψ_n(x_i) Δx $$\n",
    "\n",
    "$$ Δx = \\frac{b-a}{n_{r}} $$\n",
    "\n",
    "$$\\lim_{i \\to \\infty}  M_{n_{r}} = \\int_a^b Ψ^{*}_n(x)Ψ_n(x) \\: \\mathrm{d}x $$\n",
    "\n",
    "Complete this exercise in [module-3-optional-exercise.jl](./module-3-optional-exercise.jl)"
   ]
  },
  {
   "cell_type": "code",
   "execution_count": null,
   "metadata": {},
   "outputs": [],
   "source": [
    "# include(\"./module-3-optional-exercise-test-runner.jl\") #including the file runs the tests"
   ]
  },
  {
   "cell_type": "markdown",
   "metadata": {},
   "source": [
    "## Exercises \n",
    "\n",
    "*TBD*"
   ]
  },
  {
   "cell_type": "markdown",
   "metadata": {},
   "source": []
  }
 ],
 "metadata": {
  "kernelspec": {
   "display_name": "Julia 1.6.3",
   "language": "julia",
   "name": "julia-1.6"
  },
  "language_info": {
   "file_extension": ".jl",
   "mimetype": "application/julia",
   "name": "julia",
   "version": "1.6.3"
  },
  "orig_nbformat": 4
 },
 "nbformat": 4,
 "nbformat_minor": 2
}
