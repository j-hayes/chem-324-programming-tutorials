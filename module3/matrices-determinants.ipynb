{
 "cells": [
  {
   "cell_type": "markdown",
   "metadata": {},
   "source": [
    "# Matricies and Determinants"
   ]
  },
  {
   "cell_type": "markdown",
   "metadata": {},
   "source": [
    "## Matricies\n",
    "\n",
    "In the previous module we saw vectors (arrays). A vector is actually a special case of a more general type of object called a matrix. A has \"dimensions\" of 1 row and N columns (a row vector) or N rows with 1 column (a column vector). We will now work with the general N row by M column Matrix.  \n",
    "\n",
    "As before there are a range of operations that can be used on matricies. For a detailed discussion on matricies see MathChapter E in Mcquarrie. "
   ]
  },
  {
   "cell_type": "markdown",
   "metadata": {},
   "source": [
    "There are two ways to define a matrix.\n",
    "\n",
    "$$\\begin{bmatrix} 1 & 2 & 3 \\\\ 4 & 5 & 6 \\\\ 7 & 8 & 9 \\end{bmatrix}$$\n",
    "\n",
    "\n",
    "1) Lay it out as you would if you were write it on paper.\n",
    "\n",
    "``` Julia \n",
    "A = [ 1 2 3\n",
    "      4 5 6\n",
    "      7 8 9] \n",
    "```\n",
    "2) Use semi-colons to separate rows\n",
    "\n",
    "``` Julia \n",
    "A = [ 1 2 3; 4 5 6; 7 8 9] \n",
    "```"
   ]
  },
  {
   "cell_type": "markdown",
   "metadata": {},
   "source": [
    "### Operations on One Matrix "
   ]
  },
  {
   "cell_type": "code",
   "execution_count": 12,
   "metadata": {},
   "outputs": [
    {
     "data": {
      "text/plain": [
       "\"Matrix A: \""
      ]
     },
     "metadata": {},
     "output_type": "display_data"
    },
    {
     "data": {
      "text/plain": [
       "3×3 Matrix{Int64}:\n",
       "  0   1  -3\n",
       " -3  -4   4\n",
       " -2  -2   1"
      ]
     },
     "metadata": {},
     "output_type": "display_data"
    },
    {
     "data": {
      "text/plain": [
       "\"Matrix Same_A: \""
      ]
     },
     "metadata": {},
     "output_type": "display_data"
    },
    {
     "data": {
      "text/plain": [
       "3×3 Matrix{Int64}:\n",
       "  0   1  -3\n",
       " -3  -4   4\n",
       " -2  -2   1"
      ]
     },
     "metadata": {},
     "output_type": "display_data"
    },
    {
     "data": {
      "text/plain": [
       "\"Matrix Same_easier: \""
      ]
     },
     "metadata": {},
     "output_type": "display_data"
    },
    {
     "data": {
      "text/plain": [
       "3×3 Matrix{Int64}:\n",
       "  0   1  -3\n",
       " -3  -4   4\n",
       " -2  -2   1"
      ]
     },
     "metadata": {},
     "output_type": "display_data"
    },
    {
     "data": {
      "text/plain": [
       "\"Matrix trace_A: \""
      ]
     },
     "metadata": {},
     "output_type": "display_data"
    },
    {
     "data": {
      "text/plain": [
       "-3"
      ]
     },
     "metadata": {},
     "output_type": "display_data"
    },
    {
     "data": {
      "text/plain": [
       "\"Matrix determiant_A: \""
      ]
     },
     "metadata": {},
     "output_type": "display_data"
    },
    {
     "data": {
      "text/plain": [
       "0.9999999999999991"
      ]
     },
     "metadata": {},
     "output_type": "display_data"
    },
    {
     "data": {
      "text/plain": [
       "\"Matrix transpose_A: \""
      ]
     },
     "metadata": {},
     "output_type": "display_data"
    },
    {
     "data": {
      "text/plain": [
       "3×3 transpose(::Matrix{Int64}) with eltype Int64:\n",
       "  0  -3  -2\n",
       "  1  -4  -2\n",
       " -3   4   1"
      ]
     },
     "metadata": {},
     "output_type": "display_data"
    },
    {
     "data": {
      "text/plain": [
       "\"Matrix inverse_A: \""
      ]
     },
     "metadata": {},
     "output_type": "display_data"
    },
    {
     "name": "stdout",
     "output_type": "stream",
     "text": [
      "[4.000000000000005 5.000000000000006 -8.000000000000009; -5.0000000000000036 -6.000000000000004 9.000000000000007; -2.0000000000000013 -2.0000000000000018 3.0000000000000027]\n"
     ]
    }
   ],
   "source": [
    "using LinearAlgebra\n",
    "\n",
    "A = [0 1 -3; -3 -4 4;-2 -2 1 ] \n",
    "\n",
    "trace_A = tr(A) # trace of matrix A \n",
    "display(\"Matrix trace_A: \")\n",
    "display(trace_A)\n",
    "\n",
    "determiant_A = det(A) # determinant of matrix A\n",
    "display(\"Matrix determiant_A: \")\n",
    "display(determiant_A)\n",
    "\n",
    "transpose_A = transpose(A) # transpose of A \n",
    "display(\"Matrix transpose_A: \")\n",
    "display(transpose_A)\n",
    "\n",
    "inverse_A = inv(A) # invese of A\n",
    "display(\"Matrix inverse_A: \")\n",
    "println(inverse_A)\n",
    "\n"
   ]
  },
  {
   "cell_type": "code",
   "execution_count": 15,
   "metadata": {},
   "outputs": [
    {
     "data": {
      "text/plain": [
       "\"Matrix 1,3: \""
      ]
     },
     "metadata": {},
     "output_type": "display_data"
    },
    {
     "data": {
      "text/plain": [
       "3"
      ]
     },
     "metadata": {},
     "output_type": "display_data"
    },
    {
     "data": {
      "text/plain": [
       "\"Matrix 3,1: \""
      ]
     },
     "metadata": {},
     "output_type": "display_data"
    },
    {
     "data": {
      "text/plain": [
       "7"
      ]
     },
     "metadata": {},
     "output_type": "display_data"
    }
   ],
   "source": [
    "using LinearAlgebra\n",
    "\n",
    "A = [1 2 3; 4 5 6; 7 8 9]\n",
    "row = 1\n",
    "column = 3\n",
    "value = A[row, column]\n",
    "display(\"Matrix 1,3: \")\n",
    "display(value)\n",
    "\n",
    "display(\"Matrix 3,1: \")\n",
    "display(A[3,1])\n"
   ]
  },
  {
   "cell_type": "markdown",
   "metadata": {},
   "source": [
    "Below is some code that prints out all of the indecies in a matrix."
   ]
  },
  {
   "cell_type": "code",
   "execution_count": 16,
   "metadata": {},
   "outputs": [
    {
     "data": {
      "text/plain": [
       "3×3 Matrix{Int64}:\n",
       " 1  2  3\n",
       " 4  5  6\n",
       " 7  8  9"
      ]
     },
     "metadata": {},
     "output_type": "display_data"
    },
    {
     "data": {
      "text/plain": [
       "3×3 Matrix{String}:\n",
       " \"1,1\"  \"1,2\"  \"1,3\"\n",
       " \"2,1\"  \"2,2\"  \"2,3\"\n",
       " \"3,1\"  \"3,2\"  \"3,3\""
      ]
     },
     "metadata": {},
     "output_type": "display_data"
    },
    {
     "data": {
      "text/plain": [
       "\"1,3\""
      ]
     },
     "metadata": {},
     "output_type": "display_data"
    }
   ],
   "source": [
    "using LinearAlgebra\n",
    "\n",
    "a = [1 2 3; 4 5 6; 7 8 9]\n",
    "display(a)\n",
    "b = [\"1,1\" \"1,2\" \"1,3\"; \"2,1\" \"2,2\" \"2,3\"; \"3,1\" \"3,2\" \"3,3\" ]\n",
    "display(b)\n"
   ]
  },
  {
   "cell_type": "code",
   "execution_count": 41,
   "metadata": {},
   "outputs": [
    {
     "data": {
      "text/plain": [
       "3×3 Matrix{Int64}:\n",
       " 1  2  3\n",
       " 4  5  6\n",
       " 7  8  9"
      ]
     },
     "metadata": {},
     "output_type": "display_data"
    },
    {
     "data": {
      "text/plain": [
       "3-element Vector{Int64}:\n",
       " 1\n",
       " 4\n",
       " 7"
      ]
     },
     "metadata": {},
     "output_type": "display_data"
    },
    {
     "data": {
      "text/plain": [
       "3-element Vector{Int64}:\n",
       " 4\n",
       " 5\n",
       " 6"
      ]
     },
     "metadata": {},
     "output_type": "display_data"
    }
   ],
   "source": [
    "using LinearAlgebra\n",
    "\n",
    "a = [1 2 3; 4 5 6; 7 8 9]\n",
    "display(a)\n",
    "display(a[:,1])\n",
    "display(a[2,:])"
   ]
  },
  {
   "cell_type": "markdown",
   "metadata": {},
   "source": [
    "### Operations with two matrices:"
   ]
  },
  {
   "cell_type": "code",
   "execution_count": 34,
   "metadata": {},
   "outputs": [
    {
     "data": {
      "text/plain": [
       "\"Matrix A: \""
      ]
     },
     "metadata": {},
     "output_type": "display_data"
    },
    {
     "data": {
      "text/plain": [
       "3×3 Matrix{Int64}:\n",
       "  0   1  -3\n",
       " -3  -4   4\n",
       " -2  -2   1"
      ]
     },
     "metadata": {},
     "output_type": "display_data"
    },
    {
     "data": {
      "text/plain": [
       "\"Matrix Same_A: \""
      ]
     },
     "metadata": {},
     "output_type": "display_data"
    },
    {
     "data": {
      "text/plain": [
       "3×3 Matrix{Int64}:\n",
       "  0   1  -3\n",
       " -3  -4   4\n",
       " -2  -2   1"
      ]
     },
     "metadata": {},
     "output_type": "display_data"
    },
    {
     "data": {
      "text/plain": [
       "\"Matrix Same_easier: \""
      ]
     },
     "metadata": {},
     "output_type": "display_data"
    },
    {
     "data": {
      "text/plain": [
       "3×3 Matrix{Int64}:\n",
       "  0   1  -3\n",
       " -3  -4   4\n",
       " -2  -2   1"
      ]
     },
     "metadata": {},
     "output_type": "display_data"
    },
    {
     "data": {
      "text/plain": [
       "\"Matrix A_times_B: \""
      ]
     },
     "metadata": {},
     "output_type": "display_data"
    },
    {
     "data": {
      "text/plain": [
       "3×3 Matrix{Int64}:\n",
       "  0   1  -3\n",
       " -3  -4   4\n",
       " -2  -2   1"
      ]
     },
     "metadata": {},
     "output_type": "display_data"
    },
    {
     "data": {
      "text/plain": [
       "\"Matrix A_Hadamard_B: \""
      ]
     },
     "metadata": {},
     "output_type": "display_data"
    },
    {
     "data": {
      "text/plain": [
       "3×3 Matrix{Int64}:\n",
       "   0    1  -6\n",
       "  -9  -16  20\n",
       " -12  -14   8"
      ]
     },
     "metadata": {},
     "output_type": "display_data"
    },
    {
     "data": {
      "text/plain": [
       "\"Matrix A_divided_B: \""
      ]
     },
     "metadata": {},
     "output_type": "display_data"
    },
    {
     "data": {
      "text/plain": [
       "3×3 Matrix{Float64}:\n",
       " -33.0  -32.0  -31.0\n",
       "  36.0   34.0   32.0\n",
       "  12.0   11.0   10.0"
      ]
     },
     "metadata": {},
     "output_type": "display_data"
    }
   ],
   "source": [
    "using LinearAlgebra\n",
    "\n",
    "Identity = [1 0 0; 0 1 0; 0 0 1]\n",
    "A = [0 1 -3; -3 -4 4;-2 -2 1 ] \n",
    "B = [0 1 2; 3 4 5;6 7 8] \n",
    "\n",
    "display(\"Matrix A: \")\n",
    "display(A)\n",
    "\n",
    "Same_A = A * Identity # Multiply by an identity \n",
    "Same_easier = A * I # I is a reserved built in matrix I, it will automatically scale to the correct size\n",
    "\n",
    "display(\"Matrix Same_A: \")\n",
    "display(Same_A)\n",
    "display(\"Matrix Same_easier: \")\n",
    "display(Same_easier)\n",
    "\n",
    "A_times_B = A * B # Matrix Multiplication\n",
    "A_Hadamard_B = A .* B # Element-wise (Hadamard product)\n",
    "\n",
    "display(\"Matrix A_times_B: \")\n",
    "display(Same_A)\n",
    "display(\"Matrix A_Hadamard_B: \")\n",
    "display(A_Hadamard_B)\n",
    "\n",
    "A_divided_B = A \\ B # Matrix division\n",
    "display(\"Matrix A_divided_B: \")\n",
    "display(A_divided_B)\n"
   ]
  },
  {
   "cell_type": "markdown",
   "metadata": {},
   "source": [
    "### Eigen Values and Eigen Vectors\n",
    "\n",
    "Julia will calculate the eigenvalues and eigenvectors of a matrix: \n",
    "\n",
    "(The kth eigenvector can be obtained from the slice eigen(A).vectors[:, k].)\n"
   ]
  },
  {
   "cell_type": "code",
   "execution_count": 43,
   "metadata": {},
   "outputs": [
    {
     "data": {
      "text/plain": [
       "\"eigen values\""
      ]
     },
     "metadata": {},
     "output_type": "display_data"
    },
    {
     "data": {
      "text/plain": [
       "3-element Vector{Float64}:\n",
       " -1.3484692283495348\n",
       " -2.484772788451793e-16\n",
       " 13.34846922834954"
      ]
     },
     "metadata": {},
     "output_type": "display_data"
    },
    {
     "data": {
      "text/plain": [
       "\"eigen vectors\""
      ]
     },
     "metadata": {},
     "output_type": "display_data"
    },
    {
     "data": {
      "text/plain": [
       "3×3 Matrix{Float64}:\n",
       "  0.7997     0.408248  0.164764\n",
       "  0.104206  -0.816497  0.505774\n",
       " -0.591288   0.408248  0.846785"
      ]
     },
     "metadata": {},
     "output_type": "display_data"
    },
    {
     "data": {
      "text/plain": [
       "\"eigen vector 1\""
      ]
     },
     "metadata": {},
     "output_type": "display_data"
    },
    {
     "data": {
      "text/plain": [
       "3-element Vector{Float64}:\n",
       "  0.7996996631118655\n",
       "  0.10420578771917771\n",
       " -0.5912880876735087"
      ]
     },
     "metadata": {},
     "output_type": "display_data"
    }
   ],
   "source": [
    "using LinearAlgebra\n",
    "\n",
    "B = [0 1 2; 3 4 5;6 7 8] \n",
    "\n",
    "eigen_of_B = eigen(B)\n",
    "\n",
    "display(\"eigen values\")\n",
    "display(eigen_of_B.values)\n",
    "display(\"eigen vectors\")\n",
    "display(eigen_of_B.vectors)\n",
    "display(\"eigen vector 1\")\n",
    "display(eigen_of_B.vectors[:,1])"
   ]
  },
  {
   "cell_type": "markdown",
   "metadata": {},
   "source": [
    "## Using Matricies to solve systems of equations\n",
    "\n",
    "Example: \n",
    "\n",
    "$$1x_1 + 2x_2 + 3x_3 = 2$$\n",
    "$$2x_1 + 3x_2 + 1x_3 = 1$$\n",
    "$$3x_1 + 2x_2 + 5x_3 = 13$$\n",
    "\n",
    "You can turn this into a matrix equation: \n",
    "\n",
    "A*X = b\n",
    "\n",
    "$$A = \\begin{bmatrix} 1 & 2 & 3 \\\\ 2 & 3 & 1 \\\\ 3 & 2 & 5 \\end{bmatrix}$$\n",
    "\n",
    "$$X = \\begin{bmatrix} x_1 \\\\ x_2 \\\\ x_3 \\end{bmatrix}$$\n",
    "\n",
    "\n",
    "$$b = \\begin{bmatrix} 2 \\\\ 1 \\\\ 13 \\end{bmatrix}$$\n",
    "\n",
    "\n"
   ]
  },
  {
   "cell_type": "code",
   "execution_count": 46,
   "metadata": {},
   "outputs": [
    {
     "data": {
      "text/plain": [
       "3-element Vector{Float64}:\n",
       "  1.727272727272727\n",
       " -1.0909090909090908\n",
       "  0.8181818181818182"
      ]
     },
     "metadata": {},
     "output_type": "display_data"
    }
   ],
   "source": [
    "A = [1 2 3 ; 2 3 1 ; 2 1 13]\n",
    "b = [2; 1; 13]\n",
    "\n",
    "x = A\\b"
   ]
  },
  {
   "cell_type": "markdown",
   "metadata": {},
   "source": [
    "We can then test to see if our result was correct\n",
    "\n",
    "$$(1.727272727272727) + 2*(-1.0909090909090908) + 3*(0.8181818181818182) = 2$$\n"
   ]
  },
  {
   "cell_type": "code",
   "execution_count": 47,
   "metadata": {},
   "outputs": [
    {
     "name": "stdout",
     "output_type": "stream",
     "text": [
      "b[2]: 2\n",
      "computed value: 2.0\n"
     ]
    }
   ],
   "source": [
    "A = [1 2 3 ; 2 3 1 ; 2 1 13]\n",
    "b = [2; 1; 13]\n",
    "\n",
    "x = A\\b\n",
    "\n",
    "println(\"b[2]: $(b[1])\")\n",
    "computed_value =  A[1,1] * x[1] + A[1,2]*x[2]+ A[1,3]*x[3]\n",
    "println(\"computed value: $(computed_value)\")"
   ]
  },
  {
   "cell_type": "markdown",
   "metadata": {},
   "source": [
    "This type of operation was exactly what the [Atanasoff–Berry computer](https://en.wikipedia.org/wiki/Atanasoff%E2%80%93Berry_computer), built on the Iowa States Campus, was built to do in the 1940s. (Yes the 1940s, that very, very early days in digital computing.)\n"
   ]
  },
  {
   "cell_type": "markdown",
   "metadata": {},
   "source": [
    "## Software Engineering \n",
    "\n",
    "Everything we have talked about so far has been very practical, we are learning the basics of syntax and how to write some basic programs. \n",
    "\n",
    "We are now going to take a step back and talk about some essentials in writing \"good\" code. \n",
    "\n",
    "### Object oriented programming \n",
    "\n",
    "### SOLID Principles\n",
    "\n",
    "SOLID is an acryonym for several of the essential principles in writing understandable, high quality, maintainable software. This acryonym was created by Robert Martin, a thought leader in the Software Engineering community. \n",
    "\n",
    "For now we will focus on three of the most important (and least esoteric).\n",
    "\n",
    "[Wikipedia Link for more information](https://en.wikipedia.org/wiki/SOLID)\n",
    "\n",
    "#### S - Single Responsibility Principle \n",
    "\n",
    "\"There should never be more than one reason for a class to change.\"\n",
    "\n",
    "This principle boils down to any object (function, module, etc.) should have one and only one purpose.\n",
    "\n",
    "While this sounds simple, it is the most widely violated principles. While it is sometimes subjective to say what constitutes \"one purpose,\" it is very easy to make a function that does more than one thing. In fact it is how one writes code when they are first getting their ideas out. \n",
    "\n",
    "#### O\n",
    "\n",
    "#### L \n",
    "\n",
    "#### I - Interface Segregation Principle\n",
    "\n",
    " \"Many client-specific interfaces are better than one general-purpose interface.\"\n",
    "\n",
    "#### D\n",
    "\n"
   ]
  },
  {
   "cell_type": "markdown",
   "metadata": {},
   "source": [
    "### Review of Looping\n",
    "\n",
    "Numerical Integration\n",
    "\n",
    "Another application of series/loops are numerical techniques to calculate the area under a curve. One such technique using the midpoint rule divides the area under the curve between the integration limits a and b into n rectangles. The sum of the area of the rectangles is the approximation of the integral value. The larger n becomes, the closer to the exact integral. In the infinite limit, the values are the same. (This process is also called a [Riemann Sum](https://en.wikipedia.org/wiki/Riemann_sum))\n",
    "\n",
    "$$M_{n} = \\sum_{i=0}^{n} f(x_i) Δx $$\n",
    "\n",
    "$$ Δx = \\frac{b-a}{n} $$\n",
    "\n",
    "$$\\lim_{n \\to \\infty}  M_{n} = \\int_a^b f(x) \\: \\mathrm{d}x $$\n",
    "\n",
    "![Riemann Sum](https://upload.wikimedia.org/wikipedia/commons/thumb/2/2a/Riemann_sum_convergence.png/300px-Riemann_sum_convergence.png)\n",
    "\n",
    "(source: wikipedia.org)\n"
   ]
  },
  {
   "cell_type": "markdown",
   "metadata": {},
   "source": [
    "$$ \\int_0^1 \\exp^{-2x} dx = \\frac{1}{2} - \\frac{1}{2 e^{2}} ≈ 0.43233 $$\n"
   ]
  },
  {
   "cell_type": "code",
   "execution_count": null,
   "metadata": {},
   "outputs": [],
   "source": [
    "function function_to_be_integrated(x)\n",
    "    return exp(-2*x)\n",
    "end\n",
    "\n",
    "function numerical_integration(number_of_rectangles,\n",
    "     integration_start, \n",
    "     integration_end, \n",
    "     integration_function)\n",
    "\n",
    "    area_under_curve = 0\n",
    "    Δx = (integration_end-integration_start)/number_of_rectangles\n",
    "    for i in 0:number_of_rectangles\n",
    "        area_under_curve += integration_function(i*Δx)*Δx\n",
    "    end\n",
    "    return area_under_curve\n",
    "end\n",
    "\n",
    "n = 10000\n",
    "a = 0\n",
    "b = 1\n",
    "\n",
    "## you can pass a function as a parameter to be used in another function. \n",
    "area_under_curve = numerical_integration(n, a, b, function_to_be_integrated)\n",
    "\n",
    "analytical_area_under_curve = 0.43233 # calculated with wolfram alpha \n",
    "println(\"analytical: $(analytical_area_under_curve)\")\n",
    "println(\"numerical: $(area_under_curve)\")"
   ]
  },
  {
   "cell_type": "markdown",
   "metadata": {},
   "source": [
    "### Practice Exercise Numerical Integration \n",
    "\n",
    "Using similar steps as the numerical integration techniques above (Riemann Sum). Get the area under the curve for the normalized particle in a one-dimensional box wave function squared. Limits of integration are any a ≥ 0 to b ≤ L. L is the box length. Integrate with a given number of rectangles ( $n_{r}$ ). \n",
    "\n",
    "$$M_{n_{r}} = \\sum_{i=0}^{n_{r}} Ψ^{*}_n(x_i)Ψ_n(x_i) Δx $$\n",
    "\n",
    "$$ Δx = \\frac{b-a}{n_{r}} $$\n",
    "\n",
    "$$\\lim_{i \\to \\infty}  M_{n_{r}} = \\int_a^b Ψ^{*}_n(x)Ψ_n(x) \\: \\mathrm{d}x $$\n",
    "\n",
    "Complete this exercise in [module-2-exercise-3.jl](./module-2-exercise-2.jl)"
   ]
  },
  {
   "cell_type": "code",
   "execution_count": null,
   "metadata": {},
   "outputs": [],
   "source": [
    "# include(\"module-3-exercise-3-test-runner.jl\") #including the file runs the tests"
   ]
  },
  {
   "cell_type": "code",
   "execution_count": null,
   "metadata": {},
   "outputs": [],
   "source": []
  }
 ],
 "metadata": {
  "kernelspec": {
   "display_name": "Julia 1.6.1",
   "language": "julia",
   "name": "julia-1.6"
  },
  "language_info": {
   "file_extension": ".jl",
   "mimetype": "application/julia",
   "name": "julia",
   "version": "1.6.1"
  },
  "orig_nbformat": 4
 },
 "nbformat": 4,
 "nbformat_minor": 2
}
