{
 "cells": [
  {
   "cell_type": "markdown",
   "metadata": {},
   "source": [
    "# Matricies and Determinants"
   ]
  },
  {
   "cell_type": "markdown",
   "metadata": {},
   "source": [
    "## Matricies\n",
    "\n"
   ]
  },
  {
   "cell_type": "code",
   "execution_count": 14,
   "metadata": {},
   "outputs": [
    {
     "data": {
      "text/plain": [
       "3×3 Matrix{Int64}:\n",
       " 1  2  3\n",
       " 4  5  6\n",
       " 7  8  9"
      ]
     },
     "metadata": {},
     "output_type": "display_data"
    },
    {
     "data": {
      "text/plain": [
       "3×3 Matrix{String}:\n",
       " \"1,1\"  \"1,2\"  \"1,3\"\n",
       " \"2,1\"  \"2,2\"  \"2,3\"\n",
       " \"3,1\"  \"3,2\"  \"3,3\""
      ]
     },
     "metadata": {},
     "output_type": "display_data"
    },
    {
     "data": {
      "text/plain": [
       "\"1,3\""
      ]
     },
     "metadata": {},
     "output_type": "display_data"
    }
   ],
   "source": [
    "using LinearAlgebra\n",
    "\n",
    "a = [1 2 3; 4 5 6; 7 8 9]\n",
    "display(a)\n",
    "b = [\"1,1\" \"1,2\" \"1,3\"; \"2,1\" \"2,2\" \"2,3\"; \"3,1\" \"3,2\" \"3,3\" ]\n",
    "display(b)\n",
    "\n",
    "tr(a)\n",
    "row = 1 \n",
    "column = 3\n",
    "display(b[row,column])"
   ]
  },
  {
   "cell_type": "markdown",
   "metadata": {},
   "source": []
  },
  {
   "cell_type": "markdown",
   "metadata": {},
   "source": [
    "## Numerical Integration\n",
    "\n",
    "Another application of series are numerical techniques to calculate the area under a curve. One such technique using the midpoint rule divides the area under the curve between the integration limits a and b into n rectangles. The sum of the area of the rectangles is the approximation of the integral value. The larger n becomes, the closer to the exact integral. In the infinite limit, the values are the same. (This process is also called a [Riemann Sum](https://en.wikipedia.org/wiki/Riemann_sum))\n",
    "\n",
    "$$M_{n} = \\sum_{i=0}^{n} f(x_i) Δx $$\n",
    "\n",
    "$$ Δx = \\frac{b-a}{n} $$\n",
    "\n",
    "$$\\lim_{n \\to \\infty}  M_{n} = \\int_a^b f(x) \\: \\mathrm{d}x $$\n",
    "\n",
    "![Riemann Sum](https://upload.wikimedia.org/wikipedia/commons/thumb/2/2a/Riemann_sum_convergence.png/300px-Riemann_sum_convergence.png)\n",
    "\n",
    "(source: wikipedia.org)\n"
   ]
  },
  {
   "cell_type": "markdown",
   "metadata": {},
   "source": [
    "$$ \\int_0^1 \\exp^{-2x} dx = \\frac{1}{2} - \\frac{1}{2 e^{2}} ≈ 0.43233 $$\n"
   ]
  },
  {
   "cell_type": "code",
   "execution_count": null,
   "metadata": {},
   "outputs": [],
   "source": [
    "function function_to_be_integrated(x)\n",
    "    return exp(-2*x)\n",
    "end\n",
    "\n",
    "function numerical_integration(number_of_rectangles,\n",
    "     integration_start, \n",
    "     integration_end, \n",
    "     integration_function)\n",
    "\n",
    "    area_under_curve = 0\n",
    "    Δx = (integration_end-integration_start)/number_of_rectangles\n",
    "    for i in 0:number_of_rectangles\n",
    "        area_under_curve += integration_function(i*Δx)*Δx\n",
    "    end\n",
    "    return area_under_curve\n",
    "end\n",
    "\n",
    "n = 10000\n",
    "a = 0\n",
    "b = 1\n",
    "\n",
    "## you can pass a function as a parameter to be used in another function. \n",
    "area_under_curve = numerical_integration(n, a, b, function_to_be_integrated)\n",
    "\n",
    "analytical_area_under_curve = 0.43233 # calculated with wolfram alpha \n",
    "println(\"analytical: $(analytical_area_under_curve)\")\n",
    "println(\"numerical: $(area_under_curve)\")"
   ]
  },
  {
   "cell_type": "markdown",
   "metadata": {},
   "source": [
    "### Problem 3 - Numerical Integration \n",
    "\n",
    "Using similar steps as the numerical integration techniques above (Riemann Sum). Get the area under the curve for the normalized particle in a one-dimensional box wave function squared. Limits of integration are any a ≥ 0 to b ≤ L. L is the box length. Integrate with a given number of rectangles ( $n_{r}$ ). \n",
    "\n",
    "$$M_{n_{r}} = \\sum_{i=0}^{n_{r}} Ψ^{*}_n(x_i)Ψ_n(x_i) Δx $$\n",
    "\n",
    "$$ Δx = \\frac{b-a}{n_{r}} $$\n",
    "\n",
    "$$\\lim_{i \\to \\infty}  M_{n_{r}} = \\int_a^b Ψ^{*}_n(x)Ψ_n(x) \\: \\mathrm{d}x $$\n",
    "\n",
    "Complete this exercise in [module-2-exercise-3.jl](./module-2-exercise-2.jl)"
   ]
  },
  {
   "cell_type": "code",
   "execution_count": null,
   "metadata": {},
   "outputs": [],
   "source": [
    "# include(\"module-3-exercise-3-test-runner.jl\") #including the file runs the tests"
   ]
  },
  {
   "cell_type": "code",
   "execution_count": null,
   "metadata": {},
   "outputs": [],
   "source": []
  }
 ],
 "metadata": {
  "kernelspec": {
   "display_name": "Julia 1.6.1",
   "language": "julia",
   "name": "julia-1.6"
  },
  "language_info": {
   "file_extension": ".jl",
   "mimetype": "application/julia",
   "name": "julia",
   "version": "1.6.1"
  },
  "orig_nbformat": 4
 },
 "nbformat": 4,
 "nbformat_minor": 2
}
