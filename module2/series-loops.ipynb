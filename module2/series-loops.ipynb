{
 "cells": [
  {
   "cell_type": "markdown",
   "metadata": {},
   "source": [
    "# Loops, Arrays (Vectors), and Series"
   ]
  },
  {
   "cell_type": "markdown",
   "metadata": {},
   "source": [
    "## Loops\n",
    "\n",
    "A loop is a programming construct that allows the programmer to run the block of code multiple times without having to write the code multiple times. \n",
    "\n",
    "### For loop\n",
    "Example: "
   ]
  },
  {
   "cell_type": "code",
   "execution_count": null,
   "metadata": {},
   "outputs": [],
   "source": [
    "println(\"The copy paste way: (bad)\")\n",
    "\n",
    "println(\"hello world\")\n",
    "println(\"hello world\")\n",
    "println(\"hello world\")\n",
    "println(\"hello world\")\n",
    "println(\"hello world\")\n",
    "\n",
    "println(\"-----------\")\n",
    "println(\"The loop way:\")\n",
    "\n",
    "for i in 1:5\n",
    "    println(\"hello world\")\n",
    "end\n"
   ]
  },
  {
   "cell_type": "markdown",
   "metadata": {},
   "source": [
    "The syntax of a loop:\n",
    "``` julia\n",
    "for ## begins the loop\n",
    "    # block of code that will be run multiple times \n",
    "end # ends the loop\n",
    "```\n",
    "i : the \"index\" of the loop\n",
    "1:5 : a range of numbers from 1-5 inclusive (i.e 1,2,3,4,5) \n",
    "in : says to do the loop for each value in the following. The loop will assign the values 1,2,3,4,5 in order. \n",
    "\n",
    "Here is an example corresponding to the following summation. It will print the value at each iteration\n",
    "\n",
    "$\\sum_{i=1}^{10} i$\n",
    "\n",
    "(note) the operator += adds the value on the right side of the operator to the existing value in the value to the left; \n",
    "``` julia \n",
    "number = 1 \n",
    "number += 1 # now number equals 2\n",
    "\n",
    "```"
   ]
  },
  {
   "cell_type": "code",
   "execution_count": null,
   "metadata": {},
   "outputs": [],
   "source": [
    "summation_value = 0\n",
    "for i in 1:10\n",
    "    summation_value += i \n",
    "    println(\"value at i=$(i): $(summation_value)\")\n",
    "end\n",
    "println(\"final value: $(summation_value)\")\n"
   ]
  },
  {
   "cell_type": "markdown",
   "metadata": {},
   "source": [
    "### While loop\n",
    "You can accomplish the same concepts with a while loop. A while loop continues to run until the condition after the word while is false.\n",
    "\n"
   ]
  },
  {
   "cell_type": "code",
   "execution_count": null,
   "metadata": {},
   "outputs": [],
   "source": [
    "i = 0\n",
    "summation_value = 0\n",
    "\n",
    "while i <= 10\n",
    "    summation_value += i\n",
    "    i += 1 # make sure to do the incrementing of i as the last line of code in the loop or you will get the wrong result \n",
    "end\n",
    "println(\"final value: $(summation_value)\")\n"
   ]
  },
  {
   "cell_type": "markdown",
   "metadata": {},
   "source": [
    "### Print out even numbers \n",
    "Let's print out the first 5 even numbers \n",
    "#### A simple way of doing it if statement"
   ]
  },
  {
   "cell_type": "code",
   "execution_count": null,
   "metadata": {},
   "outputs": [],
   "source": [
    "for i in 1:10\n",
    "    if i % 2 == 0 # does i divided by 2 have a remainder equal to zero\n",
    "        println(\"$(i)\")\n",
    "    end    \n",
    "end"
   ]
  },
  {
   "cell_type": "markdown",
   "metadata": {},
   "source": [
    "### Print out even numbers in a smarter way (2*i)"
   ]
  },
  {
   "cell_type": "code",
   "execution_count": null,
   "metadata": {},
   "outputs": [],
   "source": [
    "for i in 1:5   \n",
    "    println(\"$(2*i)\")   \n",
    "end"
   ]
  },
  {
   "cell_type": "markdown",
   "metadata": {},
   "source": [
    "### Calling a function in a loop"
   ]
  },
  {
   "cell_type": "code",
   "execution_count": null,
   "metadata": {},
   "outputs": [],
   "source": [
    "function print_iteration_message(index, summation_value)\n",
    "    println(\"value at i=$(index): $(summation_value)\")\n",
    "end\n",
    "\n",
    "summation_value = 0\n",
    "for i in 1:10\n",
    "    summation_value += i \n",
    "    print_iteration_message(i, summation_value)\n",
    "end\n",
    "println(\"final value: $(summation_value)\")\n"
   ]
  },
  {
   "cell_type": "code",
   "execution_count": null,
   "metadata": {},
   "outputs": [],
   "source": []
  },
  {
   "cell_type": "markdown",
   "metadata": {},
   "source": [
    "## Arrays \n",
    "An array is similar to the mathematical construct of a vector (julia actually calls them vectors, other languages call them arrays and is more common, As such I am going to refer to them as arrays.). It is a list of values. A common use of vectors is to define a point in space (x,y,z). You can use the normal vector algebra you would expect. "
   ]
  },
  {
   "cell_type": "code",
   "execution_count": null,
   "metadata": {},
   "outputs": [],
   "source": [
    "point_int_space_origin = [0,0,0]\n",
    "display(point_int_space_origin) # display is a fancy print function with more information about the object you pass in\n",
    "\n",
    "second_point = point_int_space_origin + [1,1,2]\n",
    "display(second_point)"
   ]
  },
  {
   "cell_type": "markdown",
   "metadata": {},
   "source": [
    "You can do \"element-wise\" operations using .{operator here} (for multiplication this is called a Hadamard Product)\n",
    "\n"
   ]
  },
  {
   "cell_type": "code",
   "execution_count": null,
   "metadata": {},
   "outputs": [],
   "source": [
    "multiplied_point = [1,2,3] .* [2,2,2] \n",
    "display(multiplied_point)\n",
    "#which is the same as\n",
    "\n",
    "multiplied_point = 2*[1,2,3] \n",
    "display(multiplied_point)\n",
    "\n",
    "#but could be used to do \n",
    "multiplied_point = [1,2,3] .* [3,5,10] \n",
    "display(multiplied_point)"
   ]
  },
  {
   "cell_type": "markdown",
   "metadata": {},
   "source": [
    "Of course, we don't have to limit ourselves to loops with length 3. Julia provides some operations functions for getting attributes of the array. \n",
    "\n",
    "### Getting a value at a specific index \n",
    "To get a specific value use the [] operator after the name of the array variable\n"
   ]
  },
  {
   "cell_type": "code",
   "execution_count": null,
   "metadata": {},
   "outputs": [],
   "source": [
    "values = [10,20,30]\n",
    "### print the first value in the array of values\n",
    "println(values[1])\n",
    "\n",
    "longer_vector = [12.23,1,3,.12,5,6,7,-8.32]\n",
    "sum_of_first_two_terms = longer_vector[1] + longer_vector[2]\n",
    "println(sum_of_first_two_terms)\n"
   ]
  },
  {
   "cell_type": "markdown",
   "metadata": {},
   "source": [
    "#### Julia one based indexing vs zero based indexing\n",
    "**Note most other programming languages use zero based indexing**\n",
    "\n",
    "i.e. to get the first value in an array you use values[0]. It is intended to be less confusing, but if you are looking at algorithms online/in literature for how to implement something assume zero based indexing."
   ]
  },
  {
   "cell_type": "markdown",
   "metadata": {},
   "source": [
    "### Iterate over an array using a loop\n",
    "One powerful thing we can do with a loop is iterate over an array and perform an operation. As an example lets do the dot product of two vectors. "
   ]
  },
  {
   "cell_type": "code",
   "execution_count": null,
   "metadata": {},
   "outputs": [],
   "source": [
    "function dot_product(vector1, vector2)\n",
    "    @assert length(vector1) == length(vector2) # makes sure the vectors are the same size, if not throws an error\n",
    "    \n",
    "    dot_product_value = 0\n",
    "    for i in 1:length(vector1)\n",
    "        dot_product_value += vector1[i] * vector2[i]\n",
    "    end\n",
    "    return dot_product_value\n",
    "end\n",
    "\n",
    "vector_a = [1,2,3]\n",
    "vector_b = [4,5,6]\n",
    "\n",
    "value = dot_product(vector_a, vector_b)\n",
    "println(value)\n",
    "## we can compare this with the built in julia function for dot product \n"
   ]
  },
  {
   "cell_type": "code",
   "execution_count": null,
   "metadata": {},
   "outputs": [],
   "source": [
    "using LinearAlgebra # built in julia library providing linear algebra functions such as dot(): which computes the dot product\n",
    "\n",
    "vector_a = [1,2,3]\n",
    "vector_b = [4,5,6]\n",
    "julia_computed_value = dot(vector_a,vector_b)\n",
    "println(julia_computed_value)\n"
   ]
  },
  {
   "cell_type": "markdown",
   "metadata": {},
   "source": [
    "Just for fun lets do the dot product of a huge vector, i.e. something you'd never want to have to do by hand. A convenient way to make an \"empty\" array is to use the ```zeros(n)``` function, which gives you an array with the length you provide."
   ]
  },
  {
   "cell_type": "code",
   "execution_count": null,
   "metadata": {},
   "outputs": [],
   "source": [
    "using LinearAlgebra\n",
    "powers_of_2 = zeros(100) #array with length 100, all values = 0 \n",
    "powers_of_4 = zeros(100)\n",
    "\n",
    "for i in 1:100\n",
    "    powers_of_2[i] = 2^i\n",
    "    powers_of_4[i] = 4^i\n",
    "end\n",
    "\n",
    "dot_product_value = dot(powers_of_2, powers_of_4)\n",
    "print(dot_product_value) # ya that is a big number"
   ]
  },
  {
   "cell_type": "markdown",
   "metadata": {},
   "source": [
    "#### Note on what we just did above\n",
    "Most of the examples above were just that, examples. We were \"re-inventing the wheel\" because it was useful for us to learn looping and how it relates to math. You would not want to implement your own dot product function, or summation function. This type of functionality is provided for you by the Julia language. Here are a few examples. You can find more information at the [Linear Algebra Documentation Page.](https://docs.julialang.org/en/v1/stdlib/LinearAlgebra/#man-linalg), the [Math Documentation Page](https://docs.julialang.org/en/v1/base/math/), and [Statistics Documentation Page](https://docs.julialang.org/en/v1/stdlib/Statistics/)."
   ]
  },
  {
   "cell_type": "code",
   "execution_count": null,
   "metadata": {},
   "outputs": [],
   "source": [
    "using LinearAlgebra \n",
    "using Statistics # statistical functions\n",
    "our_vector = [1,2,3,4,5,6,7,8,9,10,15, 30]\n",
    "our_sum = sum(our_vector)\n",
    "our_average = mean(our_vector)\n",
    "our_median = median(our_vector)\n",
    "\n",
    "\n",
    "println(our_sum)\n",
    "println(our_average)\n",
    "println(our_median)\n"
   ]
  },
  {
   "cell_type": "markdown",
   "metadata": {},
   "source": [
    "## Convergence And Divergence of Series\n",
    "### how many terms until we reach sufficient convergence for the series expansions of certain functions \n",
    "\n",
    "#### $ e^x $\n",
    "$ e^x = \\sum_{n=0}^{\\infty} \\frac{x^n}{n!} = 1 + x + \\frac{x^2}{2!} +... $\n",
    "\n"
   ]
  },
  {
   "cell_type": "code",
   "execution_count": null,
   "metadata": {},
   "outputs": [],
   "source": [
    "# big(number) is a function that creates a \n",
    "# number that julia can handle more reasoly if the number is very large\n",
    "\n",
    "function calculate_exp_series_term(i)\n",
    "    return (x^i)/factorial(big(i)) \n",
    "end\n",
    "\n",
    "function calculate_series_exponential(x)\n",
    "    series_expansion_value = 0 \n",
    "    i = 0 #iteration index \n",
    "    exp_exact = exp(x)\n",
    "\n",
    "    # loop until the difference between exact value and series expansion value\n",
    "    # stop at 10000 iterations \n",
    "    while abs(exp_exact - series_expansion_value) > 10^-7 && i < 10000\n",
    "        series_term_i = calculate_exp_series_term(i)\n",
    "        series_expansion_value += series_term_i\n",
    "        i+= 1\n",
    "    end\n",
    "    println(\"number of iterations $(i)\")\n",
    "    return series_expansion_value\n",
    "end\n",
    "\n",
    "x = 5\n",
    "exp_exact = exp(x)\n",
    "exp_exact = round(exp_exact; digits=10) #don't worry too much about how this rounding works\n",
    "println(\"$(exp_exact) exp_exact\")\n",
    "series_expansion_value = calculate_series_exponential(x)\n",
    "#round off some extra values\n",
    "rounded_value = Float64(round(series_expansion_value; digits=10)) #don't worry too much about how this rounding works\n",
    "println(\"$(rounded_value) series_expansion_value\")\n"
   ]
  },
  {
   "cell_type": "markdown",
   "metadata": {},
   "source": [
    "#### cos(x) and sin(x)\n",
    "$ cos(x) = \\sum_{n=0}^{\\infty} (-1)^{n}\\frac{x^{2n}}{(2n)!} = 1 - x + \\frac{x^2}{2!} -... $\n",
    "\n",
    "$ sin(x) = \\sum_{n=0}^{\\infty} (-1)^{n}\\frac{x^{2n+1}}{(2n+1)!} = x -\\frac{x^3}{3!} + \\frac{x^5}{5!} -... $\n",
    "\n",
    "\n"
   ]
  },
  {
   "cell_type": "code",
   "execution_count": 19,
   "metadata": {},
   "outputs": [
    {
     "name": "stdout",
     "output_type": "stream",
     "text": [
      "1.0 cos_exact\n"
     ]
    },
    {
     "name": "stdout",
     "output_type": "stream",
     "text": [
      "number of iterations 1\n",
      "1.0 series_expansion_value\n"
     ]
    }
   ],
   "source": [
    "function calculate_cos_series_term(i, x)\n",
    "    return (-1)^i*(x^(2*i))/factorial(big(2*i)) \n",
    "end\n",
    "\n",
    "function calculate_series_cos(x)\n",
    "    series_expansion_value = 0 \n",
    "    i = 0 #iteration index \n",
    "    exact = cos(x)\n",
    "    # loop until the difference between exact value and series expansion value\n",
    "    # stop at 10000 iterations \n",
    "    while abs(exact - series_expansion_value) > 10^-7 && i < 10000\n",
    "        series_term_i = calculate_cos_series_term(i, x)\n",
    "        series_expansion_value += series_term_i\n",
    "        i+= 1\n",
    "    end\n",
    "    println(\"number of iterations $(i)\")\n",
    "    return series_expansion_value\n",
    "end\n",
    "\n",
    "x = 2*3.14159\n",
    "cos_exact = cos(x)\n",
    "cos_exact = round(cos_exact; digits=10) #don't worry too much about how this rounding works\n",
    "println(\"$(cos_exact) cos_exact\")\n",
    "series_expansion_value = calculate_series_cos(x)\n",
    "#round off some extra values\n",
    "rounded_value = Float64(round(series_expansion_value; digits=10)) #don't worry too much about how this rounding works\n",
    "println(\"$(rounded_value) series_expansion_value\")\n"
   ]
  },
  {
   "cell_type": "markdown",
   "metadata": {},
   "source": [
    "Notice how the calculate_series_cos and calculate_series_exponential were essentially identical. They only thing that is different is the function that calculates the ith series term. \n",
    "\n",
    "\n",
    "You will do sin(x) as a exercise problem. "
   ]
  },
  {
   "cell_type": "markdown",
   "metadata": {},
   "source": [
    "## Numerical Integration\n",
    "\n",
    "Another application of series are numerical techniques to calculate the area under a curve. One such technique using the midpoint rule divides the area under the curve between the integration limits a and b into n rectangles. The sum of the area of the rectangles is the approximation of the integral value. The larger n becomes, the closer to the exact integral. In the infinite limit, the values are the same. (This process is also called a Riemann sum)\n",
    "\n",
    "$$M_{n} = \\sum_{i=0}^{n} f(x_i) Δx $$\n",
    "\n",
    "$$ Δx = \\frac{b-a}{n} $$\n",
    "\n",
    "$$\\lim_{n \\to \\infty}  M_{n} = \\int_a^b f(x) \\: \\mathrm{d}x $$\n",
    "\n",
    "![Riemann Sum](https://upload.wikimedia.org/wikipedia/commons/thumb/2/2a/Riemann_sum_convergence.png/300px-Riemann_sum_convergence.png)\n",
    "\n",
    "(source: wikipedia.org)\n"
   ]
  },
  {
   "cell_type": "markdown",
   "metadata": {},
   "source": [
    "$$ \\int_0^1 \\exp^{-2x} dx = \\frac{1}{2} - \\frac{1}{2 e^{2}} ≈ 0.43233 $$\n"
   ]
  },
  {
   "cell_type": "code",
   "execution_count": 24,
   "metadata": {},
   "outputs": [
    {
     "name": "stdout",
     "output_type": "stream",
     "text": [
      "analytical: 0.43233\n",
      "numerical: 0.4323891265869634\n"
     ]
    }
   ],
   "source": [
    "function function_to_be_integrated(x)\n",
    "    return exp(-2*x)\n",
    "end\n",
    "\n",
    "function numerical_integration(number_of_rectangles,\n",
    "     integration_start, \n",
    "     integration_end, \n",
    "     integration_function)\n",
    "\n",
    "    area_under_curve = 0\n",
    "    Δx = (integration_end-integration_start)/number_of_rectangles\n",
    "    for i in 0:number_of_rectangles\n",
    "        area_under_curve += integration_function(i*Δx)*Δx\n",
    "    end\n",
    "    return area_under_curve\n",
    "end\n",
    "\n",
    "n = 10000\n",
    "a = 0\n",
    "b = 1\n",
    "\n",
    "## you can pass a function as a parameter to be used in another function. \n",
    "area_under_curve = numerical_integration(n, a, b, function_to_be_integrated)\n",
    "\n",
    "analytical_area_under_curve = 0.43233 # calculated with wolfram alpha \n",
    "println(\"analytical: $(analytical_area_under_curve)\")\n",
    "println(\"numerical: $(area_under_curve)\")"
   ]
  },
  {
   "cell_type": "markdown",
   "metadata": {},
   "source": [
    "\n",
    "## Exercise\n",
    "\n",
    "**REMINDER!!!**\n",
    "\n",
    "When working in Binder/Jupyter book, your files and changes are not persisted unless you are consistently using it. (If it goes idle you may lose your work!) **Save your files to your computer early and often!!!** \n",
    "\n",
    "### Going forward \n",
    "\n",
    "Going forward all of the end of module exercises will be done in separate julia files(extension .jl). You can use the jupyter notebook to run them (this will be set up for you in the notebook). There will be two files of interest for the exercises: \n",
    "\n",
    "### Submitting\n",
    "Please submit your exercises julia files in a folder named **LastName_FirstName_Module_N_Exercise** and save it to a zip file. **Do not change the file names**\n",
    "\n",
    "### Exercise File\n",
    "There will be a file called m-module-e-exercise.jl (where n is the module number, m is the problem number). This file will have a scaffolding of functions that you will need to complete. \n",
    "\n",
    "Here is an example of how to use a julia file in jupyter notebook:"
   ]
  },
  {
   "cell_type": "code",
   "execution_count": null,
   "metadata": {},
   "outputs": [],
   "source": [
    "include(\"hello.jl\")\n",
    "hello_text = hello()\n",
    "println(hello_text)"
   ]
  },
  {
   "cell_type": "markdown",
   "metadata": {},
   "source": [
    "### Test Runner \n",
    "There will be a file called n-exercise-test-runner.jl for each module. This file runs test that will call the functions in your exercise file. **DO NOT MODIFY THIS FILE.** These test files will let you know if you have done the exercise correctly. \n",
    "\n",
    "Inside this file are tests called \"Unit Tests.\" These types of tests are very common in software engineering. In a good codebase, unit tests should be written to account for every scenario your code is expected to fulfil. \n",
    "\n",
    "An example of a unit test in julia: "
   ]
  },
  {
   "cell_type": "code",
   "execution_count": null,
   "metadata": {},
   "outputs": [],
   "source": [
    "using Test\n",
    "expected_value = 5\n",
    "our_value = sqrt(25)\n",
    "@test expected_value == our_value"
   ]
  },
  {
   "cell_type": "code",
   "execution_count": null,
   "metadata": {},
   "outputs": [],
   "source": [
    "using Test\n",
    "expected_value = 5\n",
    "wrong_value = 25 / 3\n",
    "@testset \"hello tests\" begin\n",
    "    @test our_value == wrong_value # a test that will fail\n",
    "end"
   ]
  },
  {
   "cell_type": "markdown",
   "metadata": {},
   "source": [
    "### Example Test Runner\n",
    "\n",
    "Here is how to use one, the tests will be grouped and named to help you figure out which pass and which fail: "
   ]
  },
  {
   "cell_type": "code",
   "execution_count": null,
   "metadata": {},
   "outputs": [],
   "source": [
    "include(\"hello-test-runner.jl\")\n",
    "run_tests_module_hello()"
   ]
  },
  {
   "cell_type": "markdown",
   "metadata": {},
   "source": [
    "### Problem 1 - Build an Array\n",
    "a) Write a function that takes in a number n (named number_of_values) as a parameter and returns an array containing the first n odd numbers. (Hint: Starting from 1 going to n)\n",
    "\n",
    "b) Write a function that takes in a number n (number_of_values) as a parameter and returns an array containing the first n powers of 3. (Hint: starting from 0 to n-1, remember 1 based indexing!)\n",
    "\n",
    "Implement these in the provided file: [module-2-exercise-1.jl](./module-2-exercise-1.jl)"
   ]
  },
  {
   "cell_type": "code",
   "execution_count": null,
   "metadata": {},
   "outputs": [],
   "source": [
    "# include(\"module-2-exercise-1.jl\")\n",
    "# odd_numbers = get_odd_numbers(7)\n",
    "# display(odd_numbers)\n"
   ]
  },
  {
   "cell_type": "code",
   "execution_count": null,
   "metadata": {},
   "outputs": [],
   "source": [
    "# include(\"module-2-exercise-1.jl\")\n",
    "# powers_of_there = get_powers_of_three(4)\n",
    "# display(powers_of_there)"
   ]
  },
  {
   "cell_type": "markdown",
   "metadata": {},
   "source": [
    "You can run the code below to run the unit tests against your implementation of the exercises. It will give you error messages if something is wrong, and will print out the tests as successful if it succeeds."
   ]
  },
  {
   "cell_type": "code",
   "execution_count": null,
   "metadata": {},
   "outputs": [],
   "source": [
    "# include(\"module-2-exercise-1a-test-runner.jl\") #including the file runs the tests\n"
   ]
  },
  {
   "cell_type": "code",
   "execution_count": null,
   "metadata": {},
   "outputs": [],
   "source": [
    "# include(\"module-2-exercise-1b-test-runner.jl\") #including the file runs the tests"
   ]
  },
  {
   "cell_type": "markdown",
   "metadata": {},
   "source": [
    "### Problem 2 - Implement sin(x) as a series expansion \n",
    "Using similar functions to the cos(x) example above, implement a series expansion of sin(x). Complete this exercise in [module-2-exercise-2.jl](./module-2-exercise-2.jl)"
   ]
  },
  {
   "cell_type": "code",
   "execution_count": 21,
   "metadata": {},
   "outputs": [
    {
     "name": "stdout",
     "output_type": "stream",
     "text": [
      "\u001b[37m\u001b[1mTest Summary: | \u001b[22m\u001b[39m\u001b[32m\u001b[1mPass  \u001b[22m\u001b[39m\u001b[36m\u001b[1mTotal\u001b[22m\u001b[39m\n",
      "sin tests     | \u001b[32m   4  \u001b[39m\u001b[36m    4\u001b[39m\n"
     ]
    },
    {
     "data": {
      "text/plain": [
       "Test.DefaultTestSet(\"sin tests\", Any[], 4, false, false)"
      ]
     },
     "metadata": {},
     "output_type": "display_data"
    }
   ],
   "source": [
    "# include(\"module-2-exercise-2-test-runner.jl\") #including the file runs the tests"
   ]
  },
  {
   "cell_type": "markdown",
   "metadata": {},
   "source": [
    "### Problem 3 - Numerical Integration \n",
    "\n",
    "Using similar steps as the numerical integration techniques above (Riemann Sum). Get the area under the curve for the normalized particle in a one-dimensional box wave function squared. Limits of integration are any a ≥ 0 to b ≤ L. L is the box length. Integrate with a given number of rectangles ( $n_{r}$ ). \n",
    "\n",
    "$$M_{n_{r}} = \\sum_{i=0}^{n_{r}} Ψ^{*}_n(x_i)Ψ_n(x_i) Δx $$\n",
    "\n",
    "$$ Δx = \\frac{b-a}{n_{r}} $$\n",
    "\n",
    "$$\\lim_{i \\to \\infty}  M_{n_{r}} = \\int_a^b Ψ^{*}_n(x)Ψ_n(x) \\: \\mathrm{d}x $$\n",
    "\n",
    "Complete this exercise in [module-2-exercise-3.jl](./module-2-exercise-2.jl)"
   ]
  },
  {
   "cell_type": "code",
   "execution_count": null,
   "metadata": {},
   "outputs": [],
   "source": [
    "# include(\"module-2-exercise-3-test-runner.jl\") #including the file runs the tests"
   ]
  },
  {
   "cell_type": "markdown",
   "metadata": {},
   "source": [
    "## Some other thoughts before you go:"
   ]
  },
  {
   "cell_type": "markdown",
   "metadata": {},
   "source": [
    "### Complex Numbers in Julia\n",
    "By the way, I forgot to mention this in the last module, but Julia natively can handle complex numbers; \n",
    "\n",
    "See [Documentation](https://docs.julialang.org/en/v1/manual/complex-and-rational-numbers/#Complex-Numbers) for more information and operations availible with complex numbers"
   ]
  },
  {
   "cell_type": "code",
   "execution_count": null,
   "metadata": {},
   "outputs": [],
   "source": [
    "complex_1 = (1 + 2im)\n",
    "print(\"A complex number: \")\n",
    "println(complex_1)\n",
    "\n",
    "print(\"A complex number addition operation: \")\n",
    "complex_3 = complex_1 + (1 + 2im)\n",
    "println(complex_3 )\n",
    "\n",
    "print(\"real part of complex 1: \")\n",
    "println(real(complex_1))"
   ]
  },
  {
   "cell_type": "markdown",
   "metadata": {},
   "source": [
    "## VSCode IDE\n",
    "### virtues of using an ide\n",
    "### download links and installation instructions "
   ]
  }
 ],
 "metadata": {
  "kernelspec": {
   "display_name": "Julia 1.6.3",
   "language": "julia",
   "name": "julia-1.6"
  },
  "language_info": {
   "file_extension": ".jl",
   "mimetype": "application/julia",
   "name": "julia",
   "version": "1.6.3"
  },
  "orig_nbformat": 4
 },
 "nbformat": 4,
 "nbformat_minor": 2
}
