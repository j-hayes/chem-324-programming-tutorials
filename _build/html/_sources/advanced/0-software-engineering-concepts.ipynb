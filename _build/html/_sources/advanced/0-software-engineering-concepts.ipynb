{
 "cells": [
  {
   "cell_type": "markdown",
   "metadata": {},
   "source": [
    "# Software Engineering Concepts\n",
    "This page will have discussions on more advanced topics for those interested in diving deeper. \n",
    "\n",
    "\n",
    "## Code documentation \n",
    "### Self documenting code\n",
    "### Use of comments"
   ]
  },
  {
   "cell_type": "code",
   "execution_count": null,
   "metadata": {},
   "outputs": [],
   "source": []
  }
 ],
 "metadata": {
  "language_info": {
   "name": "python"
  },
  "orig_nbformat": 4
 },
 "nbformat": 4,
 "nbformat_minor": 2
}
