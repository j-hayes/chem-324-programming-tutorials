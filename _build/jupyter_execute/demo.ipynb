{
 "cells": [
  {
   "cell_type": "markdown",
   "metadata": {},
   "source": [
    "**NOTE**: This is a Julia demo for Binder, it's been adapted from the Julia demo on the nbconvert website.\n",
    "\n",
    "Binder is an open-source project and Julia support is early in development. If you'd like to improve Julia support in Binder, see our issue on adding Julia support here: https://github.com/jupyter/repo2docker/issues/23. We'd love to hear from you!"
   ]
  },
  {
   "cell_type": "markdown",
   "metadata": {},
   "source": [
    "# An IJulia Demo"
   ]
  },
  {
   "cell_type": "markdown",
   "metadata": {},
   "source": [
    "This notebook uses **IJulia**: a [Julia-language](http://julialang.org/) backend combined with the [IPython](http://ipython.org/) interactive environment.   This combination allows you to interact with the Julia language using IPython's powerful [graphical notebook](http://ipython.org/notebook.html), which combines code, formatted text, math, and multimedia in a single document."
   ]
  },
  {
   "cell_type": "markdown",
   "metadata": {},
   "source": [
    "## Basic Julia interaction"
   ]
  },
  {
   "cell_type": "markdown",
   "metadata": {},
   "source": [
    "Basic mathematical expressions work like you expect:"
   ]
  },
  {
   "cell_type": "code",
   "execution_count": 1,
   "metadata": {
    "collapsed": true
   },
   "outputs": [
    {
     "data": {
      "text/plain": [
       "1.1411200080598671"
      ]
     },
     "execution_count": 1,
     "metadata": {},
     "output_type": "execute_result"
    }
   ],
   "source": [
    "1 + sin(3)"
   ]
  },
  {
   "cell_type": "markdown",
   "metadata": {},
   "source": [
    "You can define variables, write loops, and execute arbitrary multiline code blocks.  Here is an example of an alternating harmonic series $\\sum_{n=1}^\\infty \\frac{(-1)^n}{n}$ from a [Julia tutorial by Homer Reid](http://homerreid.ath.cx/teaching/18.330/JuliaProgramming.shtml#SimplePrograms):"
   ]
  },
  {
   "cell_type": "code",
   "execution_count": 2,
   "metadata": {
    "collapsed": true
   },
   "outputs": [
    {
     "data": {
      "text/plain": [
       "0.6930971830599458"
      ]
     },
     "execution_count": 2,
     "metadata": {},
     "output_type": "execute_result"
    }
   ],
   "source": [
    "s = 0.0\n",
    "for n = 1:2:10000\n",
    "    s += 1/n - 1/(n+1)\n",
    "end\n",
    "s # an expression on the last line (if it doesn't end with \";\") is printed as \"Out\""
   ]
  },
  {
   "cell_type": "markdown",
   "metadata": {},
   "source": [
    "Previous outputs can be referred to via `Out[`*n*`]`, following the IPython, for example `Out[2]` for the result above.  You can also use the shorthand `_2`, or `_` for the previous result, as in IPython.  Like in Matlab, `ans` can also be used to refer to the previous result, *even if it was not printed* (when the command ended with `;`).\n",
    "\n",
    "For example, the harmonic series above should be converging (slowly) to $\\ln 2$, and we can check this:"
   ]
  },
  {
   "cell_type": "code",
   "execution_count": 3,
   "metadata": {
    "collapsed": true
   },
   "outputs": [
    {
     "data": {
      "text/plain": [
       "-4.9997499999454575e-5"
      ]
     },
     "execution_count": 3,
     "metadata": {},
     "output_type": "execute_result"
    }
   ],
   "source": [
    "Out[2] - log(2)"
   ]
  },
  {
   "cell_type": "markdown",
   "metadata": {},
   "source": [
    "Like Matlab or Scipy + Numpy, Julia has lots of mathematical functions and linear algebra built in.  For example, we can define a $500\\times500$ random matrix $R$ and form the positive-definite matrix $R^* R$:"
   ]
  },
  {
   "cell_type": "code",
   "execution_count": 4,
   "metadata": {
    "collapsed": true
   },
   "outputs": [
    {
     "data": {
      "text/plain": [
       "500×500 Matrix{Float64}:\n",
       " 159.321  119.096  125.809  119.44   …  116.299  112.048  117.386  125.247\n",
       " 119.096  164.07   131.457  120.328     119.273  115.089  119.536  128.35\n",
       " 125.809  131.457  174.423  131.492     129.098  122.37   124.978  130.889\n",
       " 119.44   120.328  131.492  173.006     125.494  119.671  122.307  129.75\n",
       " 122.11   120.754  128.367  127.28      119.276  114.847  120.632  123.719\n",
       " 119.865  122.381  129.643  125.988  …  122.997  118.326  124.985  131.685\n",
       " 120.935  120.552  128.811  129.747     120.43   119.337  122.357  127.619\n",
       " 122.194  123.14   127.616  123.138     120.378  118.204  118.761  127.393\n",
       " 117.19   116.679  125.864  117.769     115.333  111.998  114.307  121.104\n",
       " 119.079  121.193  129.53   126.936     123.203  116.139  115.939  128.431\n",
       " 123.071  126.35   133.529  125.883  …  124.116  119.417  120.128  129.506\n",
       " 122.723  124.686  131.876  128.373     123.29   118.789  122.005  130.673\n",
       " 117.726  123.846  130.171  129.253     124.048  119.766  120.997  130.032\n",
       "   ⋮                                 ⋱                             \n",
       " 122.599  124.925  128.648  127.221     123.784  114.909  119.493  127.397\n",
       " 123.603  126.905  132.63   126.764     127.002  123.175  124.734  132.137\n",
       " 117.804  119.372  124.464  121.445  …  116.398  110.697  115.528  122.953\n",
       " 120.533  123.274  132.72   132.095     121.788  114.739  124.531  127.777\n",
       " 121.261  116.785  127.387  124.257     120.363  115.658  121.403  125.446\n",
       " 122.661  120.204  129.639  127.769     125.506  116.467  120.551  131.138\n",
       " 129.097  128.064  133.772  132.334     126.336  124.216  130.014  132.139\n",
       " 122.278  123.402  132.139  121.461  …  123.017  113.267  119.75   125.512\n",
       " 116.299  119.273  129.098  125.494     162.091  118.272  118.356  123.331\n",
       " 112.048  115.089  122.37   119.671     118.272  153.659  114.735  123.914\n",
       " 117.386  119.536  124.978  122.307     118.356  114.735  162.178  124.483\n",
       " 125.247  128.35   130.889  129.75      123.331  123.914  124.483  170.825"
      ]
     },
     "execution_count": 4,
     "metadata": {},
     "output_type": "execute_result"
    }
   ],
   "source": [
    "R = rand(500,500)\n",
    "R' * R"
   ]
  },
  {
   "cell_type": "markdown",
   "metadata": {},
   "source": [
    "(Notice that, by default, only a portion of a large matrix is shown.  You didn't really want to read $500^2 = 250,000$ numbers, did you?)\n",
    "\n",
    "Standard output from Julia is also captured and sent to the IJulia notebook as you'd expect:"
   ]
  },
  {
   "cell_type": "code",
   "execution_count": 5,
   "metadata": {
    "collapsed": true
   },
   "outputs": [
    {
     "name": "stdout",
     "output_type": "stream",
     "text": [
      "Hello world!\n",
      "\n"
     ]
    },
    {
     "name": "stderr",
     "output_type": "stream",
     "text": [
      "Börk börk börk, some unicode output on stderr...\n",
      "\n"
     ]
    }
   ],
   "source": [
    "println(\"Hello world!\\n\")\n",
    "println(stderr, \"Börk börk börk, some unicode output on stderr...\\n\")"
   ]
  },
  {
   "cell_type": "markdown",
   "metadata": {},
   "source": [
    "IJulia even captures output from external C libraries (and notice how easy it is using Julia's `ccall` intrinsic):"
   ]
  },
  {
   "cell_type": "code",
   "execution_count": 6,
   "metadata": {
    "collapsed": true
   },
   "outputs": [
    {
     "name": "stdout",
     "output_type": "stream",
     "text": [
      "Hello from C!!\n"
     ]
    }
   ],
   "source": [
    "ccall(:printf, Cint, (Ptr{UInt8},), \"Hello from C!!\\n\");"
   ]
  },
  {
   "cell_type": "markdown",
   "metadata": {},
   "source": [
    "We can define functions, of course, and use them in later input cells:"
   ]
  },
  {
   "cell_type": "code",
   "execution_count": 7,
   "metadata": {
    "collapsed": true
   },
   "outputs": [
    {
     "data": {
      "text/plain": [
       "f (generic function with 1 method)"
      ]
     },
     "execution_count": 7,
     "metadata": {},
     "output_type": "execute_result"
    }
   ],
   "source": [
    "f(x) = x .+ 1"
   ]
  },
  {
   "cell_type": "code",
   "execution_count": 8,
   "metadata": {
    "collapsed": true
   },
   "outputs": [
    {
     "name": "stdout",
     "output_type": "stream",
     "text": [
      "4\n"
     ]
    },
    {
     "data": {
      "text/plain": [
       "6-element Vector{Int64}:\n",
       " 2\n",
       " 2\n",
       " 3\n",
       " 4\n",
       " 6\n",
       " 9"
      ]
     },
     "execution_count": 8,
     "metadata": {},
     "output_type": "execute_result"
    }
   ],
   "source": [
    "println(f(3))\n",
    "f([1,1,2,3,5,8])"
   ]
  },
  {
   "cell_type": "markdown",
   "metadata": {},
   "source": [
    "Notice that the input above both printed an scalar to `STDOUT` and also returned a vector, the latter using Julia's ability to write polymorphic functions and built-in array operations.\n",
    "\n",
    "On the other hand adding a string to a number is not defined (there is no `+` method defined for those types, although we could easily add one), and attempting to do so will throw an exception:"
   ]
  },
  {
   "cell_type": "code",
   "execution_count": 9,
   "metadata": {
    "collapsed": true
   },
   "outputs": [
    {
     "ename": "LoadError",
     "evalue": "MethodError: no method matching +(::String, ::Int64)\n\u001b[0mClosest candidates are:\n\u001b[0m  +(::Any, ::Any, \u001b[91m::Any\u001b[39m, \u001b[91m::Any...\u001b[39m) at operators.jl:560\n\u001b[0m  +(\u001b[91m::T\u001b[39m, ::T) where T<:Union{Int128, Int16, Int32, Int64, Int8, UInt128, UInt16, UInt32, UInt64, UInt8} at int.jl:87\n\u001b[0m  +(\u001b[91m::LinearAlgebra.UniformScaling\u001b[39m, ::Number) at /buildworker/worker/package_linux64/build/usr/share/julia/stdlib/v1.6/LinearAlgebra/src/uniformscaling.jl:145\n\u001b[0m  ...",
     "output_type": "error",
     "traceback": [
      "MethodError: no method matching +(::String, ::Int64)\n\u001b[0mClosest candidates are:\n\u001b[0m  +(::Any, ::Any, \u001b[91m::Any\u001b[39m, \u001b[91m::Any...\u001b[39m) at operators.jl:560\n\u001b[0m  +(\u001b[91m::T\u001b[39m, ::T) where T<:Union{Int128, Int16, Int32, Int64, Int8, UInt128, UInt16, UInt32, UInt64, UInt8} at int.jl:87\n\u001b[0m  +(\u001b[91m::LinearAlgebra.UniformScaling\u001b[39m, ::Number) at /buildworker/worker/package_linux64/build/usr/share/julia/stdlib/v1.6/LinearAlgebra/src/uniformscaling.jl:145\n\u001b[0m  ...",
      "",
      "Stacktrace:",
      " [1] _broadcast_getindex_evalf",
      "   @ ./broadcast.jl:648 [inlined]",
      " [2] _broadcast_getindex",
      "   @ ./broadcast.jl:621 [inlined]",
      " [3] getindex",
      "   @ ./broadcast.jl:575 [inlined]",
      " [4] copy",
      "   @ ./broadcast.jl:898 [inlined]",
      " [5] materialize",
      "   @ ./broadcast.jl:883 [inlined]",
      " [6] f(x::String)",
      "   @ Main ./In[7]:1",
      " [7] top-level scope",
      "   @ In[9]:1",
      " [8] eval",
      "   @ ./boot.jl:360 [inlined]",
      " [9] include_string(mapexpr::typeof(REPL.softscope), mod::Module, code::String, filename::String)",
      "   @ Base ./loading.jl:1116"
     ]
    }
   ],
   "source": [
    "f(\"Hello?\")"
   ]
  },
  {
   "cell_type": "markdown",
   "metadata": {},
   "source": [
    "# Interactive Plotting in IJulia\n",
    "\n",
    "Below we'll show off some plotting using the excellent Gadfly package. The plots are heavily inspired by [this blog post](http://int8.io/basic-visualization-in-julia-gadfly/)."
   ]
  },
  {
   "cell_type": "code",
   "execution_count": null,
   "metadata": {
    "collapsed": true
   },
   "outputs": [],
   "source": [
    "using RDatasets\n",
    "sleep = dataset(\"lme4\",\"sleepstudy\")"
   ]
  },
  {
   "cell_type": "code",
   "execution_count": null,
   "metadata": {
    "collapsed": true
   },
   "outputs": [],
   "source": [
    "using Gadfly\n",
    "plot(sleep, x = \"Days\", y = \"Reaction\", Geom.point)"
   ]
  },
  {
   "cell_type": "code",
   "execution_count": null,
   "metadata": {
    "collapsed": true
   },
   "outputs": [],
   "source": [
    "plot(sleep, x = \"Reaction\", Geom.density, color = \"Subject\", Scale.x_continuous(minvalue= 0, maxvalue= 500))"
   ]
  },
  {
   "cell_type": "code",
   "execution_count": null,
   "metadata": {
    "collapsed": true
   },
   "outputs": [],
   "source": [
    "plot(x = sleep[!, :Reaction], Geom.histogram(bincount = 30), Scale.x_continuous(minvalue = 200), color = sleep[!, :Days])"
   ]
  },
  {
   "cell_type": "markdown",
   "metadata": {},
   "source": [
    "## Multimedia display in IJulia"
   ]
  },
  {
   "cell_type": "markdown",
   "metadata": {},
   "source": [
    "Like most programming languages, Julia has a built-in `print(x)` function for outputting an object `x` as text, and you can override the resulting text representation of a user-defined type by overloading Julia's `show` function.  The next version of Julia, however, will extend this to a more general mechanism to display **arbitrary multimedia representations** of objects, as defined by standard [MIME types](https://en.wikipedia.org/wiki/Internet_media_type).   More specifically, the Julia [multimedia I/O API](http://docs.julialang.org/en/latest/stdlib/base/#multimedia-i-o) provides:\n",
    "\n",
    "* A `display(x)` function requests the richest available multimedia display of a Julia object x (with a `text/plain` fallback).\n",
    "* Overloading `writemime` allows one to indicate arbitrary multimedia representations (keyed by standard MIME types) of user-defined types.\n",
    "* Multimedia-capable display backends may be registered by subclassing a generic `Display` type.  IJulia provides one such backend which, thanks to the IPython notebook, is capable of displaying HTML, LaTeX, SVG, PNG, and JPEG media formats.\n",
    "\n",
    "The last two points are critical, because they separate **multimedia export** (which is defined by functions associated with the originating Julia data) from **multimedia display** (defined by backends which know nothing about the source of the data).\n",
    "\n",
    "Precisely these mechanism were used to create the inline PyPlot plots above.   To start with, the simplest thing is to provide the MIME type of the data when you call `display`, which allows you to pass \"raw\" data in the corresponding format:"
   ]
  },
  {
   "cell_type": "code",
   "execution_count": null,
   "metadata": {
    "collapsed": true
   },
   "outputs": [],
   "source": [
    "display(\"text/html\", \"\"\"Hello <b>world</b> in <font color=\"red\">HTML</font>!\"\"\")"
   ]
  },
  {
   "cell_type": "markdown",
   "metadata": {},
   "source": [
    "However, it will be more common to attach this information to types, so that they display correctly automatically.  For example, let's define a simple `HTML` type in Julia that contains a string and automatically displays as HTML (given an HTML-capable backend such as IJulia):"
   ]
  },
  {
   "cell_type": "code",
   "execution_count": null,
   "metadata": {
    "collapsed": true
   },
   "outputs": [],
   "source": [
    "mutable struct HTML\n",
    "   s::String\n",
    "end\n",
    "\n",
    "Base.show(io::IO, ::MIME\"text/html\", x::HTML) = print(io, x.s)"
   ]
  },
  {
   "cell_type": "markdown",
   "metadata": {},
   "source": [
    "Here, `Base.show` is just a function that writes `x` in the corresponding format (`text/html`) to the I/O stream `io`.\n",
    "\n",
    "This `show` definition is all that we need to make any object of type `HTML` display automatically as HTML text in IJulia:"
   ]
  },
  {
   "cell_type": "code",
   "execution_count": null,
   "metadata": {
    "collapsed": true
   },
   "outputs": [],
   "source": [
    "x = HTML(\"<ul> <li> Hello from a bulleted list! </ul>\")"
   ]
  },
  {
   "cell_type": "code",
   "execution_count": null,
   "metadata": {
    "collapsed": true
   },
   "outputs": [],
   "source": [
    "display(x)\n",
    "println(x)"
   ]
  }
 ],
 "metadata": {
  "kernelspec": {
   "display_name": "Julia 1.6.3",
   "language": "julia",
   "name": "julia-1.6"
  },
  "language_info": {
   "file_extension": ".jl",
   "mimetype": "application/julia",
   "name": "julia",
   "version": "1.6.3"
  }
 },
 "nbformat": 4,
 "nbformat_minor": 2
}