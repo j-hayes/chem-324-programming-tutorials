{
 "cells": [
  {
   "cell_type": "markdown",
   "metadata": {},
   "source": [
    "# Software Engineering Concepts\n",
    "This page will have discussions on more advanced topics for those interested in diving deeper. \n",
    "\n",
    "\n",
    "\n",
    "## Coding Style and Documentation \n",
    "### Self documenting code\n",
    "**Using Type Declarations**\n",
    "when to specify, vs when to use \"generic\" / over-loadable \n",
    "\n",
    "### Use of comments"
   ]
  },
  {
   "cell_type": "code",
   "execution_count": null,
   "metadata": {},
   "outputs": [],
   "source": []
  }
 ],
 "metadata": {
  "kernelspec": {
   "display_name": "Julia 1.6.3",
   "language": "julia",
   "name": "julia-1.6"
  },
  "language_info": {
   "file_extension": ".jl",
   "mimetype": "application/julia",
   "name": "julia",
   "version": "1.6.3"
  }
 },
 "nbformat": 4,
 "nbformat_minor": 2
}