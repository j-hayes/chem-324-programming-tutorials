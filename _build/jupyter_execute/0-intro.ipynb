{
 "cells": [
  {
   "cell_type": "markdown",
   "metadata": {},
   "source": [
    "# Introduction and Overview\n",
    "\n",
    "## Meta Thoughts: \n",
    "\n",
    "### What are these pages and how do they work. \n",
    "\n",
    "These pages are called Jupyter notebooks. They allow one to run snippets of code in a web environment without any setup, downloads, or configuration. This dramatically reduces the learning curve for getting up and running on the first day. Just click the button up at the <i class=\"fas fa-rocket\"></i> button at the top and click the \"Binder\" link. It will open up an environment where you can run the code in these snippets as well as make edits and run your own code. More on this will be explained as we go along. \n",
    "\n",
    "### What we are and are not going to do in these tutorials:\n",
    "**We will** \n",
    "- learn how to think about problems like a programmer \n",
    "- learn how to learn like a programmer \n",
    "- learn to write programs \n",
    "- learn about the fundamentals of writing \"good\" code, good programming habits, and the principles of software-engineering.\n",
    "- learn how to do basic troubleshooting / debugging \n",
    "\n",
    "\n",
    "**We won't**\n",
    "- talk about how computers work unless absolutely necessary \n",
    "- \"master\" the skill of programming\n",
    "\n",
    "\n",
    "\n",
    "## Computational thinking: [1](https://ctpdonline.org/computational-thinking/)\n",
    "You may or may not know it, but you have been taught some concepts about how to think like a programmer all your life. The first step to writing code is to understand what is is you are going to do, that is what are you going to \"compute.\" Like science and engineering problems, first the ideas must be understood, then described in equations. Only then can the \"answers\" be acquired. \n",
    "\n",
    "Using computational thinking one has the tools required to synthesize problems and arrive at their solutions. \n",
    "\n",
    "### Decomposition\n",
    "\n",
    "breaking down a complex problem or system into smaller, more manageable parts\n",
    "- \"Don't solve the whole problem at once.\"\n",
    "\n",
    "### Pattern recognition\n",
    "\n",
    "looking for similarities among and within problems\n",
    "- \"Have I done something similar before?\"\n",
    "- \"Don't reinvent the wheel\"\n",
    "\n",
    "### Abstraction\n",
    "\n",
    "focusing on the important information only, ignoring irrelevant detail\n",
    "- \"Synthesize the real world concept into the necessary infromation for solving the problem\"\n",
    "- \"Model the real system, concept, etc. with data and procedures\" \n",
    "\n",
    "### Algorithms\n",
    "\n",
    "developing a step-by-step solution to the problem, or the rules to follow to solve the problem\n",
    "- examples in day to day life\n",
    "  - Cooking Recipes\n",
    "  - Directions from your house to the grocery store\n",
    "  - Sorting Papers in alphabetical order\n",
    "  - Performing mathematical operations using PEMDAS.\n",
    "\n",
    "Algorithms are the steps to the solution of a problem. In programming we write code to \"implement\" these algorithms, so they can be \"executed\" on a computer to get a solution. \n",
    "\n",
    "\n",
    "## Programming Languages\n",
    "\"A programming language is any set of rules that converts [text], to various kinds of machine code output. Programming languages are one kind of computer language, and are used in computer programming to implement algorithms.\"` [2](https://en.wikipedia.org/wiki/Programming_language)\n",
    "\n",
    "\n",
    "### Syntax:\n",
    "Just as a spoken language has syntax, so does a computer programming language. The rules are just as strict for communicating properly. I cannot stress this highly enough, a computer can only understand machine code (a topic for later.) But a short description for now is that a computer can, using a program called a compiler/interpreter (or other similar concepts), convert the text of a program written in a programming language into it to machine code, which are instructions that it can execute. **If any of the code does not conform to the rules of the programming language that process will fail and you will not be able to run your code.**  At the end of the module there are examples of the programs that won't work because of \"syntax errors\". \n",
    "\n",
    "Just remember:\n",
    "**\"The computer does not speak english!\"**\"\""
   ]
  },
  {
   "cell_type": "markdown",
   "metadata": {},
   "source": [
    "## Your First Program\n",
    "\n",
    "There is a time honored tradition in the instruction of programming. The first program one is taught code is almost always the same. The program is called \"Hello World.\" We will continue this tradition.\n",
    "\n",
    "The purpose of Hello World is to print the text hello world to the output. (You can run this \"Program\" by clicking the start button to the left of the code.)"
   ]
  },
  {
   "cell_type": "code",
   "execution_count": null,
   "metadata": {},
   "outputs": [],
   "source": [
    "println(\"Hello World!\")"
   ]
  },
  {
   "cell_type": "markdown",
   "metadata": {},
   "source": [
    "Let's break down set of each characters on the screen: \n",
    "\n",
    "- println(   )\n",
    "  - This is the function we are calling, it prints a line of text to the output. The println is a function provided by the julia. A function in programming can be thought of in the same way as one thinks about a function in mathematics. It has parameters and \"returns\" an output. In mathematics it is always numbers in and numbers out. In programming we have more freedom to express other ideas through functions. \n",
    "  - The println function takes one value, in this case some text.\n",
    "- ```\"Hello World!\"``` \n",
    "  - This is a \"string\" of text. Using the ```\"``` symbol defines the beginning and end of a string. \n",
    "\n",
    "\n",
    "## Another Example\n",
    "What do you think it will print? Will it work?"
   ]
  },
  {
   "cell_type": "code",
   "execution_count": null,
   "metadata": {},
   "outputs": [],
   "source": [
    "print(\"My Favorite Number is: \")\n",
    "print(7)"
   ]
  },
  {
   "cell_type": "markdown",
   "metadata": {},
   "source": [
    "<details>\n",
    "  <summary>Run Code then click to expand Explanation</summary>\n",
    "  \n",
    "  Notice we used a different function print() vs println(). The difference between the print function and the println function is that the println function starts a new line at the end of the output.  \n",
    " \n",
    "  Copy and Paste the following into the box below and execute the code to see the difference\n",
    "  ```\n",
    "  println(\"My Favorite Number is: \")\n",
    "  println(7)\n",
    "  ```\n",
    "\n",
    "</details>\n"
   ]
  },
  {
   "cell_type": "code",
   "execution_count": null,
   "metadata": {},
   "outputs": [],
   "source": [
    "# Remove this line and copy and paste here"
   ]
  },
  {
   "cell_type": "markdown",
   "metadata": {},
   "source": [
    "## Before we move any further... \n",
    "As we move along in this tutorial I will be introducing some attributes and concepts that key to learning to be a programmer and being what some call a \"software-craftsman\" (yes there is a difference.) I will introduce them as early as they can be relevant, helpful, and instructive. \n",
    "\n",
    "The first lesson (which actually is relevant outside of just programming):\n",
    "**Google your exact question and look at the top few results before you ask anyone for help. Especially when you are first starting out, you will likely find the answer. \n",
    "**\n",
    "\n",
    "As you gain more experience you will get better at phrasing your questions. There are a lot of new terms to learn for programming. There is no need to learn it all at once, taking it one step at a time is a good thing. \n",
    "\n",
    "## Exercise 1 \n",
    "Google this exact phrase \"How do I get the square root of a number in julia\" and see if you can output the square root of 25 to the screen."
   ]
  },
  {
   "cell_type": "code",
   "execution_count": null,
   "metadata": {},
   "outputs": [],
   "source": []
  },
  {
   "cell_type": "markdown",
   "metadata": {},
   "source": [
    "# Comments \n",
    "A comment in code is text that is not executed by the computer but serves as explanation of the code by the programmer. This is also useful for **temporarily** removing a line from execution while debugging code.\n",
    "\n",
    "More on how and when to use comments can be found in [Software Engineering Concepts](/software-engineering-concepts.html)"
   ]
  },
  {
   "cell_type": "markdown",
   "metadata": {},
   "source": [
    "# Functions \n",
    "\"Functions are \"self contained\" modules of code that accomplish a specific task. Functions usually \"take in\" data, process it, and \"return\" a result. Once a function is written, it can be used over and over and over again. Functions can be \"called\" from the inside of other functions. Functions \"Encapsulate\" a task (they combine many instructions\" which can be used by other modules. \n",
    "\n",
    "The data they take in are called parameters, there none, one, or many. They perform some tasks and they return the result to the other code that called the function. Functions can call other functions. just like in math. \n",
    "\n",
    "$f(x) = xsin(x) + xcos(x)$\n",
    "\n",
    "Let's do an example. Lets put the code from our previous example into a function and call it. "
   ]
  },
  {
   "cell_type": "code",
   "execution_count": null,
   "metadata": {},
   "outputs": [],
   "source": [
    "function print_my_favorite_number(favorite_number)\n",
    "    print(\"My Favorite Number is: \")\n",
    "    print(favorite_number)\n",
    "end\n",
    "\n",
    "print_my_favorite_number(7)"
   ]
  },
  {
   "cell_type": "markdown",
   "metadata": {},
   "source": [
    "## Mathematical Operations \n",
    "\n",
    "All of the mathematical operations that you would expect to have are included in Julia. There are also many other functions to do other mathmetical operations. [Documentation](https://docs.julialang.org/en/v1/manual/mathematical-operations/) "
   ]
  },
  {
   "cell_type": "code",
   "execution_count": null,
   "metadata": {},
   "outputs": [],
   "source": [
    "println(1 + 1)\n",
    "println(1 - 1)\n",
    "println(5*5)\n",
    "println(3 / 1.5)\n",
    "println(11 ÷ 4) # this is an integer division\n",
    "println(11 % 4) # this is an division remainder\n",
    "println(2^8)\n",
    "println(2 > 1)\n",
    "println(round(2.4))\n",
    "println(abs(-23))\n",
    "# etc...\n"
   ]
  },
  {
   "cell_type": "markdown",
   "metadata": {},
   "source": [
    "## Types and Variables\n",
    "\n",
    "One main concept in writing code is the usage of \"variables.\" If you think of the code you write as one big function, there are two three types of elements: We discussed the first, which was calling other functions. The others are variables and constants. \n",
    "\n",
    "In mathematics, all variables and constants are numbers. In programming you have more freedom there are more than just numbers. We will not introduce all of these types at one, but introduce them as we go along. The following code shows how you \"initialize a variable\" with a particular type of data. \n",
    "\n",
    "The statements start with the name of the variable or constant (and optionally a type description), the equals sign (which in this context means \"assignment\") and then and the value. The Julia language and interpreter don't force you to declare what type a variable is like in other languages, however it is good practice to specify the variable type (depending on the context. More discussion of this in advanced topics)\n",
    "\n",
    "We will start with numbers, which come in two flavors, integers and decimal numbers called floating point numbers (Don't worry just yet what those mean, it has to do with how they are stored on a computer with how many bits of information). \n",
    "\n",
    "The next type is called boolean. A boolean can take the only one of two values, true or false. \n",
    "\n",
    "\n",
    "**TO DO make this explanation better (its easier to explain in person but some written out context is good)**"
   ]
  },
  {
   "cell_type": "code",
   "execution_count": null,
   "metadata": {},
   "outputs": [],
   "source": [
    "function some_variables()\n",
    "    the_number_one :: Int = 1 # an integer with the value of one\n",
    "    decimal_one :: Float32 = 1.0 # a floating point decimal number with the value of 1.0\n",
    "    does_jackson_like_icecream = true # a boolean with the value of true. \n",
    "    two_is_bigger_than_one = 2 > 1\n",
    "\n",
    "    added_numbers = the_number_one + decimal_one\n",
    "    println(added_numbers)\n",
    "end\n",
    "\n",
    "some_variables()\n"
   ]
  },
  {
   "cell_type": "markdown",
   "metadata": {},
   "source": [
    "## Control Flow\n",
    "\n",
    "### Boolean Logic \n",
    "\n",
    "### IF and ELSE statements\n",
    "\n",
    "**TODO Finish this section**"
   ]
  },
  {
   "cell_type": "markdown",
   "metadata": {},
   "source": [
    "## Syntax Errors "
   ]
  },
  {
   "cell_type": "code",
   "execution_count": null,
   "metadata": {},
   "outputs": [],
   "source": []
  }
 ],
 "metadata": {
  "kernelspec": {
   "display_name": "Julia 1.6.3",
   "language": "julia",
   "name": "julia-1.6"
  },
  "language_info": {
   "file_extension": ".jl",
   "mimetype": "application/julia",
   "name": "julia",
   "version": "1.6.3"
  }
 },
 "nbformat": 4,
 "nbformat_minor": 2
}
