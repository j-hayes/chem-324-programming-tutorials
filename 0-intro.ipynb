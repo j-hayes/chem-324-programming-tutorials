{
 "cells": [
  {
   "cell_type": "markdown",
   "metadata": {},
   "source": [
    "# Introduction and Overview\n",
    "\n",
    "## Meta Thoughts: \n",
    "\n",
    "### What are these pages and how do they work. \n",
    "\n",
    "These pages are called Jupyter notebooks. They allow one to run snippets of code in a web environment without any setup, downloads, or configuration. This dramatically reduces the learning curve for getting up and running on the first day. Just click the button up at the <i class=\"fas fa-rocket\"></i> button at the top and click the \"Binder\" link. It will open up an environment where you can run the code in these snippets as well as make edits and run your own code. More on this will be explained as we go along. \n",
    "\n",
    "### What we are and are not going to do in these tutorials:\n",
    "**We will** \n",
    "- learn how to think about problems like a programmer \n",
    "- learn how to learn like a programmer \n",
    "- learn to write programs \n",
    "- learn about the fundamentals of writing \"good\" code, good programming habits, and the principles of software-engineering.\n",
    "- learn how to do basic troubleshooting / debugging \n",
    "- learn how to make our lives scientists easier by using code. \n",
    "  - Do Math\n",
    "  - Process Data\n",
    "\n",
    "**We won't**\n",
    "- talk about how computers work unless absolutely necessary \n",
    "- \"master\" the skill of programming\n",
    "\n",
    "\n",
    "\n",
    "## Computational thinking: \n",
    "You may or may not know it, but you have been taught some concepts about how to think like a programmer all your life. The first step to writing code is to understand what is is you are going to do, that is what are you going to \"compute.\" Like science and engineering problems, first the ideas must be understood, then described in equations. Only then can the \"answers\" be acquired. \n",
    "\n",
    "Using computational thinking one has the tools required to synthesize problems and arrive at their solutions. \n",
    "\n",
    "### Decomposition\n",
    "\n",
    "breaking down a complex problem or system into smaller, more manageable parts\n",
    "- \"Don't solve the whole problem at once.\"\n",
    "\n",
    "### Pattern recognition\n",
    "\n",
    "looking for similarities among and within problems\n",
    "- \"Have I done something similar before?\"\n",
    "- \"Don't reinvent the wheel\"\n",
    "\n",
    "### Abstraction\n",
    "\n",
    "focusing on the important information only, ignoring irrelevant detail\n",
    "- \"Synthesize the real world concept into the necessary information for solving the problem\"\n",
    "- \"Model the real system, concept, etc. with data and procedures\" \n",
    "\n",
    "### Algorithms\n",
    "\n",
    "developing a step-by-step solution to the problem, or the rules to follow to solve the problem\n",
    "- examples in day to day life\n",
    "  - Cooking Recipes\n",
    "  - Directions from your house to the grocery store\n",
    "  - Sorting Papers in alphabetical order\n",
    "  - Performing mathematical operations using PEMDAS.\n",
    "\n",
    "Algorithms are the steps to the solution of a problem. In programming we write code to \"implement\" these algorithms, so they can be \"executed\" on a computer to get a solution. \n",
    "\n",
    "[Source: ctpdonline.org](https://ctpdonline.org/computational-thinking/)\n",
    "\n",
    "## Programming Languages\n",
    "\"A programming language is any set of rules that converts [text], to various kinds of machine code output. Programming languages are one kind of computer language, and are used in computer programming to implement algorithms.\"` [2](https://en.wikipedia.org/wiki/Programming_language)\n",
    "\n",
    "\n",
    "### Syntax:\n",
    "Just as a spoken language has syntax, so does a computer programming language. The rules are just as strict for communicating properly. I cannot stress this highly enough, a computer can only understand machine code (a topic for later.) But a short description for now is that a computer can, using a program called a compiler/interpreter (or other similar concepts), convert the text of a program written in a programming language into it to machine code, which are instructions that it can execute. **If any of the code does not conform to the rules of the programming language that process will fail and you will not be able to run your code.**  At the end of the module there are examples of the programs that won't work because of \"syntax errors\". \n",
    "\n",
    "Just remember:\n",
    "**\"The computer does not speak english!\"**\"\""
   ]
  },
  {
   "cell_type": "markdown",
   "metadata": {},
   "source": [
    "## Your First Program\n",
    "\n",
    "There is a time honored tradition in the instruction of programming. The first program one is taught code is almost always the same. The program is called \"Hello World.\" We will continue this tradition.\n",
    "\n",
    "The purpose of Hello World is to print the text hello world to the output.  It seems trivial but one uses it all the time when setting up a new computer, or installing a programming language, it proves that the system is working. \n",
    "\n",
    "(You can run this \"Program\" by clicking the start button in the top menu or hitting SHIFT+ENTER while you have the cell selected.)"
   ]
  },
  {
   "cell_type": "code",
   "execution_count": null,
   "metadata": {},
   "outputs": [],
   "source": [
    "println(\"Hello World!\")"
   ]
  },
  {
   "cell_type": "markdown",
   "metadata": {},
   "source": [
    "Let's break down set of each characters on the screen: \n",
    "\n",
    "- println(   )\n",
    "  - This is the function we are calling, it prints a line of text to the output. The println is a function provided by the julia. A function in programming can be thought of in the same way as one thinks about a function in mathematics. It has parameters and \"returns\" an output. In mathematics it is always numbers in and numbers out. In programming we have more freedom to express other ideas through functions. \n",
    "  - The println function takes one value, in this case some text.\n",
    "- ```\"Hello World!\"``` \n",
    "  - This is a \"string\" of text. Using the ```\"``` symbol defines the beginning and end of a string. \n",
    "\n",
    "\n",
    "## Another Example\n",
    "What do you think it will print? Will it work?"
   ]
  },
  {
   "cell_type": "code",
   "execution_count": null,
   "metadata": {},
   "outputs": [],
   "source": [
    "print(\"My Favorite Number is: \")\n",
    "print(7)"
   ]
  },
  {
   "cell_type": "markdown",
   "metadata": {},
   "source": [
    "<details>\n",
    "  <summary>Run Code then click to expand Explanation</summary>\n",
    "  \n",
    "  Notice we used a different function print() vs println(). The difference between the print function and the println function is that the println function starts a new line at the end of the output.  \n",
    " \n",
    "  Copy and Paste the following into the box below and execute the code to see the difference\n",
    "  ```\n",
    "  println(\"My Favorite Number is: \")\n",
    "  println(7)\n",
    "  ```\n",
    "\n",
    "</details>\n"
   ]
  },
  {
   "cell_type": "code",
   "execution_count": null,
   "metadata": {},
   "outputs": [],
   "source": [
    "# Remove this line and copy and paste here"
   ]
  },
  {
   "cell_type": "markdown",
   "metadata": {},
   "source": [
    "## Before we move any further... \n",
    "As we move along in this tutorial I will be introducing some attributes and concepts that key to learning to be a programmer and being what some call a \"software-craftsman\" (yes there is a difference.) I will introduce them as early as they can be relevant, helpful, and instructive. \n",
    "\n",
    "The first lesson (which actually is relevant outside of just programming):\n",
    "**Google your exact question and look at the top few results before you ask anyone for help. Especially when you are first starting out, you will likely find the answer. \n",
    "**\n",
    "\n",
    "As you gain more experience you will get better at phrasing your questions. There are a lot of new terms to learn for programming. There is no need to learn it all at once, taking it one step at a time is a good thing. \n",
    "\n",
    "## Exercise 1 \n",
    "Google this exact phrase \"How do I get the square root of a number in julia\" and see if you can output the square root of 25 to the screen."
   ]
  },
  {
   "cell_type": "code",
   "execution_count": null,
   "metadata": {},
   "outputs": [],
   "source": []
  },
  {
   "cell_type": "markdown",
   "metadata": {},
   "source": [
    "## Comments \n",
    "A comment in code is text that is not executed by the computer but serves as explanation of the code by the programmer. This is also useful for **temporarily** removing a line from execution while debugging code.\n",
    "\n",
    "More on how and when to use comments can be found in [Software Engineering Concepts](advanced/0-software-engineering-concepts.ipynb)\n",
    "\n",
    "In Julia this is done by putting the # character before some text.\n",
    "\n",
    "Examples:"
   ]
  },
  {
   "cell_type": "code",
   "execution_count": null,
   "metadata": {},
   "outputs": [],
   "source": [
    "# This is a comment \n",
    "#= \n",
    "This is a \n",
    "multi line \n",
    "comment\n",
    "=# \n",
    "\n",
    "println(\"hello world\") #this is an end of line comment "
   ]
  },
  {
   "cell_type": "markdown",
   "metadata": {},
   "source": [
    "## Functions \n",
    "\"Functions are \"self contained\" modules of code that accomplish a specific task. Functions usually \"take in\" data, process it, and \"return\" a result. Once a function is written, it can be used over and over and over again. Functions can be \"called\" from the inside of other functions. Functions \"Encapsulate\" a task (they combine many instructions\" which can be used by other modules. \n",
    "\n",
    "The data they take in are called parameters, there can be none, one, or many. They perform some task(s) and they return the result to the other code that called the function. Functions can call other functions, just like in math. \n",
    "\n",
    "$f(x) = xsin(x) + xcos(x)$\n",
    "\n",
    "Let's do an example. Lets put the code from our previous example into a function and call it. "
   ]
  },
  {
   "cell_type": "code",
   "execution_count": null,
   "metadata": {},
   "outputs": [],
   "source": [
    "function print_my_favorite_number(favorite_number)\n",
    "    print(\"My Favorite Number is: \")\n",
    "    print(favorite_number)\n",
    "end\n",
    "\n",
    "print_my_favorite_number(7)"
   ]
  },
  {
   "cell_type": "markdown",
   "metadata": {},
   "source": [
    "## Syntax Errors \n",
    "\n",
    "A syntax error is where there is some code that is not \"valid.\" Julia tries to execute the code, but it cannot understand it, so it has to terminate the program. Here is an example: can you find the error? \n",
    "\n",
    "Copy the following into the box below and run it: \n",
    "```julia\n",
    "println(\"hello world\" \n",
    "\n",
    "``` \n"
   ]
  },
  {
   "cell_type": "code",
   "execution_count": null,
   "metadata": {},
   "outputs": [],
   "source": [
    "# Remove this line and copy and paste here\n"
   ]
  },
  {
   "cell_type": "markdown",
   "metadata": {},
   "source": [
    "The main takeaway here is: **Code has to be precise, it isn't like a human language where if it is close people will understand it. If it is a little wrong, it won't run at all.**\n",
    "\n",
    "This kind of thing will come up often as you are writing code. Thankfully there are tools called \"Integrated Development Environments\" that will underline code that is incorrect. More on this later. For now know that often the best thing to do, if you can't figure out the error, is copy and paste the exact error message you get, such as \"syntax: incomplete: premature end of input\" and put it into google, usually you can find an answer. "
   ]
  },
  {
   "cell_type": "markdown",
   "metadata": {},
   "source": [
    "## Mathematical Operations \n",
    "\n",
    "All of the mathematical operations that you would expect to have are included in Julia. There are also many other functions to do other mathmetical operations. [Documentation](https://docs.julialang.org/en/v1/manual/mathematical-operations/) "
   ]
  },
  {
   "cell_type": "code",
   "execution_count": null,
   "metadata": {},
   "outputs": [],
   "source": [
    "println(1 + 1)\n",
    "println(1 - 1)\n",
    "println(5*5)\n",
    "println(3 / 1.5)\n",
    "println(11 ÷ 4) # this is an integer division\n",
    "println(11 % 4) # this is an division remainder\n",
    "println(2^8)\n",
    "println(2 > 1)\n",
    "println(round(2.4))\n",
    "println(abs(-23))\n",
    "# etc...\n"
   ]
  },
  {
   "cell_type": "markdown",
   "metadata": {},
   "source": [
    "Now lets do a function that \"returns\" a numerical result. "
   ]
  },
  {
   "cell_type": "code",
   "execution_count": null,
   "metadata": {},
   "outputs": [],
   "source": [
    "function square_root(number)\n",
    "    return number ^ (1/2)\n",
    "end\n",
    "\n",
    "println(square_root(16))\n",
    "println(square_root(square_root(16))) # notice that you can nest function calls just like in math f(g(x)) or in this case f(f(x))"
   ]
  },
  {
   "cell_type": "markdown",
   "metadata": {},
   "source": [
    "## Types and Variables\n",
    "\n",
    "One main concept in writing code is the usage of \"variables.\" If you think of the code you write as one big function, there are two three types of elements: We discussed the first, which was calling other functions, e.g. the sine function in ```f(x) = 15*x * sin(x)```. The others are variables and constants. \n",
    "\n",
    "In mathematics, all variables and constants are numbers, e.g. in ```f(x) = 15*x * sin(x)``` 15 is a constant and x is the variable. However, in programming you have more freedom there are more than just numbers. We will not introduce all of these types at one, but introduce them as we go along. The following code shows how you \"initialize a variable\" with a particular type of data. \n",
    "\n",
    "The statements start with the name of the variable or constant (and optionally a type description), the equals sign (which in this context means \"assignment\") and then and the value. The Julia language and interpreter don't force you to declare what type a variable is like in many other languages, however it is good practice to specify the variable type (more discussion of this in advanced topics).\n",
    "\n",
    "### Numbers\n",
    "We will start with numbers, which come in two main \"flavors\", \n",
    "- integers \n",
    "  - whole numbers, e.g. 0, 1, -15, 256, 1202, etc \n",
    "- decimal numbers called floating point numbers \n",
    "  - (Don't worry just yet what those mean, it has to do with how they are stored on a computer with how many bits of information). \n",
    "  - e.g. 0.000000, 1.2, -12.34, etc.\n",
    "- Many operations in Julia can be used with floats and integer without having to specify the specific type of number. in that case you can use ```Number```. \n"
   ]
  },
  {
   "cell_type": "code",
   "execution_count": null,
   "metadata": {},
   "outputs": [],
   "source": [
    "an_integer = 0 \n",
    "a_float = -10.2\n",
    "float_zero = 0.0000\n",
    "\n",
    "println(an_integer)\n",
    "println(a_float)\n",
    "println(float_zero)"
   ]
  },
  {
   "cell_type": "markdown",
   "metadata": {},
   "source": [
    "\n",
    "### Boolean \n",
    "The next type is called boolean:\n",
    "A boolean can take the only one of two values:\n",
    "- true \n",
    "- false\n",
    "- an example of how this is used is when comparing two values. \n",
    "  - example of true statement: ```1 + 2 > 2```\n",
    "  - example of a false statement: ```1 > 3```\n",
    "\n",
    "### Value Comparison\n",
    "Boolean values often come from comparison of two values. We saw above how we could compare two numbers in the mathematical way. This concept can be applied to many other types of variables. The most important extension of this mathematical idea is the idea of \"equality.\" An equality check is performed by using the ```==``` operation. The opposite, non-equality, can be checked with the ```!=``` operation.\n",
    "\n",
    "Example: \n",
    "```julia \n",
    "are_they_equal = 12 == 3*4\n",
    "are_the_strings_equal = \"Hello world\" == \"Hello universe\" \n",
    "\n",
    "println(are_they_equal)\n",
    "println(are_the_strings_equal)\n",
    "\n",
    "```\n"
   ]
  },
  {
   "cell_type": "code",
   "execution_count": null,
   "metadata": {},
   "outputs": [],
   "source": [
    "are_they_equal = 12 == 3*4\n",
    "are_the_strings_equal = \"Hello world\" == \"Hello universe\" \n",
    "are_the_strings_not_equal = \"Hello world\" != \"Hello universe\" \n",
    "\n",
    "\n",
    "println(are_they_equal)\n",
    "println(are_the_strings_equal)\n",
    "println(are_the_strings_not_equal)"
   ]
  },
  {
   "cell_type": "markdown",
   "metadata": {},
   "source": [
    "The use of = and == may not be intuitive at first. We are used to the \"=\" meaning equal to. In programming \"=\" is the assignment operator and \"==\" is \"are the left and right equal?\""
   ]
  },
  {
   "cell_type": "markdown",
   "metadata": {},
   "source": [
    "\n",
    "#### First Boolean Operator: Not \n",
    "With boolean variables, there is an operator that flips the value to the other value. i.e. a value of true is converted into false, a value of false is converted to true. The syntax is to put a ```!``` symbol in front of the variable. The way it is said is not, e.g. ```!x``` is said not x. \n"
   ]
  },
  {
   "cell_type": "code",
   "execution_count": null,
   "metadata": {},
   "outputs": [],
   "source": [
    "my_boolean = true\n",
    "print(\"my_boolean = \")\n",
    "println(my_boolean)\n",
    "not_my_boolean = !my_boolean\n",
    "print(\"not_my_boolean = \")\n",
    "println(not_my_boolean)\n",
    "\n",
    "print(\"! not_my_boolean = \")\n",
    "println(!not_my_boolean)"
   ]
  },
  {
   "cell_type": "markdown",
   "metadata": {},
   "source": [
    "In the above you can see that ```!!x``` is equal to ```x```.\n",
    "\n",
    "This can be extended to as many times as you want. An odd number of !s is the same as one !. An even number of !s is the same as the original value. "
   ]
  },
  {
   "cell_type": "markdown",
   "metadata": {},
   "source": [
    "### Example Function\n",
    "Below is a function that initializes some variables."
   ]
  },
  {
   "cell_type": "code",
   "execution_count": null,
   "metadata": {},
   "outputs": [],
   "source": [
    "function some_variables(input_variable:: Int)\n",
    "    the_number_one :: Int = 1 # an integer with the value of one\n",
    "    decimal_one :: Float32 = 1.0 # a floating point decimal number with the value of 1.0\n",
    "    does_jackson_like_icecream :: Bool = true # a boolean with the value of true. \n",
    "    two_is_bigger_than_one = 2 > 1\n",
    "   \n",
    "\n",
    "    added_numbers = the_number_one + decimal_one\n",
    "    println(input_variable * added_numbers)\n",
    "    print(\"Does Jackson Like Ice Cream \")\n",
    "    println(does_jackson_like_icecream)\n",
    "\n",
    "end\n",
    "const unchanging_number = 15 # a global constant value\n",
    "\n",
    "some_variables(unchanging_number)\n",
    "some_variables(30)\n"
   ]
  },
  {
   "cell_type": "markdown",
   "metadata": {},
   "source": [
    "### Variable names\n",
    "as long as the variables follow the allowed syntax (don't use any disallowed characters) you can name a variable anything you want. It is always recommended to use variable names that describe what the variable is. \n",
    "\n",
    "```address = \"123 main street\"```\n",
    "\n",
    "is preferred to \n",
    "\n",
    "```input_string = \"123 main street\" ```\n",
    "\n",
    "or worse still \n",
    "\n",
    "```x = \"123 main street\"```\n",
    "\n",
    "A great book on coding \"style\": \n",
    "[Clean Code by Robert C. Martin](https://www.oreilly.com/library/view/clean-code-a/9780136083238/)\n",
    "\n",
    "A quick summary of my thoughts on style can be found in the [Software Engineering](./advanced/0-software-engineering-concepts.ipynb) page.\n"
   ]
  },
  {
   "cell_type": "markdown",
   "metadata": {},
   "source": [
    "## Control Flow\n",
    "\n",
    "Control flow is changing what your code does based on the values that are passed in (the \"state\" of the system).\n",
    "\n",
    "This is accomplished by using boolean values, which again can either take the value of true or false. These boolean values used in a conditional statement that decides what to do based on the truth of the value passed in. These statements are called if-else statements. \n",
    "\n",
    "lets start with a statement that only has an if. \n",
    "\n",
    "The syntax is: \n",
    "```julia\n",
    "\n",
    "if 2 > 1\n",
    "    print(\"This is always printed because 2 is always greater than 1\")\n",
    "end \n",
    "\n",
    "```"
   ]
  },
  {
   "cell_type": "code",
   "execution_count": null,
   "metadata": {},
   "outputs": [],
   "source": [
    "# copy the code here"
   ]
  },
  {
   "cell_type": "markdown",
   "metadata": {},
   "source": [
    "Now an if-else in a function where we can control what the function does by changing the input. In the following example we have some code that might be used in a retail store application. In our hypothetical \"store\" we sell one item that is sometimes on sale for 30% off. "
   ]
  },
  {
   "cell_type": "code",
   "execution_count": null,
   "metadata": {},
   "outputs": [],
   "source": [
    "function get_item_price(give_discount::Bool)\n",
    "    item_price = 100.00\n",
    "    if give_discount\n",
    "        return .7 * item_price\n",
    "    else\n",
    "        return item_price\n",
    "    end\n",
    "end\n",
    "\n",
    "println(get_item_price(false))\n",
    "println(get_item_price(true))\n"
   ]
  },
  {
   "cell_type": "markdown",
   "metadata": {},
   "source": [
    "### Boolean Operations and Logic \n",
    "There are several operations that one can apply to boolean values. Several of them we have already discussed. \n",
    "These operations are:\n",
    "- == (Equality)\n",
    "- != (Inequalty)\n",
    "- ! (not)\n",
    "- && \"And\" (Are both values true)\n",
    "- || \"Or\" (Is either one true)\n",
    "\n",
    "Examples: \n",
    "```julia\n",
    "println(\"true and true is: $(true && true)\") # $() converts values into a string \"inline\"\n",
    "println(\"true and false is: $(true && false)\")\n",
    "println(\"false and true is: $(false && true)\")\n",
    "println(\"false and false is: $(false && false)\")\n",
    "\n",
    "println()\n",
    "println(\"true or true is: $(true || true)\")\n",
    "println(\"false or false is: $(true || true)\")\n",
    "```\n",
    "\n"
   ]
  },
  {
   "cell_type": "code",
   "execution_count": null,
   "metadata": {},
   "outputs": [],
   "source": [
    "println(\"true and true is: $(true && true)\") # $() converts values into a string \"inline\"\n",
    "println(\"true and false is: $(true && false)\")\n",
    "println(\"false and true is: $(false && true)\")\n",
    "println(\"false and true is: $(false && false)\")\n",
    "\n",
    "println()\n",
    "println(\"true or true is: $(true || true)\")\n",
    "println(\"true or false is: $(true || false)\")\n",
    "println(\"false or false is: $(false || false)\")"
   ]
  },
  {
   "cell_type": "markdown",
   "metadata": {},
   "source": [
    "Below is an example of using booleans to control flow, using the operations we have discussed above. We will test check against known names and email addresses and say if they are in \"our contacts.\" What this shows is that you can do the same kind of thing two different ways with booleans. The first way in both cases is better, but the second can help you better understand what ```&&``` and ```||``` do. "
   ]
  },
  {
   "cell_type": "code",
   "execution_count": null,
   "metadata": {},
   "outputs": [],
   "source": [
    "\n",
    "function print_is_in_contacts_message(name::String, email_address::String) :: String\n",
    "    #an example of how the && operation works\n",
    "    is_jackson_message = \"I am this person!\"\n",
    "    if name == \"Jackson\" && email_address == \"jhayes1@iastate.edu\"\n",
    "        return is_jackson_message        \n",
    "    end \n",
    "\n",
    "    if name == \"Jackson\"\n",
    "        if email_address == \"jhayes1@iastate.edu\"\n",
    "            return is_jackson_message # this code is unreachable because the if block is the same as the check above\n",
    "        end         \n",
    "    end\n",
    "    \n",
    "    # here we show that || is like doing two if statements that both do the same thing\n",
    "    if name == \"Joe\" || email_address == \"joechem@iastate.edu\"\n",
    "        return \"I know $(name)\"\n",
    "    end \n",
    "    if name == \"Nick\" \n",
    "        return \"I know $(name)\"\n",
    "    elseif email_address == \"nick@iastate.edu\"\n",
    "        return \"I know $(name)\"\n",
    "    end\n",
    "\n",
    "    return \"I don't know this person\"\n",
    "    \n",
    "end\n",
    "\n",
    "# output = print_is_in_contacts_message(\"Jackson\", \"jhayes1@iastate.edu\")\n",
    "# println(output)\n",
    "\n",
    "# output = print_is_in_contacts_message(\"Joe\", \"joeWrongEmail@blah.edu\")\n",
    "# println(output)\n",
    "\n",
    "# output = print_is_in_contacts_message(\"Nick\", \"nick@iastate.edu\")\n",
    "# println(output)\n",
    "\n",
    "# output = print_is_in_contacts_message(\"Sam\", \"sam@blahblah.edu\")\n",
    "# println(output)"
   ]
  }
 ],
 "metadata": {
  "kernelspec": {
   "display_name": "Julia 1.6.3",
   "language": "julia",
   "name": "julia-1.6"
  },
  "language_info": {
   "file_extension": ".jl",
   "mimetype": "application/julia",
   "name": "julia",
   "version": "1.6.3"
  },
  "orig_nbformat": 4
 },
 "nbformat": 4,
 "nbformat_minor": 2
}
